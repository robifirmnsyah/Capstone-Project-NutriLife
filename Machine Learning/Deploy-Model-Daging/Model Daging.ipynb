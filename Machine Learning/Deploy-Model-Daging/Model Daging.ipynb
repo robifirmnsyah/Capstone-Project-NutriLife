{
  "cells": [
    {
      "cell_type": "markdown",
      "source": [
        "## **MEAT 🥩🍗: IMAGE DETECTION, NUTRITIONS INFORMATION, CLOSEST NUTRITIONS RECOMMENDATION, AND RECIPES RECOMMENDATION**\n",
        "\n",
        "---"
      ],
      "metadata": {
        "id": "9zy3sQWWKLW0"
      }
    },
    {
      "cell_type": "markdown",
      "source": [
        "Food is one thing that cannot be separated from people’s lives. But, food can affect everything such as the immune system and heart health, and many more. Eating food  that has imbalanced nutrition or isn't nutritious will cause problems like malnutrition or being overweight. So, we should have an education about food nutrition and we can decide which food that have a balance nutrition. Becausse they often ate food with large amount but they don't know about the nutritions in it. Therefore, we decide to make an application to educate and help controlling daily nutritions with some features in our application. This category is about Meat which are chicken or duck, beef, squid, octopus,liver, shrimp, fish, crab, shell,lobster, intestines, and cow skin.\n",
        "\n",
        "\n",
        "\n",
        "\n",
        "\n"
      ],
      "metadata": {
        "id": "FNNKjtIXKbfW"
      }
    },
    {
      "cell_type": "markdown",
      "source": [
        "## **CONNECTING GOOGLE COLLAB WITH GOOGLE DRIVE**"
      ],
      "metadata": {
        "id": "cc5QPlP2Lg3o"
      }
    },
    {
      "cell_type": "code",
      "execution_count": 1,
      "metadata": {
        "colab": {
          "base_uri": "https://localhost:8080/"
        },
        "id": "VADbt18RWDim",
        "outputId": "3aedc9cb-960b-4176-c896-f0639bc55f25"
      },
      "outputs": [
        {
          "output_type": "stream",
          "name": "stdout",
          "text": [
            "Mounted at /content/drive/\n"
          ]
        }
      ],
      "source": [
        "from google.colab import drive\n",
        "import os\n",
        "\n",
        "drive.mount(\"/content/drive/\")"
      ]
    },
    {
      "cell_type": "code",
      "execution_count": null,
      "metadata": {
        "colab": {
          "base_uri": "https://localhost:8080/"
        },
        "id": "2ZkGa2FbVNQi",
        "outputId": "ce479e2a-b8cc-4466-d178-b9ec2637e44e"
      },
      "outputs": [
        {
          "output_type": "stream",
          "name": "stdout",
          "text": [
            "/bin/bash: ls/content/drive/MyDrive/Capstone/Data Campuran/daging: No such file or directory\n"
          ]
        }
      ],
      "source": [
        "base_dir=\"/content/drive/MyDrive/Capstone/Data Campuran/daging\"\n",
        "!ls\"/content/drive/MyDrive/Capstone/Data Campuran/daging\""
      ]
    },
    {
      "cell_type": "code",
      "execution_count": null,
      "metadata": {
        "id": "sFJXg6aZVdhe"
      },
      "outputs": [],
      "source": [
        "#Menentukan direktori\n",
        "bahan_dir=os.path.join(base_dir,\"Bahan/\")\n",
        "latih_dir=os.path.join(base_dir,\"train/\")\n",
        "test_dir=os.path.join(base_dir,\"test/\")\n",
        "val_dir=os.path.join(base_dir,\"validation/\")"
      ]
    },
    {
      "cell_type": "code",
      "execution_count": null,
      "metadata": {
        "colab": {
          "base_uri": "https://localhost:8080/"
        },
        "id": "gcgZg0yXXIS6",
        "outputId": "2de7a925-7fa4-4fd0-fe55-93d12118225b"
      },
      "outputs": [
        {
          "output_type": "stream",
          "name": "stdout",
          "text": [
            "Jumlah gambar Cumi Cumi : 167\n",
            "Jumlah gambar Daging Sapi : 150\n",
            "Jumlah gambar Daging Unggas : 150\n",
            "Jumlah gambar Gurita : 147\n",
            "Jumlah gambar Ikan : 150\n",
            "Jumlah gambar Jeroan : 150\n",
            "Jumlah gambar Kepiting : 157\n",
            "Jumlah gambar Kerang : 150\n",
            "Jumlah gambar Kikil : 153\n",
            "Jumlah gambar Lobster : 150\n",
            "Jumlah gambar Udang : 155\n",
            "Jumlah gambar Usus : 150\n"
          ]
        }
      ],
      "source": [
        "#Menentukan direktori isi bahan\n",
        "Cumi_Cumi_dir=os.path.join(bahan_dir,\"Cumi Cumi/\")\n",
        "Daging_Sapi_dir=os.path.join(bahan_dir,\"Daging Sapi/\")\n",
        "Daging_Unggas_dir=os.path.join(bahan_dir,\"Daging Unggas/\")\n",
        "Gurita_dir=os.path.join(bahan_dir,\"Gurita/\")\n",
        "Ikan_dir=os.path.join(bahan_dir,\"Ikan/\")\n",
        "Jeroan_dir=os.path.join(bahan_dir,\"Jeroan/\")\n",
        "Kepiting_dir=os.path.join(bahan_dir,\"Kepiting/\")\n",
        "Kerang_dir=os.path.join(bahan_dir,\"Kerang/\")\n",
        "Kikil_dir=os.path.join(bahan_dir,\"Kikil/\")\n",
        "Lobster_dir=os.path.join(bahan_dir,\"Lobster/\")\n",
        "Udang_dir=os.path.join(bahan_dir,\"Udang/\")\n",
        "Usus_dir=os.path.join(bahan_dir,\"Usus/\")\n",
        "\n",
        "print(\"Jumlah gambar Cumi Cumi :\", len(os.listdir(Cumi_Cumi_dir)))\n",
        "print(\"Jumlah gambar Daging Sapi :\", len(os.listdir(Daging_Sapi_dir)))\n",
        "print(\"Jumlah gambar Daging Unggas :\", len(os.listdir(Daging_Unggas_dir)))\n",
        "print(\"Jumlah gambar Gurita :\", len(os.listdir(Gurita_dir)))\n",
        "print(\"Jumlah gambar Ikan :\", len(os.listdir(Ikan_dir)))\n",
        "print(\"Jumlah gambar Jeroan :\", len(os.listdir(Jeroan_dir)))\n",
        "print(\"Jumlah gambar Kepiting :\", len(os.listdir(Kepiting_dir)))\n",
        "print(\"Jumlah gambar Kerang :\", len(os.listdir(Kerang_dir)))\n",
        "print(\"Jumlah gambar Kikil :\", len(os.listdir(Kikil_dir)))\n",
        "print(\"Jumlah gambar Lobster :\", len(os.listdir(Lobster_dir)))\n",
        "print(\"Jumlah gambar Udang :\", len(os.listdir(Udang_dir)))\n",
        "print(\"Jumlah gambar Usus :\", len(os.listdir(Usus_dir)))\n"
      ]
    },
    {
      "cell_type": "code",
      "execution_count": null,
      "metadata": {
        "id": "e-IIeo93ZW61"
      },
      "outputs": [],
      "source": [
        "#Direktori isi latih/ training data\n",
        "train_Cumi_Cumi=os.path.join(latih_dir,\"Cumi Cumi/\")\n",
        "train_Daging_Sapi=os.path.join(latih_dir,\"Daging Sapi/\")\n",
        "train_Daging_Unggas=os.path.join(latih_dir,\"Daging Unggas/\")\n",
        "train_Gurita=os.path.join(latih_dir,\"Gurita/\")\n",
        "train_Ikan=os.path.join(latih_dir,\"Ikan/\")\n",
        "train_Jeroan=os.path.join(latih_dir,\"Jeroan/\")\n",
        "train_Kepiting=os.path.join(latih_dir,\"Kepiting/\")\n",
        "train_Kerang=os.path.join(latih_dir,\"Kerang/\")\n",
        "train_Kikil=os.path.join(latih_dir,\"Kikil/\")\n",
        "train_Lobster=os.path.join(latih_dir,\"Lobster/\")\n",
        "train_Udang=os.path.join(latih_dir,\"Udang/\")\n",
        "train_Usus=os.path.join(latih_dir,\"Usus/\")\n",
        "\n",
        "#Direktori isi validasi\n",
        "val_Cumi_Cumi=os.path.join(val_dir,\"Cumi Cumi/\")\n",
        "val_Daging_Sapi=os.path.join(val_dir,\"Daging Sapi/\")\n",
        "val_Daging_Unggas=os.path.join(val_dir,\"Daging Unggas/\")\n",
        "val_Gurita=os.path.join(val_dir,\"Gurita/\")\n",
        "val_Ikan=os.path.join(val_dir,\"Ikan/\")\n",
        "val_Jeroan=os.path.join(val_dir,\"Jeroan/\")\n",
        "val_Kepiting=os.path.join(val_dir,\"Kepiting/\")\n",
        "val_Kerang=os.path.join(val_dir,\"Kerang/\")\n",
        "val_Kikil=os.path.join(val_dir,\"Kikil/\")\n",
        "val_Lobster=os.path.join(val_dir,\"Lobster/\")\n",
        "val_Udang=os.path.join(val_dir,\"Udang/\")\n",
        "val_Usus=os.path.join(val_dir,\"Usus/\")\n",
        "\n",
        "#Direktori isi test\n",
        "test_Cumi_Cumi=os.path.join(test_dir,\"Cumi Cumi/\")\n",
        "test_Daging_Sapi=os.path.join(test_dir,\"Daging Sapi/\")\n",
        "test_Daging_Unggas=os.path.join(test_dir,\"Daging Unggas/\")\n",
        "test_Gurita=os.path.join(test_dir,\"Gurita/\")\n",
        "test_Ikan=os.path.join(test_dir,\"Ikan/\")\n",
        "test_Jeroan=os.path.join(test_dir,\"Jeroan/\")\n",
        "test_Kepiting=os.path.join(test_dir,\"Kepiting/\")\n",
        "test_Kerang=os.path.join(test_dir,\"Kerang/\")\n",
        "test_Kikil=os.path.join(test_dir,\"Kikil/\")\n",
        "test_Lobster=os.path.join(test_dir,\"Lobster/\")\n",
        "test_Udang=os.path.join(test_dir,\"Udang/\")\n",
        "test_Usus=os.path.join(test_dir,\"Usus/\")"
      ]
    },
    {
      "cell_type": "markdown",
      "metadata": {
        "id": "MtASwMLTa94g"
      },
      "source": [
        "## **Preparing the Dataset and Splitting the Data into Training, Testing, and Validation**"
      ]
    },
    {
      "cell_type": "code",
      "execution_count": null,
      "metadata": {
        "id": "zUo4bywWa49y"
      },
      "outputs": [],
      "source": [
        "import random\n",
        "from shutil import copyfile\n",
        "\n",
        "def split_data(source, train, val, test, train_ratio, val_ratio):\n",
        "  total_size = len(os.listdir(source))\n",
        "  train_size = int(train_ratio * total_size)\n",
        "  val_size = int(val_ratio * total_size)\n",
        "  test_size = total_size - train_size - val_size\n",
        "\n",
        "  randomized = random.sample(os.listdir(source), total_size)\n",
        "  train_files = randomized[:train_size]\n",
        "  val_files = randomized[train_size:train_size + val_size]\n",
        "  test_files = randomized[train_size + val_size:]\n",
        "\n",
        "  for i in train_files:\n",
        "    i_file = os.path.join(source, i)\n",
        "    destination = os.path.join(train, i)\n",
        "    copyfile(i_file, destination)\n",
        "\n",
        "  for i in val_files:\n",
        "    i_file = os.path.join(source, i)\n",
        "    destination = os.path.join(val, i)\n",
        "    copyfile(i_file, destination)\n",
        "\n",
        "  for i in test_files:\n",
        "    i_file = os.path.join(source, i)\n",
        "    destination = os.path.join(test, i)\n",
        "    copyfile(i_file, destination)\n",
        "\n",
        "#Jumlah pembagian data training dan testing\n",
        "train_ratio=0.8\n",
        "val_ratio = 0.1\n",
        "test_ratio = 0.1\n",
        "\n",
        "# #Pembagian Training dan Testing\n",
        "\n",
        "# Cumi Cumi\n",
        "source_01 = Cumi_Cumi_dir\n",
        "train_01 = train_Cumi_Cumi\n",
        "val_01 = val_Cumi_Cumi\n",
        "test_01 = test_Cumi_Cumi\n",
        "split_data(source_01, train_01, val_01, test_01, train_ratio, val_ratio)\n",
        "\n",
        "# Daging Sapi\n",
        "source_02 = Daging_Sapi_dir\n",
        "train_02 = train_Daging_Sapi\n",
        "val_02 = val_Daging_Sapi\n",
        "test_02 = test_Daging_Sapi\n",
        "split_data(source_02, train_02, val_02, test_02, train_ratio, val_ratio)\n",
        "\n",
        "# Daging_Unggas\n",
        "source_03 = Daging_Unggas_dir\n",
        "train_03 = train_Daging_Unggas\n",
        "val_03 = val_Daging_Unggas\n",
        "test_03 = test_Daging_Unggas\n",
        "split_data(source_03, train_03, val_03, test_03, train_ratio, val_ratio)\n",
        "\n",
        "# Gurita\n",
        "source_04 = Gurita_dir\n",
        "train_04 = train_Gurita\n",
        "val_04 = val_Gurita\n",
        "test_04 = test_Gurita\n",
        "split_data(source_04, train_04, val_04, test_04, train_ratio, val_ratio)\n",
        "\n",
        "# Ikan\n",
        "source_06 = Ikan_dir\n",
        "train_06 = train_Ikan\n",
        "val_06 = val_Ikan\n",
        "test_06 = test_Ikan\n",
        "split_data(source_06, train_06, val_06, test_06, train_ratio, val_ratio)\n",
        "\n",
        "# Jeroan\n",
        "source_05 = Jeroan_dir\n",
        "train_05 = train_Jeroan\n",
        "val_05 = val_Jeroan\n",
        "test_05 = test_Jeroan\n",
        "split_data(source_05, train_05, val_05, test_05, train_ratio, val_ratio)\n",
        "\n",
        "# Kepiting\n",
        "source_07 = Kepiting_dir\n",
        "train_07 = train_Kepiting\n",
        "val_07 = val_Kepiting\n",
        "test_07 = test_Kepiting\n",
        "split_data(source_07, train_07, val_07, test_07, train_ratio, val_ratio)\n",
        "\n",
        "# Kerang\n",
        "source_08 = Kerang_dir\n",
        "train_08 = train_Kerang\n",
        "val_08 = val_Kerang\n",
        "test_08 = test_Kerang\n",
        "split_data(source_08, train_08, val_08, test_08, train_ratio, val_ratio)\n",
        "\n",
        "# Kikil\n",
        "source_09 = Kikil_dir\n",
        "train_09 = train_Kikil\n",
        "val_09 = val_Kikil\n",
        "test_09 = test_Kikil\n",
        "split_data(source_09, train_09, val_09, test_09, train_ratio, val_ratio)\n",
        "\n",
        "# Lobster\n",
        "source_10 = Lobster_dir\n",
        "train_10 = train_Lobster\n",
        "val_10 = val_Lobster\n",
        "test_10 = test_Lobster\n",
        "split_data(source_10, train_10, val_10, test_10, train_ratio, val_ratio)\n",
        "\n",
        "# Udang\n",
        "source_11 = Udang_dir\n",
        "train_11 = train_Udang\n",
        "val_11 = val_Udang\n",
        "test_11 = test_Udang\n",
        "split_data(source_11, train_11, val_11, test_11, train_ratio, val_ratio)\n",
        "\n",
        "# Usus\n",
        "source_12 = Usus_dir\n",
        "train_12 = train_Usus\n",
        "val_12 = val_Usus\n",
        "test_12 = test_Usus\n",
        "split_data(source_12, train_12, val_12, test_12, train_ratio, val_ratio)\n",
        "\n"
      ]
    },
    {
      "cell_type": "code",
      "execution_count": null,
      "metadata": {
        "colab": {
          "base_uri": "https://localhost:8080/"
        },
        "id": "N6VUTb02hJuL",
        "outputId": "5a0bbcc6-66e6-4251-a145-b15446996a25"
      },
      "outputs": [
        {
          "output_type": "stream",
          "name": "stdout",
          "text": [
            "Jumlah Semua Cumi Cumi: 167\n",
            "Jumlah Train Cumi Cumi: 133\n",
            "Jumlah Validation Cumi Cumi: 16\n",
            "Jumlah Test Cumi Cumi: 18\n",
            "Jumlah Semua Daging Sapi: 150\n",
            "Jumlah Train Daging Sapi: 120\n",
            "Jumlah Validation Daging Sapi: 15\n",
            "Jumlah Test Daging Sapi: 15\n",
            "Jumlah Semua Daging Unggas: 150\n",
            "Jumlah Train Daging Unggas: 120\n",
            "Jumlah Validation Daging Unggas: 15\n",
            "Jumlah Test Daging Unggas: 15\n",
            "Jumlah Semua Gurita: 147\n",
            "Jumlah Train Gurita: 117\n",
            "Jumlah Validation Gurita: 14\n",
            "Jumlah Test Gurita: 16\n",
            "Jumlah Semua Ikan: 150\n",
            "Jumlah Train Ikan: 120\n",
            "Jumlah Validation Ikan: 15\n",
            "Jumlah Test Ikan: 15\n",
            "Jumlah Semua Jeroan: 150\n",
            "Jumlah Train Jeroan: 120\n",
            "Jumlah Validation Jeroan: 15\n",
            "Jumlah Test Jeroan: 15\n",
            "Jumlah Semua Kepiting: 157\n",
            "Jumlah Train Kepiting: 125\n",
            "Jumlah Validation Kepiting: 15\n",
            "Jumlah Test Kepiting: 17\n",
            "Jumlah Semua Kerang: 150\n",
            "Jumlah Train Kerang: 120\n",
            "Jumlah Validation Kerang: 15\n",
            "Jumlah Test Kerang: 15\n",
            "Jumlah Semua Kikil: 153\n",
            "Jumlah Train Kikil: 122\n",
            "Jumlah Validation Kikil: 15\n",
            "Jumlah Test Kikil: 16\n",
            "Jumlah Semua Lobster: 150\n",
            "Jumlah Train Lobster: 120\n",
            "Jumlah Validation Lobster: 15\n",
            "Jumlah Test Lobster: 15\n",
            "Jumlah Semua Udang: 155\n",
            "Jumlah Train Udang: 124\n",
            "Jumlah Validation Udang: 15\n",
            "Jumlah Test Udang: 16\n",
            "Jumlah Semua Usus: 150\n",
            "Jumlah Train Usus: 120\n",
            "Jumlah Validation Usus: 15\n",
            "Jumlah Test Usus: 15\n"
          ]
        }
      ],
      "source": [
        "##Hitung data train, validation, dan test\n",
        "print(\"Jumlah Semua Cumi Cumi:\",len(os.listdir(Cumi_Cumi_dir)))\n",
        "print(\"Jumlah Train Cumi Cumi:\",len(os.listdir(train_Cumi_Cumi)))\n",
        "print(\"Jumlah Validation Cumi Cumi:\",len(os.listdir(val_Cumi_Cumi)))\n",
        "print(\"Jumlah Test Cumi Cumi:\",len(os.listdir(test_Cumi_Cumi)))\n",
        "\n",
        "print(\"Jumlah Semua Daging Sapi:\",len(os.listdir(Daging_Sapi_dir)))\n",
        "print(\"Jumlah Train Daging Sapi:\",len(os.listdir(train_Daging_Sapi)))\n",
        "print(\"Jumlah Validation Daging Sapi:\",len(os.listdir(val_Daging_Sapi)))\n",
        "print(\"Jumlah Test Daging Sapi:\",len(os.listdir(test_Daging_Sapi)))\n",
        "\n",
        "print(\"Jumlah Semua Daging Unggas:\",len(os.listdir(Daging_Unggas_dir)))\n",
        "print(\"Jumlah Train Daging Unggas:\",len(os.listdir(train_Daging_Unggas)))\n",
        "print(\"Jumlah Validation Daging Unggas:\",len(os.listdir(val_Daging_Unggas)))\n",
        "print(\"Jumlah Test Daging Unggas:\",len(os.listdir(test_Daging_Unggas)))\n",
        "\n",
        "print(\"Jumlah Semua Gurita:\",len(os.listdir(Gurita_dir)))\n",
        "print(\"Jumlah Train Gurita:\",len(os.listdir(train_Gurita)))\n",
        "print(\"Jumlah Validation Gurita:\",len(os.listdir(val_Gurita)))\n",
        "print(\"Jumlah Test Gurita:\",len(os.listdir(test_Gurita)))\n",
        "\n",
        "print(\"Jumlah Semua Ikan:\",len(os.listdir(Ikan_dir)))\n",
        "print(\"Jumlah Train Ikan:\",len(os.listdir(train_Ikan)))\n",
        "print(\"Jumlah Validation Ikan:\",len(os.listdir(val_Ikan)))\n",
        "print(\"Jumlah Test Ikan:\",len(os.listdir(test_Ikan)))\n",
        "\n",
        "print(\"Jumlah Semua Jeroan:\",len(os.listdir(Jeroan_dir)))\n",
        "print(\"Jumlah Train Jeroan:\",len(os.listdir(train_Jeroan)))\n",
        "print(\"Jumlah Validation Jeroan:\",len(os.listdir(val_Jeroan)))\n",
        "print(\"Jumlah Test Jeroan:\",len(os.listdir(test_Jeroan)))\n",
        "\n",
        "print(\"Jumlah Semua Kepiting:\",len(os.listdir(Kepiting_dir)))\n",
        "print(\"Jumlah Train Kepiting:\",len(os.listdir(train_Kepiting)))\n",
        "print(\"Jumlah Validation Kepiting:\",len(os.listdir(val_Kepiting)))\n",
        "print(\"Jumlah Test Kepiting:\",len(os.listdir(test_Kepiting)))\n",
        "\n",
        "print(\"Jumlah Semua Kerang:\",len(os.listdir(Kerang_dir)))\n",
        "print(\"Jumlah Train Kerang:\",len(os.listdir(train_Kerang)))\n",
        "print(\"Jumlah Validation Kerang:\",len(os.listdir(val_Kerang)))\n",
        "print(\"Jumlah Test Kerang:\",len(os.listdir(test_Kerang)))\n",
        "\n",
        "print(\"Jumlah Semua Kikil:\",len(os.listdir(Kikil_dir)))\n",
        "print(\"Jumlah Train Kikil:\",len(os.listdir(train_Kikil)))\n",
        "print(\"Jumlah Validation Kikil:\",len(os.listdir(val_Kikil)))\n",
        "print(\"Jumlah Test Kikil:\",len(os.listdir(test_Kikil)))\n",
        "\n",
        "print(\"Jumlah Semua Lobster:\",len(os.listdir(Lobster_dir)))\n",
        "print(\"Jumlah Train Lobster:\",len(os.listdir(train_Lobster)))\n",
        "print(\"Jumlah Validation Lobster:\",len(os.listdir(val_Lobster)))\n",
        "print(\"Jumlah Test Lobster:\",len(os.listdir(test_Lobster)))\n",
        "\n",
        "print(\"Jumlah Semua Udang:\",len(os.listdir(Udang_dir)))\n",
        "print(\"Jumlah Train Udang:\",len(os.listdir(train_Udang)))\n",
        "print(\"Jumlah Validation Udang:\",len(os.listdir(val_Udang)))\n",
        "print(\"Jumlah Test Udang:\",len(os.listdir(test_Udang)))\n",
        "\n",
        "print(\"Jumlah Semua Usus:\",len(os.listdir(Usus_dir)))\n",
        "print(\"Jumlah Train Usus:\",len(os.listdir(train_Usus)))\n",
        "print(\"Jumlah Validation Usus:\",len(os.listdir(val_Usus)))\n",
        "print(\"Jumlah Test Usus:\",len(os.listdir(test_Usus)))\n"
      ]
    },
    {
      "cell_type": "markdown",
      "metadata": {
        "id": "mzLGW9v1D66U"
      },
      "source": [
        "##**DATA PREPARATION**"
      ]
    },
    {
      "cell_type": "code",
      "execution_count": null,
      "metadata": {
        "id": "H1THwuNlD_V2"
      },
      "outputs": [],
      "source": [
        "import os\n",
        "import numpy as np\n",
        "import matplotlib.pyplot as plt\n",
        "from google.colab import files\n",
        "import tensorflow as tf\n",
        "from tensorflow import keras\n",
        "from tensorflow.keras import layers\n",
        "from tensorflow.keras import Model\n",
        "from tensorflow.keras.preprocessing.image import img_to_array, load_img\n",
        "from tensorflow.keras.preprocessing.image import ImageDataGenerator\n",
        "from tensorflow.keras.applications.vgg16 import VGG16\n",
        "from tensorflow.keras.optimizers import RMSprop"
      ]
    },
    {
      "cell_type": "markdown",
      "metadata": {
        "id": "-jA5gZx3vJIN"
      },
      "source": [
        "**IMAGE AUGMENTATION**\n",
        "\n",
        "Image augmentation is a technique to modify the data by changing the real image into different looks, such as rotating, cropping, changing the brightness, add a noise on the image, and many more. This technique also really helpful to add more dataset for research that has small amount of data. Last, using flow_from_directory(), we set the batch_size=128.\n"
      ]
    },
    {
      "cell_type": "code",
      "execution_count": null,
      "metadata": {
        "id": "oGs2D3jpuWMB"
      },
      "outputs": [],
      "source": [
        "def train_val_generators(TRAINING_DIR, VALIDATION_DIR, TESTING_DIR):\n",
        "  train_datagen = ImageDataGenerator(\n",
        "      rescale=1./255,\n",
        "      rotation_range=20,\n",
        "      width_shift_range=0.2,\n",
        "      height_shift_range=0.2,\n",
        "      shear_range=0.2,\n",
        "      zoom_range=0.2,\n",
        "      horizontal_flip=True,\n",
        "      fill_mode='nearest'\n",
        ")\n",
        "  train_generator = train_datagen.flow_from_directory(directory=TRAINING_DIR,\n",
        "                                                      batch_size=32,\n",
        "                                                      class_mode='categorical',\n",
        "                                                       target_size=(150,150))\n",
        "\n",
        "  validation_datagen= ImageDataGenerator(rescale = 1.0/255.0)\n",
        "  validation_generator= validation_datagen.flow_from_directory(directory=VALIDATION_DIR,\n",
        "                                                          batch_size=32,\n",
        "                                                          class_mode='categorical',\n",
        "                                                          target_size=(150,150))\n",
        "\n",
        "  testing_datagen   = ImageDataGenerator(rescale = 1.0/255.0)\n",
        "  testing_generator = testing_datagen.flow_from_directory(directory=TESTING_DIR,\n",
        "                                                          batch_size=32,\n",
        "                                                          class_mode='categorical',\n",
        "                                                          target_size=(150,150))\n",
        "  return train_generator, validation_generator, testing_generator\n"
      ]
    },
    {
      "cell_type": "code",
      "execution_count": null,
      "metadata": {
        "colab": {
          "base_uri": "https://localhost:8080/"
        },
        "id": "p0DuCf89wbcq",
        "outputId": "be26302d-f135-4f1b-b426-8861cb3462f6"
      },
      "outputs": [
        {
          "output_type": "stream",
          "name": "stdout",
          "text": [
            "Found 1461 images belonging to 12 classes.\n",
            "Found 180 images belonging to 12 classes.\n",
            "Found 188 images belonging to 12 classes.\n"
          ]
        }
      ],
      "source": [
        "train_generator, validation_generator, testing_generator = train_val_generators(latih_dir, val_dir, test_dir)"
      ]
    },
    {
      "cell_type": "markdown",
      "metadata": {
        "id": "m0KTVTCRHHoZ"
      },
      "source": [
        "##**Creating Prediction Model**"
      ]
    },
    {
      "cell_type": "markdown",
      "source": [
        "**Callback**\n",
        "\n",
        "This research model, we set the callback using type EarlyStopping that used for stopping training if the metrics we want is fulfilled. In this research, we set training model will stop if the accuracy is more that 0.8, the loss is less than 0.5, the validation accuracy is more than 0.8, and the validation loss is less than 0.6."
      ],
      "metadata": {
        "id": "BbakgrwdMLTP"
      }
    },
    {
      "cell_type": "code",
      "execution_count": null,
      "metadata": {
        "id": "7WNzB6Kx5XsG"
      },
      "outputs": [],
      "source": [
        "class myCallback(tf.keras.callbacks.Callback):\n",
        "  def on_epoch_end(self, epoch, logs={}):\n",
        "    '''\n",
        "    Halts the training after reaching 60 percent accuracy\n",
        "\n",
        "    Args:\n",
        "      epoch (integer) - index of epoch (required but unused in the function definition below)\n",
        "      logs (dict) - metric results from the training epoch\n",
        "    '''\n",
        "\n",
        "    # Check accuracy\n",
        "    if(logs.get('accuracy') > 0.8 ) and (logs.get('loss') < 0.5 ) and (logs.get('val_accuracy') > 0.8 ) and (logs.get('val_loss') < 0.6) :\n",
        "\n",
        "      # Stop if threshold is met\n",
        "      print(\"\\nModel is good so cancelling training!\")\n",
        "      self.model.stop_training = True\n",
        "\n",
        "# Instantiate class\n",
        "callbacks=myCallback()"
      ]
    },
    {
      "cell_type": "markdown",
      "source": [
        "**Model CNN**\n",
        "\n",
        "The provided code uses transfer learning with the Xception model from TensorFlow's Keras library. It initializes base_model_1 as the Xception model with pre-trained weights, excluding the top layers. The model's trainable parameter is set to False to freeze the base model's weights. The model_1 is then created by stacking the base model with a flatten layer, a dense layer with 128 units and ReLU activation, and a dense layer with 12 units and softmax activation for classification. The model_1.summary() function displays a summary of the model's architecture."
      ],
      "metadata": {
        "id": "pbAvH8jPMwkw"
      }
    },
    {
      "cell_type": "code",
      "execution_count": null,
      "metadata": {
        "colab": {
          "base_uri": "https://localhost:8080/"
        },
        "id": "fdNHMdxp080a",
        "outputId": "9888835f-a603-4b46-b7d5-1edbcedbfc63"
      },
      "outputs": [
        {
          "output_type": "stream",
          "name": "stdout",
          "text": [
            "Model: \"sequential_18\"\n",
            "_________________________________________________________________\n",
            " Layer (type)                Output Shape              Param #   \n",
            "=================================================================\n",
            " xception (Functional)       (None, 5, 5, 2048)        20861480  \n",
            "                                                                 \n",
            " flatten_16 (Flatten)        (None, 51200)             0         \n",
            "                                                                 \n",
            " dense_38 (Dense)            (None, 128)               6553728   \n",
            "                                                                 \n",
            " dense_39 (Dense)            (None, 12)                1548      \n",
            "                                                                 \n",
            "=================================================================\n",
            "Total params: 27,416,756\n",
            "Trainable params: 6,555,276\n",
            "Non-trainable params: 20,861,480\n",
            "_________________________________________________________________\n"
          ]
        }
      ],
      "source": [
        "base_model_1 = tf.keras.applications.Xception(weights='imagenet', include_top=False, input_shape=(150, 150, 3))\n",
        "base_model_1.trainable = False\n",
        "\n",
        "model_1 = model = tf.keras.models.Sequential([\n",
        "    base_model_1,\n",
        "    tf.keras.layers.Flatten(),\n",
        "    tf.keras.layers.Dense(128, activation=\"relu\"),\n",
        "    tf.keras.layers.Dense(12, activation=\"softmax\")\n",
        "])\n",
        "\n",
        "model_1.summary()\n"
      ]
    },
    {
      "cell_type": "code",
      "execution_count": null,
      "metadata": {
        "colab": {
          "base_uri": "https://localhost:8080/"
        },
        "id": "yfQoje9eln0d",
        "outputId": "167ca91a-db60-4880-f7f7-af9349d6866d"
      },
      "outputs": [
        {
          "output_type": "stream",
          "name": "stdout",
          "text": [
            "Epoch 1/100\n",
            "46/46 [==============================] - 23s 407ms/step - loss: 3.0801 - accuracy: 0.5222 - val_loss: 1.0438 - val_accuracy: 0.6778\n",
            "Epoch 2/100\n",
            "46/46 [==============================] - 20s 425ms/step - loss: 0.8592 - accuracy: 0.7372 - val_loss: 0.9180 - val_accuracy: 0.7667\n",
            "Epoch 3/100\n",
            "46/46 [==============================] - 18s 393ms/step - loss: 0.6409 - accuracy: 0.8077 - val_loss: 1.0073 - val_accuracy: 0.7833\n",
            "Epoch 4/100\n",
            "46/46 [==============================] - 19s 415ms/step - loss: 0.6047 - accuracy: 0.8207 - val_loss: 0.8404 - val_accuracy: 0.7667\n",
            "Epoch 5/100\n",
            "46/46 [==============================] - 18s 393ms/step - loss: 0.5480 - accuracy: 0.8398 - val_loss: 0.8285 - val_accuracy: 0.7833\n",
            "Epoch 6/100\n",
            "46/46 [==============================] - 18s 393ms/step - loss: 0.4865 - accuracy: 0.8542 - val_loss: 1.0137 - val_accuracy: 0.7722\n",
            "Epoch 7/100\n",
            "46/46 [==============================] - 19s 406ms/step - loss: 0.4595 - accuracy: 0.8535 - val_loss: 0.9179 - val_accuracy: 0.7667\n",
            "Epoch 8/100\n",
            "46/46 [==============================] - 18s 387ms/step - loss: 0.4882 - accuracy: 0.8494 - val_loss: 0.8223 - val_accuracy: 0.7722\n",
            "Epoch 9/100\n",
            "46/46 [==============================] - 19s 412ms/step - loss: 0.4514 - accuracy: 0.8727 - val_loss: 0.8131 - val_accuracy: 0.7833\n",
            "Epoch 10/100\n",
            "46/46 [==============================] - 18s 388ms/step - loss: 0.4284 - accuracy: 0.8727 - val_loss: 0.6408 - val_accuracy: 0.8222\n",
            "Epoch 11/100\n",
            "46/46 [==============================] - 18s 390ms/step - loss: 0.3293 - accuracy: 0.9049 - val_loss: 0.7735 - val_accuracy: 0.8444\n",
            "Epoch 12/100\n",
            "46/46 [==============================] - 19s 406ms/step - loss: 0.4372 - accuracy: 0.8843 - val_loss: 0.7834 - val_accuracy: 0.8000\n",
            "Epoch 13/100\n",
            "46/46 [==============================] - 18s 395ms/step - loss: 0.3365 - accuracy: 0.8953 - val_loss: 0.8759 - val_accuracy: 0.8000\n",
            "Epoch 14/100\n",
            "46/46 [==============================] - 19s 406ms/step - loss: 0.3237 - accuracy: 0.9049 - val_loss: 0.7847 - val_accuracy: 0.8222\n",
            "Epoch 15/100\n",
            "46/46 [==============================] - 18s 386ms/step - loss: 0.3286 - accuracy: 0.9110 - val_loss: 1.1383 - val_accuracy: 0.8111\n",
            "Epoch 16/100\n",
            "46/46 [==============================] - 18s 387ms/step - loss: 0.2997 - accuracy: 0.9144 - val_loss: 0.9538 - val_accuracy: 0.8222\n",
            "Epoch 17/100\n",
            "46/46 [==============================] - 19s 410ms/step - loss: 0.2311 - accuracy: 0.9254 - val_loss: 0.7839 - val_accuracy: 0.8222\n",
            "Epoch 18/100\n",
            "46/46 [==============================] - 18s 383ms/step - loss: 0.2039 - accuracy: 0.9322 - val_loss: 0.7995 - val_accuracy: 0.8222\n",
            "Epoch 19/100\n",
            "46/46 [==============================] - 19s 409ms/step - loss: 0.3164 - accuracy: 0.9083 - val_loss: 0.7133 - val_accuracy: 0.8278\n",
            "Epoch 20/100\n",
            "46/46 [==============================] - 18s 382ms/step - loss: 0.2612 - accuracy: 0.9281 - val_loss: 0.8357 - val_accuracy: 0.8500\n",
            "Epoch 21/100\n",
            "46/46 [==============================] - 18s 386ms/step - loss: 0.2236 - accuracy: 0.9302 - val_loss: 0.9428 - val_accuracy: 0.8278\n",
            "Epoch 22/100\n",
            "46/46 [==============================] - 18s 403ms/step - loss: 0.2238 - accuracy: 0.9322 - val_loss: 0.7979 - val_accuracy: 0.8667\n",
            "Epoch 23/100\n",
            "46/46 [==============================] - 18s 384ms/step - loss: 0.2180 - accuracy: 0.9309 - val_loss: 0.7968 - val_accuracy: 0.8333\n",
            "Epoch 24/100\n",
            "46/46 [==============================] - 18s 384ms/step - loss: 0.2409 - accuracy: 0.9247 - val_loss: 0.9371 - val_accuracy: 0.8333\n",
            "Epoch 25/100\n",
            "46/46 [==============================] - 18s 386ms/step - loss: 0.2516 - accuracy: 0.9309 - val_loss: 0.9212 - val_accuracy: 0.8389\n",
            "Epoch 26/100\n",
            "46/46 [==============================] - 19s 410ms/step - loss: 0.1861 - accuracy: 0.9439 - val_loss: 0.9615 - val_accuracy: 0.8222\n",
            "Epoch 27/100\n",
            "46/46 [==============================] - 18s 385ms/step - loss: 0.2530 - accuracy: 0.9247 - val_loss: 0.9298 - val_accuracy: 0.8222\n",
            "Epoch 28/100\n",
            "46/46 [==============================] - 19s 420ms/step - loss: 0.1977 - accuracy: 0.9439 - val_loss: 0.9696 - val_accuracy: 0.8278\n",
            "Epoch 29/100\n",
            "46/46 [==============================] - 18s 385ms/step - loss: 0.2042 - accuracy: 0.9405 - val_loss: 0.8498 - val_accuracy: 0.8278\n",
            "Epoch 30/100\n",
            "46/46 [==============================] - 18s 387ms/step - loss: 0.2322 - accuracy: 0.9350 - val_loss: 0.9075 - val_accuracy: 0.8611\n",
            "Epoch 31/100\n",
            "46/46 [==============================] - 19s 402ms/step - loss: 0.2028 - accuracy: 0.9384 - val_loss: 0.7054 - val_accuracy: 0.8500\n",
            "Epoch 32/100\n",
            "46/46 [==============================] - 18s 382ms/step - loss: 0.1827 - accuracy: 0.9480 - val_loss: 0.9330 - val_accuracy: 0.8667\n",
            "Epoch 33/100\n",
            "46/46 [==============================] - 19s 405ms/step - loss: 0.2303 - accuracy: 0.9391 - val_loss: 0.9293 - val_accuracy: 0.8444\n",
            "Epoch 34/100\n",
            "46/46 [==============================] - 18s 387ms/step - loss: 0.1669 - accuracy: 0.9507 - val_loss: 0.7954 - val_accuracy: 0.8278\n",
            "Epoch 35/100\n",
            "46/46 [==============================] - 19s 404ms/step - loss: 0.1672 - accuracy: 0.9473 - val_loss: 1.1350 - val_accuracy: 0.8167\n",
            "Epoch 36/100\n",
            "46/46 [==============================] - 18s 393ms/step - loss: 0.2395 - accuracy: 0.9384 - val_loss: 1.1309 - val_accuracy: 0.8333\n",
            "Epoch 37/100\n",
            "46/46 [==============================] - 18s 389ms/step - loss: 0.2277 - accuracy: 0.9329 - val_loss: 0.9465 - val_accuracy: 0.8222\n",
            "Epoch 38/100\n",
            "46/46 [==============================] - 19s 403ms/step - loss: 0.2000 - accuracy: 0.9418 - val_loss: 1.1279 - val_accuracy: 0.7944\n",
            "Epoch 39/100\n",
            "46/46 [==============================] - 18s 387ms/step - loss: 0.1861 - accuracy: 0.9363 - val_loss: 0.9049 - val_accuracy: 0.8389\n",
            "Epoch 40/100\n",
            "46/46 [==============================] - 19s 404ms/step - loss: 0.1674 - accuracy: 0.9562 - val_loss: 1.0890 - val_accuracy: 0.8222\n",
            "Epoch 41/100\n",
            "46/46 [==============================] - 18s 386ms/step - loss: 0.1956 - accuracy: 0.9425 - val_loss: 0.9302 - val_accuracy: 0.8278\n",
            "Epoch 42/100\n",
            "46/46 [==============================] - 19s 412ms/step - loss: 0.1815 - accuracy: 0.9541 - val_loss: 0.8066 - val_accuracy: 0.8556\n",
            "Epoch 43/100\n",
            "46/46 [==============================] - 18s 385ms/step - loss: 0.1625 - accuracy: 0.9507 - val_loss: 0.8884 - val_accuracy: 0.8556\n",
            "Epoch 44/100\n",
            "46/46 [==============================] - 19s 412ms/step - loss: 0.1141 - accuracy: 0.9651 - val_loss: 0.8273 - val_accuracy: 0.8444\n",
            "Epoch 45/100\n",
            "46/46 [==============================] - 18s 382ms/step - loss: 0.1189 - accuracy: 0.9637 - val_loss: 0.9926 - val_accuracy: 0.8444\n",
            "Epoch 46/100\n",
            "46/46 [==============================] - 19s 418ms/step - loss: 0.1183 - accuracy: 0.9671 - val_loss: 0.8004 - val_accuracy: 0.8556\n",
            "Epoch 47/100\n",
            "46/46 [==============================] - 18s 395ms/step - loss: 0.1417 - accuracy: 0.9514 - val_loss: 0.7186 - val_accuracy: 0.8500\n",
            "Epoch 48/100\n",
            "46/46 [==============================] - 18s 385ms/step - loss: 0.1481 - accuracy: 0.9521 - val_loss: 0.8537 - val_accuracy: 0.8444\n",
            "Epoch 49/100\n",
            "46/46 [==============================] - 19s 407ms/step - loss: 0.1683 - accuracy: 0.9528 - val_loss: 0.8652 - val_accuracy: 0.8333\n",
            "Epoch 50/100\n",
            "46/46 [==============================] - 18s 384ms/step - loss: 0.1552 - accuracy: 0.9487 - val_loss: 0.8311 - val_accuracy: 0.8611\n",
            "Epoch 51/100\n",
            "46/46 [==============================] - 19s 405ms/step - loss: 0.1762 - accuracy: 0.9439 - val_loss: 0.8815 - val_accuracy: 0.8667\n",
            "Epoch 52/100\n",
            "46/46 [==============================] - 18s 385ms/step - loss: 0.1644 - accuracy: 0.9603 - val_loss: 0.8429 - val_accuracy: 0.8500\n",
            "Epoch 53/100\n",
            "46/46 [==============================] - 18s 385ms/step - loss: 0.1040 - accuracy: 0.9644 - val_loss: 0.8680 - val_accuracy: 0.8611\n",
            "Epoch 54/100\n",
            "46/46 [==============================] - 19s 405ms/step - loss: 0.1589 - accuracy: 0.9541 - val_loss: 1.0128 - val_accuracy: 0.8278\n",
            "Epoch 55/100\n",
            "46/46 [==============================] - 18s 394ms/step - loss: 0.1299 - accuracy: 0.9624 - val_loss: 0.9333 - val_accuracy: 0.8444\n",
            "Epoch 56/100\n",
            "46/46 [==============================] - 19s 405ms/step - loss: 0.1430 - accuracy: 0.9610 - val_loss: 1.0325 - val_accuracy: 0.8278\n",
            "Epoch 57/100\n",
            "46/46 [==============================] - 18s 385ms/step - loss: 0.1279 - accuracy: 0.9658 - val_loss: 0.9125 - val_accuracy: 0.8389\n",
            "Epoch 58/100\n",
            "46/46 [==============================] - 18s 387ms/step - loss: 0.1328 - accuracy: 0.9541 - val_loss: 0.9285 - val_accuracy: 0.8389\n",
            "Epoch 59/100\n",
            "46/46 [==============================] - 19s 405ms/step - loss: 0.1063 - accuracy: 0.9651 - val_loss: 0.8890 - val_accuracy: 0.8556\n",
            "Epoch 60/100\n",
            "46/46 [==============================] - 18s 384ms/step - loss: 0.1181 - accuracy: 0.9644 - val_loss: 0.8490 - val_accuracy: 0.8778\n",
            "Epoch 61/100\n",
            "46/46 [==============================] - 19s 409ms/step - loss: 0.1338 - accuracy: 0.9589 - val_loss: 1.0566 - val_accuracy: 0.8111\n",
            "Epoch 62/100\n",
            "46/46 [==============================] - 18s 384ms/step - loss: 0.1185 - accuracy: 0.9610 - val_loss: 1.0133 - val_accuracy: 0.8500\n",
            "Epoch 63/100\n",
            "46/46 [==============================] - 18s 394ms/step - loss: 0.1668 - accuracy: 0.9507 - val_loss: 0.9607 - val_accuracy: 0.8500\n",
            "Epoch 64/100\n",
            "46/46 [==============================] - 19s 407ms/step - loss: 0.1076 - accuracy: 0.9603 - val_loss: 0.9975 - val_accuracy: 0.8667\n",
            "Epoch 65/100\n",
            "46/46 [==============================] - 18s 382ms/step - loss: 0.1394 - accuracy: 0.9493 - val_loss: 0.9132 - val_accuracy: 0.8667\n",
            "Epoch 66/100\n",
            "46/46 [==============================] - 18s 389ms/step - loss: 0.1169 - accuracy: 0.9651 - val_loss: 1.0769 - val_accuracy: 0.8333\n",
            "Epoch 67/100\n",
            "46/46 [==============================] - 18s 383ms/step - loss: 0.1315 - accuracy: 0.9610 - val_loss: 0.8528 - val_accuracy: 0.8500\n",
            "Epoch 68/100\n",
            "46/46 [==============================] - 18s 391ms/step - loss: 0.1178 - accuracy: 0.9637 - val_loss: 1.0599 - val_accuracy: 0.8333\n",
            "Epoch 69/100\n",
            "46/46 [==============================] - 18s 385ms/step - loss: 0.1438 - accuracy: 0.9624 - val_loss: 0.9370 - val_accuracy: 0.8389\n",
            "Epoch 70/100\n",
            "46/46 [==============================] - 19s 402ms/step - loss: 0.1801 - accuracy: 0.9514 - val_loss: 1.0279 - val_accuracy: 0.8278\n",
            "Epoch 71/100\n",
            "46/46 [==============================] - 18s 381ms/step - loss: 0.1315 - accuracy: 0.9603 - val_loss: 0.9715 - val_accuracy: 0.8667\n",
            "Epoch 72/100\n",
            "46/46 [==============================] - 18s 387ms/step - loss: 0.1252 - accuracy: 0.9630 - val_loss: 0.8851 - val_accuracy: 0.8500\n",
            "Epoch 73/100\n",
            "46/46 [==============================] - 19s 404ms/step - loss: 0.1349 - accuracy: 0.9617 - val_loss: 0.9223 - val_accuracy: 0.8611\n",
            "Epoch 74/100\n",
            "46/46 [==============================] - 18s 385ms/step - loss: 0.1126 - accuracy: 0.9713 - val_loss: 0.8822 - val_accuracy: 0.8556\n",
            "Epoch 75/100\n",
            "46/46 [==============================] - 18s 391ms/step - loss: 0.1298 - accuracy: 0.9637 - val_loss: 0.9742 - val_accuracy: 0.8444\n",
            "Epoch 76/100\n",
            "46/46 [==============================] - 18s 386ms/step - loss: 0.1124 - accuracy: 0.9665 - val_loss: 0.9923 - val_accuracy: 0.8444\n",
            "Epoch 77/100\n",
            "46/46 [==============================] - 19s 405ms/step - loss: 0.1058 - accuracy: 0.9651 - val_loss: 0.9847 - val_accuracy: 0.8389\n",
            "Epoch 78/100\n",
            "46/46 [==============================] - 18s 384ms/step - loss: 0.1278 - accuracy: 0.9630 - val_loss: 1.1412 - val_accuracy: 0.8167\n",
            "Epoch 79/100\n",
            "46/46 [==============================] - 18s 384ms/step - loss: 0.1004 - accuracy: 0.9692 - val_loss: 1.1859 - val_accuracy: 0.8222\n",
            "Epoch 80/100\n",
            "46/46 [==============================] - 19s 409ms/step - loss: 0.1554 - accuracy: 0.9610 - val_loss: 1.0557 - val_accuracy: 0.8500\n",
            "Epoch 81/100\n",
            "46/46 [==============================] - 18s 383ms/step - loss: 0.1537 - accuracy: 0.9582 - val_loss: 1.1170 - val_accuracy: 0.8333\n",
            "Epoch 82/100\n",
            "46/46 [==============================] - 19s 417ms/step - loss: 0.0811 - accuracy: 0.9733 - val_loss: 1.0449 - val_accuracy: 0.8500\n",
            "Epoch 83/100\n",
            "46/46 [==============================] - 18s 384ms/step - loss: 0.0862 - accuracy: 0.9692 - val_loss: 1.0957 - val_accuracy: 0.8500\n",
            "Epoch 84/100\n",
            "46/46 [==============================] - 18s 383ms/step - loss: 0.1021 - accuracy: 0.9740 - val_loss: 1.0717 - val_accuracy: 0.8667\n",
            "Epoch 85/100\n",
            "46/46 [==============================] - 18s 386ms/step - loss: 0.1027 - accuracy: 0.9692 - val_loss: 0.9778 - val_accuracy: 0.8500\n",
            "Epoch 86/100\n",
            "46/46 [==============================] - 18s 384ms/step - loss: 0.1092 - accuracy: 0.9678 - val_loss: 0.9624 - val_accuracy: 0.8444\n",
            "Epoch 87/100\n",
            "46/46 [==============================] - 19s 399ms/step - loss: 0.1158 - accuracy: 0.9699 - val_loss: 0.9551 - val_accuracy: 0.8389\n",
            "Epoch 88/100\n",
            "46/46 [==============================] - 18s 384ms/step - loss: 0.1267 - accuracy: 0.9637 - val_loss: 1.2047 - val_accuracy: 0.8389\n",
            "Epoch 89/100\n",
            "46/46 [==============================] - 18s 386ms/step - loss: 0.1076 - accuracy: 0.9692 - val_loss: 0.9436 - val_accuracy: 0.8389\n",
            "Epoch 90/100\n",
            "46/46 [==============================] - 18s 392ms/step - loss: 0.1940 - accuracy: 0.9535 - val_loss: 0.9539 - val_accuracy: 0.8333\n",
            "Epoch 91/100\n",
            "46/46 [==============================] - 19s 403ms/step - loss: 0.1318 - accuracy: 0.9617 - val_loss: 0.8387 - val_accuracy: 0.8667\n",
            "Epoch 92/100\n",
            "46/46 [==============================] - 18s 387ms/step - loss: 0.1320 - accuracy: 0.9603 - val_loss: 0.9806 - val_accuracy: 0.8611\n",
            "Epoch 93/100\n",
            "46/46 [==============================] - 18s 384ms/step - loss: 0.0845 - accuracy: 0.9719 - val_loss: 1.0543 - val_accuracy: 0.8333\n",
            "Epoch 94/100\n",
            "46/46 [==============================] - 19s 405ms/step - loss: 0.0902 - accuracy: 0.9685 - val_loss: 1.0296 - val_accuracy: 0.8611\n",
            "Epoch 95/100\n",
            "46/46 [==============================] - 18s 387ms/step - loss: 0.0801 - accuracy: 0.9781 - val_loss: 1.1479 - val_accuracy: 0.8611\n",
            "Epoch 96/100\n",
            "46/46 [==============================] - 19s 406ms/step - loss: 0.0857 - accuracy: 0.9733 - val_loss: 1.0948 - val_accuracy: 0.8667\n",
            "Epoch 97/100\n",
            "46/46 [==============================] - 18s 384ms/step - loss: 0.1469 - accuracy: 0.9541 - val_loss: 1.1157 - val_accuracy: 0.8556\n",
            "Epoch 98/100\n",
            "46/46 [==============================] - 19s 420ms/step - loss: 0.0746 - accuracy: 0.9774 - val_loss: 1.0680 - val_accuracy: 0.8556\n",
            "Epoch 99/100\n",
            "46/46 [==============================] - 18s 385ms/step - loss: 0.1154 - accuracy: 0.9651 - val_loss: 1.0605 - val_accuracy: 0.8333\n",
            "Epoch 100/100\n",
            "46/46 [==============================] - 18s 384ms/step - loss: 0.1319 - accuracy: 0.9644 - val_loss: 1.1865 - val_accuracy: 0.8278\n"
          ]
        }
      ],
      "source": [
        "model_1.compile(optimizer = \"Adam\",\n",
        "              loss = 'categorical_crossentropy',\n",
        "              metrics=['accuracy'])\n",
        "\n",
        "\n",
        "history = model_1.fit(train_generator,\n",
        "                    epochs=100,\n",
        "                    verbose=1,\n",
        "                    validation_data=validation_generator,\n",
        "                    callbacks=[callbacks])\n"
      ]
    },
    {
      "cell_type": "markdown",
      "metadata": {
        "id": "mduUTR36b2Lt"
      },
      "source": [
        "**Accuracy level and Loss Model**"
      ]
    },
    {
      "cell_type": "code",
      "execution_count": null,
      "metadata": {
        "colab": {
          "base_uri": "https://localhost:8080/"
        },
        "id": "JCtDGj1Ea_ax",
        "outputId": "6a8b006c-27b7-4e74-e93f-7b8b8685e100"
      },
      "outputs": [
        {
          "output_type": "stream",
          "name": "stdout",
          "text": [
            "6/6 [==============================] - 2s 403ms/step - loss: 0.6285 - accuracy: 0.8457\n",
            "Test Loss: 0.6285395622253418\n",
            "Test Accuracy: 0.8457446694374084\n"
          ]
        }
      ],
      "source": [
        "# Evaluasi model pada test set\n",
        "test_loss, test_accuracy = model.evaluate(testing_generator)\n",
        "print('Test Loss:', test_loss)\n",
        "print('Test Accuracy:', test_accuracy)"
      ]
    },
    {
      "cell_type": "markdown",
      "source": [
        "**Visualization : Accuracy Level and Loss Model**"
      ],
      "metadata": {
        "id": "STNx3gBINlSK"
      }
    },
    {
      "cell_type": "code",
      "execution_count": null,
      "metadata": {
        "colab": {
          "base_uri": "https://localhost:8080/",
          "height": 452
        },
        "id": "C9TE_vF7b4qq",
        "outputId": "abebbdc2-4b77-462b-90a7-0a97c50f8dd6"
      },
      "outputs": [
        {
          "output_type": "display_data",
          "data": {
            "text/plain": [
              "<Figure size 640x480 with 1 Axes>"
            ],
            "image/png": "[encoded data removed]"
          },
          "metadata": {}
        }
      ],
      "source": [
        "%matplotlib inline\n",
        "\n",
        "import matplotlib.image as mpimg\n",
        "import matplotlib.pyplot as plt\n",
        "\n",
        "acc=history.history[\"accuracy\"]\n",
        "val_acc=history.history[\"val_accuracy\"]\n",
        "loss=history.history[\"loss\"]\n",
        "val_loss=history.history[\"val_loss\"]\n",
        "\n",
        "epochs=range(len(acc))\n",
        "\n",
        "plt.plot(epochs,acc,\"r\",label=\"Training Accuracy\")\n",
        "plt.plot(epochs,val_acc,\"b\",label=\"validation Accuracy\")\n",
        "plt.title(\"training and validation accuracy\")\n",
        "plt.legend(loc=\"best\")\n",
        "plt.show()\n",
        "\n"
      ]
    },
    {
      "cell_type": "code",
      "execution_count": null,
      "metadata": {
        "colab": {
          "base_uri": "https://localhost:8080/",
          "height": 452
        },
        "id": "mUr4vRrnmXEi",
        "outputId": "43a0a629-440c-4045-adb7-24913c62df16"
      },
      "outputs": [
        {
          "output_type": "display_data",
          "data": {
            "text/plain": [
              "<Figure size 640x480 with 1 Axes>"
            ],
            "image/png": "[encoded data removed]"
          },
          "metadata": {}
        }
      ],
      "source": [
        "plt.plot(epochs,loss,\"r\",label=\"Training loss\")\n",
        "plt.plot(epochs,val_loss,\"b\",label=\"validation loss\")\n",
        "plt.title(\"training and validation loss\")\n",
        "plt.legend(loc=\"best\")\n",
        "plt.show()"
      ]
    },
    {
      "cell_type": "markdown",
      "source": [
        "##**Saving the Model**"
      ],
      "metadata": {
        "id": "GaNYS_xlNu0q"
      }
    },
    {
      "cell_type": "markdown",
      "source": [
        "**Saving the Model with .h5 Format**"
      ],
      "metadata": {
        "id": "SqmczmLtN0KM"
      }
    },
    {
      "cell_type": "code",
      "execution_count": null,
      "metadata": {
        "id": "yGlzPbWpYmYg"
      },
      "outputs": [],
      "source": [
        "from tensorflow.keras.models import save_model\n",
        "\n",
        "# Simpan model ke Google Drive\n",
        "model_path = '/content/drive/MyDrive/Capstone/MODEL/Model Dagingjeroan baru.h5'\n",
        "save_model(model, model_path)"
      ]
    },
    {
      "cell_type": "markdown",
      "metadata": {
        "id": "tTL_A2sMs1HR"
      },
      "source": [
        "##**Recommendation Closest Nutrition Model**"
      ]
    },
    {
      "cell_type": "code",
      "execution_count": 2,
      "metadata": {
        "id": "zsrmNPOKKTdd"
      },
      "outputs": [],
      "source": [
        "import numpy as np\n",
        "import pandas as pd\n",
        "from keras.preprocessing import image\n",
        "from google.colab import files\n",
        "from tensorflow.python.ops.numpy_ops import np_config\n",
        "from sklearn.model_selection import train_test_split"
      ]
    },
    {
      "cell_type": "code",
      "execution_count": 3,
      "metadata": {
        "colab": {
          "base_uri": "https://localhost:8080/",
          "height": 645
        },
        "id": "w7ppbriIC4pL",
        "outputId": "db7cb9b9-6706-43ee-b79d-d6ef60bf8b34"
      },
      "outputs": [
        {
          "output_type": "execute_result",
          "data": {
            "text/plain": [
              "            Bahan  Kalori  Lemak(g)  Karbohidrat(g)  Protein(g)   Ukuran  \\\n",
              "0   Daging Unggas     201     11.47            0.00       23.01  1 porsi   \n",
              "1     Daging Sapi     245     16.61            0.00       22.38  1 porsi   \n",
              "2   Daging Unggas     132      5.95            0.00       18.28    100gr   \n",
              "3           Kikil     200      9.05            8.31       21.77  1 porsi   \n",
              "4          Jeroan     145      2.66            0.00       30.14   100 gr   \n",
              "5          Jeroan     116      4.83            0.00       16.92   100 gr   \n",
              "6          Jeroan     165      4.73            0.15       28.48   100 gr   \n",
              "7            Usus      94      2.06            0.00       17.66   100 gr   \n",
              "8            Usus     130      7.20            1.50       14.00   100 gr   \n",
              "9            Ikan      87      2.08            0.00       16.01   100 gr   \n",
              "10      Cumi-cumi      92      1.38            3.08       15.58   100 gr   \n",
              "11         Gurita      82      1.04            2.20       14.91   100 gr   \n",
              "12          Udang     144      2.35            1.24       27.59   100 gr   \n",
              "13       Kepiting     101      1.76            0.00       20.03   100 gr   \n",
              "14        Lobster      97      0.58            1.27       20.33   100 gr   \n",
              "15         Kerang     217     10.96           10.49       18.14   100 gr   \n",
              "16           Ikan     240     14.53            8.54       17.57   100 gr   \n",
              "17           Ikan     125      5.49            0.00       17.48   100 gr   \n",
              "18           Ikan      96      1.70            0.00       20.08   100 gr   \n",
              "\n",
              "     Keterangan  \n",
              "0          Ayam  \n",
              "1             -  \n",
              "2         Bebek  \n",
              "3             -  \n",
              "4   Ampela Ayam  \n",
              "5     Hati Ayam  \n",
              "6     Hati Sapi  \n",
              "7     Usus Ayam  \n",
              "8     Usus Sapi  \n",
              "9      Ikan Mas  \n",
              "10            -  \n",
              "11            -  \n",
              "12            -  \n",
              "13            -  \n",
              "14            -  \n",
              "15            -  \n",
              "16    Ikan Lele  \n",
              "17  Ikan Gurame  \n",
              "18    Ikan Nila  "
            ],
            "text/html": [
              "\n",
              "  <div id=\"df-8b1476e9-148d-4322-b9a5-6e8b3560de4d\">\n",
              "    <div class=\"colab-df-container\">\n",
              "      <div>\n",
              "<style scoped>\n",
              "    .dataframe tbody tr th:only-of-type {\n",
              "        vertical-align: middle;\n",
              "    }\n",
              "\n",
              "    .dataframe tbody tr th {\n",
              "        vertical-align: top;\n",
              "    }\n",
              "\n",
              "    .dataframe thead th {\n",
              "        text-align: right;\n",
              "    }\n",
              "</style>\n",
              "<table border=\"1\" class=\"dataframe\">\n",
              "  <thead>\n",
              "    <tr style=\"text-align: right;\">\n",
              "      <th></th>\n",
              "      <th>Bahan</th>\n",
              "      <th>Kalori</th>\n",
              "      <th>Lemak(g)</th>\n",
              "      <th>Karbohidrat(g)</th>\n",
              "      <th>Protein(g)</th>\n",
              "      <th>Ukuran</th>\n",
              "      <th>Keterangan</th>\n",
              "    </tr>\n",
              "  </thead>\n",
              "  <tbody>\n",
              "    <tr>\n",
              "      <th>0</th>\n",
              "      <td>Daging Unggas</td>\n",
              "      <td>201</td>\n",
              "      <td>11.47</td>\n",
              "      <td>0.00</td>\n",
              "      <td>23.01</td>\n",
              "      <td>1 porsi</td>\n",
              "      <td>Ayam</td>\n",
              "    </tr>\n",
              "    <tr>\n",
              "      <th>1</th>\n",
              "      <td>Daging Sapi</td>\n",
              "      <td>245</td>\n",
              "      <td>16.61</td>\n",
              "      <td>0.00</td>\n",
              "      <td>22.38</td>\n",
              "      <td>1 porsi</td>\n",
              "      <td>-</td>\n",
              "    </tr>\n",
              "    <tr>\n",
              "      <th>2</th>\n",
              "      <td>Daging Unggas</td>\n",
              "      <td>132</td>\n",
              "      <td>5.95</td>\n",
              "      <td>0.00</td>\n",
              "      <td>18.28</td>\n",
              "      <td>100gr</td>\n",
              "      <td>Bebek</td>\n",
              "    </tr>\n",
              "    <tr>\n",
              "      <th>3</th>\n",
              "      <td>Kikil</td>\n",
              "      <td>200</td>\n",
              "      <td>9.05</td>\n",
              "      <td>8.31</td>\n",
              "      <td>21.77</td>\n",
              "      <td>1 porsi</td>\n",
              "      <td>-</td>\n",
              "    </tr>\n",
              "    <tr>\n",
              "      <th>4</th>\n",
              "      <td>Jeroan</td>\n",
              "      <td>145</td>\n",
              "      <td>2.66</td>\n",
              "      <td>0.00</td>\n",
              "      <td>30.14</td>\n",
              "      <td>100 gr</td>\n",
              "      <td>Ampela Ayam</td>\n",
              "    </tr>\n",
              "    <tr>\n",
              "      <th>5</th>\n",
              "      <td>Jeroan</td>\n",
              "      <td>116</td>\n",
              "      <td>4.83</td>\n",
              "      <td>0.00</td>\n",
              "      <td>16.92</td>\n",
              "      <td>100 gr</td>\n",
              "      <td>Hati Ayam</td>\n",
              "    </tr>\n",
              "    <tr>\n",
              "      <th>6</th>\n",
              "      <td>Jeroan</td>\n",
              "      <td>165</td>\n",
              "      <td>4.73</td>\n",
              "      <td>0.15</td>\n",
              "      <td>28.48</td>\n",
              "      <td>100 gr</td>\n",
              "      <td>Hati Sapi</td>\n",
              "    </tr>\n",
              "    <tr>\n",
              "      <th>7</th>\n",
              "      <td>Usus</td>\n",
              "      <td>94</td>\n",
              "      <td>2.06</td>\n",
              "      <td>0.00</td>\n",
              "      <td>17.66</td>\n",
              "      <td>100 gr</td>\n",
              "      <td>Usus Ayam</td>\n",
              "    </tr>\n",
              "    <tr>\n",
              "      <th>8</th>\n",
              "      <td>Usus</td>\n",
              "      <td>130</td>\n",
              "      <td>7.20</td>\n",
              "      <td>1.50</td>\n",
              "      <td>14.00</td>\n",
              "      <td>100 gr</td>\n",
              "      <td>Usus Sapi</td>\n",
              "    </tr>\n",
              "    <tr>\n",
              "      <th>9</th>\n",
              "      <td>Ikan</td>\n",
              "      <td>87</td>\n",
              "      <td>2.08</td>\n",
              "      <td>0.00</td>\n",
              "      <td>16.01</td>\n",
              "      <td>100 gr</td>\n",
              "      <td>Ikan Mas</td>\n",
              "    </tr>\n",
              "    <tr>\n",
              "      <th>10</th>\n",
              "      <td>Cumi-cumi</td>\n",
              "      <td>92</td>\n",
              "      <td>1.38</td>\n",
              "      <td>3.08</td>\n",
              "      <td>15.58</td>\n",
              "      <td>100 gr</td>\n",
              "      <td>-</td>\n",
              "    </tr>\n",
              "    <tr>\n",
              "      <th>11</th>\n",
              "      <td>Gurita</td>\n",
              "      <td>82</td>\n",
              "      <td>1.04</td>\n",
              "      <td>2.20</td>\n",
              "      <td>14.91</td>\n",
              "      <td>100 gr</td>\n",
              "      <td>-</td>\n",
              "    </tr>\n",
              "    <tr>\n",
              "      <th>12</th>\n",
              "      <td>Udang</td>\n",
              "      <td>144</td>\n",
              "      <td>2.35</td>\n",
              "      <td>1.24</td>\n",
              "      <td>27.59</td>\n",
              "      <td>100 gr</td>\n",
              "      <td>-</td>\n",
              "    </tr>\n",
              "    <tr>\n",
              "      <th>13</th>\n",
              "      <td>Kepiting</td>\n",
              "      <td>101</td>\n",
              "      <td>1.76</td>\n",
              "      <td>0.00</td>\n",
              "      <td>20.03</td>\n",
              "      <td>100 gr</td>\n",
              "      <td>-</td>\n",
              "    </tr>\n",
              "    <tr>\n",
              "      <th>14</th>\n",
              "      <td>Lobster</td>\n",
              "      <td>97</td>\n",
              "      <td>0.58</td>\n",
              "      <td>1.27</td>\n",
              "      <td>20.33</td>\n",
              "      <td>100 gr</td>\n",
              "      <td>-</td>\n",
              "    </tr>\n",
              "    <tr>\n",
              "      <th>15</th>\n",
              "      <td>Kerang</td>\n",
              "      <td>217</td>\n",
              "      <td>10.96</td>\n",
              "      <td>10.49</td>\n",
              "      <td>18.14</td>\n",
              "      <td>100 gr</td>\n",
              "      <td>-</td>\n",
              "    </tr>\n",
              "    <tr>\n",
              "      <th>16</th>\n",
              "      <td>Ikan</td>\n",
              "      <td>240</td>\n",
              "      <td>14.53</td>\n",
              "      <td>8.54</td>\n",
              "      <td>17.57</td>\n",
              "      <td>100 gr</td>\n",
              "      <td>Ikan Lele</td>\n",
              "    </tr>\n",
              "    <tr>\n",
              "      <th>17</th>\n",
              "      <td>Ikan</td>\n",
              "      <td>125</td>\n",
              "      <td>5.49</td>\n",
              "      <td>0.00</td>\n",
              "      <td>17.48</td>\n",
              "      <td>100 gr</td>\n",
              "      <td>Ikan Gurame</td>\n",
              "    </tr>\n",
              "    <tr>\n",
              "      <th>18</th>\n",
              "      <td>Ikan</td>\n",
              "      <td>96</td>\n",
              "      <td>1.70</td>\n",
              "      <td>0.00</td>\n",
              "      <td>20.08</td>\n",
              "      <td>100 gr</td>\n",
              "      <td>Ikan Nila</td>\n",
              "    </tr>\n",
              "  </tbody>\n",
              "</table>\n",
              "</div>\n",
              "      <button class=\"colab-df-convert\" onclick=\"convertToInteractive('df-8b1476e9-148d-4322-b9a5-6e8b3560de4d')\"\n",
              "              title=\"Convert this dataframe to an interactive table.\"\n",
              "              style=\"display:none;\">\n",
              "        \n",
              "  <svg xmlns=\"http://www.w3.org/2000/svg\" height=\"24px\"viewBox=\"0 0 24 24\"\n",
              "       width=\"24px\">\n",
              "    <path d=\"M0 0h24v24H0V0z\" fill=\"none\"/>\n",
              "    <path d=\"M18.56 5.44l.94 2.06.94-2.06 2.06-.94-2.06-.94-.94-2.06-.94 2.06-2.06.94zm-11 1L8.5 8.5l.94-2.06 2.06-.94-2.06-.94L8.5 2.5l-.94 2.06-2.06.94zm10 10l.94 2.06.94-2.06 2.06-.94-2.06-.94-.94-2.06-.94 2.06-2.06.94z\"/><path d=\"M17.41 7.96l-1.37-1.37c-.4-.4-.92-.59-1.43-.59-.52 0-1.04.2-1.43.59L10.3 9.45l-7.72 7.72c-.78.78-.78 2.05 0 2.83L4 21.41c.39.39.9.59 1.41.59.51 0 1.02-.2 1.41-.59l7.78-7.78 2.81-2.81c.8-.78.8-2.07 0-2.86zM5.41 20L4 18.59l7.72-7.72 1.47 1.35L5.41 20z\"/>\n",
              "  </svg>\n",
              "      </button>\n",
              "      \n",
              "  <style>\n",
              "    .colab-df-container {\n",
              "      display:flex;\n",
              "      flex-wrap:wrap;\n",
              "      gap: 12px;\n",
              "    }\n",
              "\n",
              "    .colab-df-convert {\n",
              "      background-color: #E8F0FE;\n",
              "      border: none;\n",
              "      border-radius: 50%;\n",
              "      cursor: pointer;\n",
              "      display: none;\n",
              "      fill: #1967D2;\n",
              "      height: 32px;\n",
              "      padding: 0 0 0 0;\n",
              "      width: 32px;\n",
              "    }\n",
              "\n",
              "    .colab-df-convert:hover {\n",
              "      background-color: #E2EBFA;\n",
              "      box-shadow: 0px 1px 2px rgba(60, 64, 67, 0.3), 0px 1px 3px 1px rgba(60, 64, 67, 0.15);\n",
              "      fill: #174EA6;\n",
              "    }\n",
              "\n",
              "    [theme=dark] .colab-df-convert {\n",
              "      background-color: #3B4455;\n",
              "      fill: #D2E3FC;\n",
              "    }\n",
              "\n",
              "    [theme=dark] .colab-df-convert:hover {\n",
              "      background-color: #434B5C;\n",
              "      box-shadow: 0px 1px 3px 1px rgba(0, 0, 0, 0.15);\n",
              "      filter: drop-shadow(0px 1px 2px rgba(0, 0, 0, 0.3));\n",
              "      fill: #FFFFFF;\n",
              "    }\n",
              "  </style>\n",
              "\n",
              "      <script>\n",
              "        const buttonEl =\n",
              "          document.querySelector('#df-8b1476e9-148d-4322-b9a5-6e8b3560de4d button.colab-df-convert');\n",
              "        buttonEl.style.display =\n",
              "          google.colab.kernel.accessAllowed ? 'block' : 'none';\n",
              "\n",
              "        async function convertToInteractive(key) {\n",
              "          const element = document.querySelector('#df-8b1476e9-148d-4322-b9a5-6e8b3560de4d');\n",
              "          const dataTable =\n",
              "            await google.colab.kernel.invokeFunction('convertToInteractive',\n",
              "                                                     [key], {});\n",
              "          if (!dataTable) return;\n",
              "\n",
              "          const docLinkHtml = 'Like what you see? Visit the ' +\n",
              "            '<a target=\"_blank\" href=https://colab.research.google.com/notebooks/data_table.ipynb>data table notebook</a>'\n",
              "            + ' to learn more about interactive tables.';\n",
              "          element.innerHTML = '';\n",
              "          dataTable['output_type'] = 'display_data';\n",
              "          await google.colab.output.renderOutput(dataTable, element);\n",
              "          const docLink = document.createElement('div');\n",
              "          docLink.innerHTML = docLinkHtml;\n",
              "          element.appendChild(docLink);\n",
              "        }\n",
              "      </script>\n",
              "    </div>\n",
              "  </div>\n",
              "  "
            ]
          },
          "metadata": {},
          "execution_count": 3
        }
      ],
      "source": [
        "# Membaca data dari file CSV\n",
        "df = pd.read_csv('/content/drive/MyDrive/Capstone/Informasi Gizi/Informasi Gizi Daging.csv', sep =  ',')\n",
        "df"
      ]
    },
    {
      "cell_type": "code",
      "execution_count": 4,
      "metadata": {
        "id": "ztlzAHitFj-C"
      },
      "outputs": [],
      "source": [
        "# Nama makanan\n",
        "food_names =  df['Bahan'].values\n",
        "#Data Makanan\n",
        "data = df[['Kalori', 'Lemak(g)', 'Karbohidrat(g)', 'Protein(g)']].values"
      ]
    },
    {
      "cell_type": "code",
      "execution_count": 5,
      "metadata": {
        "id": "J49PLY8MFxdv"
      },
      "outputs": [],
      "source": [
        "# Normalisasi data\n",
        "data_norm = (data - np.min(data, axis=0)) / (np.max(data, axis=0) - np.min(data, axis=0))\n",
        "# Membagi data menjadi data pelatihan, validasi, dan uji\n",
        "train_data, test_data, train_labels, test_labels = train_test_split(data_norm, data_norm[:, 0], test_size=0.2, random_state=42)\n",
        "train_data, val_data, train_labels, val_labels = train_test_split(train_data, train_labels, test_size=0.2, random_state=42)"
      ]
    },
    {
      "cell_type": "code",
      "execution_count": null,
      "metadata": {
        "id": "7bAiSqGGGEdJ"
      },
      "outputs": [],
      "source": [
        "# Membangun model TensorFlow\n",
        "modelrekom= tf.keras.Sequential([\n",
        "    tf.keras.layers.Dense(32, activation='relu', input_shape=(4,)),\n",
        "    tf.keras.layers.Dense(16, activation='relu'),\n",
        "    tf.keras.layers.Dense(1)\n",
        "])"
      ]
    },
    {
      "cell_type": "code",
      "execution_count": null,
      "metadata": {
        "id": "hf3UTZNnGMsT"
      },
      "outputs": [],
      "source": [
        "# Kompilasi model\n",
        "modelrekom.compile(optimizer='adam', loss='mean_squared_error')"
      ]
    },
    {
      "cell_type": "code",
      "execution_count": null,
      "metadata": {
        "colab": {
          "base_uri": "https://localhost:8080/"
        },
        "id": "1EBby7K3GOQ5",
        "outputId": "85711911-a16b-4b1c-9c02-2d38e075e318"
      },
      "outputs": [
        {
          "output_type": "stream",
          "name": "stdout",
          "text": [
            "Epoch 1/100\n",
            "1/1 [==============================] - 3s 3s/step - loss: 0.3553 - val_loss: 0.0859\n",
            "Epoch 2/100\n",
            "1/1 [==============================] - 0s 52ms/step - loss: 0.3404 - val_loss: 0.0805\n",
            "Epoch 3/100\n",
            "1/1 [==============================] - 0s 45ms/step - loss: 0.3262 - val_loss: 0.0753\n",
            "Epoch 4/100\n",
            "1/1 [==============================] - 0s 44ms/step - loss: 0.3142 - val_loss: 0.0705\n",
            "Epoch 5/100\n",
            "1/1 [==============================] - 0s 56ms/step - loss: 0.3035 - val_loss: 0.0659\n",
            "Epoch 6/100\n",
            "1/1 [==============================] - 0s 59ms/step - loss: 0.2932 - val_loss: 0.0616\n",
            "Epoch 7/100\n",
            "1/1 [==============================] - 0s 62ms/step - loss: 0.2832 - val_loss: 0.0579\n",
            "Epoch 8/100\n",
            "1/1 [==============================] - 0s 63ms/step - loss: 0.2734 - val_loss: 0.0544\n",
            "Epoch 9/100\n",
            "1/1 [==============================] - 0s 74ms/step - loss: 0.2633 - val_loss: 0.0510\n",
            "Epoch 10/100\n",
            "1/1 [==============================] - 0s 49ms/step - loss: 0.2533 - val_loss: 0.0478\n",
            "Epoch 11/100\n",
            "1/1 [==============================] - 0s 53ms/step - loss: 0.2434 - val_loss: 0.0448\n",
            "Epoch 12/100\n",
            "1/1 [==============================] - 0s 62ms/step - loss: 0.2336 - val_loss: 0.0419\n",
            "Epoch 13/100\n",
            "1/1 [==============================] - 0s 59ms/step - loss: 0.2241 - val_loss: 0.0391\n",
            "Epoch 14/100\n",
            "1/1 [==============================] - 0s 53ms/step - loss: 0.2149 - val_loss: 0.0365\n",
            "Epoch 15/100\n",
            "1/1 [==============================] - 0s 61ms/step - loss: 0.2061 - val_loss: 0.0341\n",
            "Epoch 16/100\n",
            "1/1 [==============================] - 0s 47ms/step - loss: 0.1975 - val_loss: 0.0318\n",
            "Epoch 17/100\n",
            "1/1 [==============================] - 0s 58ms/step - loss: 0.1892 - val_loss: 0.0297\n",
            "Epoch 18/100\n",
            "1/1 [==============================] - 0s 43ms/step - loss: 0.1812 - val_loss: 0.0278\n",
            "Epoch 19/100\n",
            "1/1 [==============================] - 0s 71ms/step - loss: 0.1734 - val_loss: 0.0260\n",
            "Epoch 20/100\n",
            "1/1 [==============================] - 0s 80ms/step - loss: 0.1657 - val_loss: 0.0243\n",
            "Epoch 21/100\n",
            "1/1 [==============================] - 0s 53ms/step - loss: 0.1582 - val_loss: 0.0228\n",
            "Epoch 22/100\n",
            "1/1 [==============================] - 0s 79ms/step - loss: 0.1510 - val_loss: 0.0215\n",
            "Epoch 23/100\n",
            "1/1 [==============================] - 0s 48ms/step - loss: 0.1441 - val_loss: 0.0203\n",
            "Epoch 24/100\n",
            "1/1 [==============================] - 0s 51ms/step - loss: 0.1375 - val_loss: 0.0192\n",
            "Epoch 25/100\n",
            "1/1 [==============================] - 0s 118ms/step - loss: 0.1311 - val_loss: 0.0183\n",
            "Epoch 26/100\n",
            "1/1 [==============================] - 0s 85ms/step - loss: 0.1250 - val_loss: 0.0175\n",
            "Epoch 27/100\n",
            "1/1 [==============================] - 0s 50ms/step - loss: 0.1190 - val_loss: 0.0168\n",
            "Epoch 28/100\n",
            "1/1 [==============================] - 0s 46ms/step - loss: 0.1133 - val_loss: 0.0161\n",
            "Epoch 29/100\n",
            "1/1 [==============================] - 0s 56ms/step - loss: 0.1079 - val_loss: 0.0155\n",
            "Epoch 30/100\n",
            "1/1 [==============================] - 0s 156ms/step - loss: 0.1026 - val_loss: 0.0151\n",
            "Epoch 31/100\n",
            "1/1 [==============================] - 0s 79ms/step - loss: 0.0977 - val_loss: 0.0147\n",
            "Epoch 32/100\n",
            "1/1 [==============================] - 0s 64ms/step - loss: 0.0933 - val_loss: 0.0144\n",
            "Epoch 33/100\n",
            "1/1 [==============================] - 0s 87ms/step - loss: 0.0889 - val_loss: 0.0142\n",
            "Epoch 34/100\n",
            "1/1 [==============================] - 0s 79ms/step - loss: 0.0846 - val_loss: 0.0140\n",
            "Epoch 35/100\n",
            "1/1 [==============================] - 0s 52ms/step - loss: 0.0805 - val_loss: 0.0141\n",
            "Epoch 36/100\n",
            "1/1 [==============================] - 0s 45ms/step - loss: 0.0766 - val_loss: 0.0142\n",
            "Epoch 37/100\n",
            "1/1 [==============================] - 0s 77ms/step - loss: 0.0729 - val_loss: 0.0144\n",
            "Epoch 38/100\n",
            "1/1 [==============================] - 0s 51ms/step - loss: 0.0694 - val_loss: 0.0146\n",
            "Epoch 39/100\n",
            "1/1 [==============================] - 0s 59ms/step - loss: 0.0660 - val_loss: 0.0148\n",
            "Epoch 40/100\n",
            "1/1 [==============================] - 0s 117ms/step - loss: 0.0628 - val_loss: 0.0151\n",
            "Epoch 41/100\n",
            "1/1 [==============================] - 0s 68ms/step - loss: 0.0597 - val_loss: 0.0153\n",
            "Epoch 42/100\n",
            "1/1 [==============================] - 0s 50ms/step - loss: 0.0568 - val_loss: 0.0155\n",
            "Epoch 43/100\n",
            "1/1 [==============================] - 0s 80ms/step - loss: 0.0542 - val_loss: 0.0157\n",
            "Epoch 44/100\n",
            "1/1 [==============================] - 0s 100ms/step - loss: 0.0517 - val_loss: 0.0158\n",
            "Epoch 45/100\n",
            "1/1 [==============================] - 0s 64ms/step - loss: 0.0494 - val_loss: 0.0160\n",
            "Epoch 46/100\n",
            "1/1 [==============================] - 0s 74ms/step - loss: 0.0475 - val_loss: 0.0161\n",
            "Epoch 47/100\n",
            "1/1 [==============================] - 0s 52ms/step - loss: 0.0455 - val_loss: 0.0163\n",
            "Epoch 48/100\n",
            "1/1 [==============================] - 0s 55ms/step - loss: 0.0436 - val_loss: 0.0164\n",
            "Epoch 49/100\n",
            "1/1 [==============================] - 0s 115ms/step - loss: 0.0415 - val_loss: 0.0166\n",
            "Epoch 50/100\n",
            "1/1 [==============================] - 0s 57ms/step - loss: 0.0395 - val_loss: 0.0168\n",
            "Epoch 51/100\n",
            "1/1 [==============================] - 0s 50ms/step - loss: 0.0374 - val_loss: 0.0169\n",
            "Epoch 52/100\n",
            "1/1 [==============================] - 0s 67ms/step - loss: 0.0355 - val_loss: 0.0170\n",
            "Epoch 53/100\n",
            "1/1 [==============================] - 0s 63ms/step - loss: 0.0336 - val_loss: 0.0171\n",
            "Epoch 54/100\n",
            "1/1 [==============================] - 0s 71ms/step - loss: 0.0318 - val_loss: 0.0171\n",
            "Epoch 55/100\n",
            "1/1 [==============================] - 0s 74ms/step - loss: 0.0301 - val_loss: 0.0171\n",
            "Epoch 56/100\n",
            "1/1 [==============================] - 0s 45ms/step - loss: 0.0284 - val_loss: 0.0170\n",
            "Epoch 57/100\n",
            "1/1 [==============================] - 0s 67ms/step - loss: 0.0268 - val_loss: 0.0168\n",
            "Epoch 58/100\n",
            "1/1 [==============================] - 0s 76ms/step - loss: 0.0253 - val_loss: 0.0166\n",
            "Epoch 59/100\n",
            "1/1 [==============================] - 0s 45ms/step - loss: 0.0238 - val_loss: 0.0163\n",
            "Epoch 60/100\n",
            "1/1 [==============================] - 0s 75ms/step - loss: 0.0225 - val_loss: 0.0160\n",
            "Epoch 61/100\n",
            "1/1 [==============================] - 0s 131ms/step - loss: 0.0211 - val_loss: 0.0155\n",
            "Epoch 62/100\n",
            "1/1 [==============================] - 0s 69ms/step - loss: 0.0199 - val_loss: 0.0151\n",
            "Epoch 63/100\n",
            "1/1 [==============================] - 0s 81ms/step - loss: 0.0188 - val_loss: 0.0145\n",
            "Epoch 64/100\n",
            "1/1 [==============================] - 0s 43ms/step - loss: 0.0178 - val_loss: 0.0140\n",
            "Epoch 65/100\n",
            "1/1 [==============================] - 0s 85ms/step - loss: 0.0167 - val_loss: 0.0134\n",
            "Epoch 66/100\n",
            "1/1 [==============================] - 0s 106ms/step - loss: 0.0157 - val_loss: 0.0127\n",
            "Epoch 67/100\n",
            "1/1 [==============================] - 0s 51ms/step - loss: 0.0148 - val_loss: 0.0120\n",
            "Epoch 68/100\n",
            "1/1 [==============================] - 0s 65ms/step - loss: 0.0138 - val_loss: 0.0113\n",
            "Epoch 69/100\n",
            "1/1 [==============================] - 0s 82ms/step - loss: 0.0129 - val_loss: 0.0105\n",
            "Epoch 70/100\n",
            "1/1 [==============================] - 0s 67ms/step - loss: 0.0120 - val_loss: 0.0098\n",
            "Epoch 71/100\n",
            "1/1 [==============================] - 0s 81ms/step - loss: 0.0112 - val_loss: 0.0090\n",
            "Epoch 72/100\n",
            "1/1 [==============================] - 0s 68ms/step - loss: 0.0104 - val_loss: 0.0082\n",
            "Epoch 73/100\n",
            "1/1 [==============================] - 0s 48ms/step - loss: 0.0096 - val_loss: 0.0075\n",
            "Epoch 74/100\n",
            "1/1 [==============================] - 0s 62ms/step - loss: 0.0089 - val_loss: 0.0068\n",
            "Epoch 75/100\n",
            "1/1 [==============================] - 0s 82ms/step - loss: 0.0082 - val_loss: 0.0061\n",
            "Epoch 76/100\n",
            "1/1 [==============================] - 0s 67ms/step - loss: 0.0075 - val_loss: 0.0054\n",
            "Epoch 77/100\n",
            "1/1 [==============================] - 0s 41ms/step - loss: 0.0069 - val_loss: 0.0048\n",
            "Epoch 78/100\n",
            "1/1 [==============================] - 0s 31ms/step - loss: 0.0063 - val_loss: 0.0043\n",
            "Epoch 79/100\n",
            "1/1 [==============================] - 0s 33ms/step - loss: 0.0058 - val_loss: 0.0038\n",
            "Epoch 80/100\n",
            "1/1 [==============================] - 0s 31ms/step - loss: 0.0053 - val_loss: 0.0033\n",
            "Epoch 81/100\n",
            "1/1 [==============================] - 0s 51ms/step - loss: 0.0048 - val_loss: 0.0029\n",
            "Epoch 82/100\n",
            "1/1 [==============================] - 0s 66ms/step - loss: 0.0044 - val_loss: 0.0026\n",
            "Epoch 83/100\n",
            "1/1 [==============================] - 0s 47ms/step - loss: 0.0039 - val_loss: 0.0023\n",
            "Epoch 84/100\n",
            "1/1 [==============================] - 0s 65ms/step - loss: 0.0036 - val_loss: 0.0020\n",
            "Epoch 85/100\n",
            "1/1 [==============================] - 0s 48ms/step - loss: 0.0032 - val_loss: 0.0017\n",
            "Epoch 86/100\n",
            "1/1 [==============================] - 0s 68ms/step - loss: 0.0029 - val_loss: 0.0015\n",
            "Epoch 87/100\n",
            "1/1 [==============================] - 0s 44ms/step - loss: 0.0026 - val_loss: 0.0013\n",
            "Epoch 88/100\n",
            "1/1 [==============================] - 0s 44ms/step - loss: 0.0023 - val_loss: 0.0012\n",
            "Epoch 89/100\n",
            "1/1 [==============================] - 0s 49ms/step - loss: 0.0020 - val_loss: 0.0010\n",
            "Epoch 90/100\n",
            "1/1 [==============================] - 0s 53ms/step - loss: 0.0018 - val_loss: 9.1866e-04\n",
            "Epoch 91/100\n",
            "1/1 [==============================] - 0s 53ms/step - loss: 0.0016 - val_loss: 8.1350e-04\n",
            "Epoch 92/100\n",
            "1/1 [==============================] - 0s 55ms/step - loss: 0.0014 - val_loss: 7.2779e-04\n",
            "Epoch 93/100\n",
            "1/1 [==============================] - 0s 45ms/step - loss: 0.0012 - val_loss: 6.6240e-04\n",
            "Epoch 94/100\n",
            "1/1 [==============================] - 0s 42ms/step - loss: 0.0010 - val_loss: 5.6074e-04\n",
            "Epoch 95/100\n",
            "1/1 [==============================] - 0s 45ms/step - loss: 9.1314e-04 - val_loss: 4.7183e-04\n",
            "Epoch 96/100\n",
            "1/1 [==============================] - 0s 60ms/step - loss: 7.9928e-04 - val_loss: 3.9883e-04\n",
            "Epoch 97/100\n",
            "1/1 [==============================] - 0s 74ms/step - loss: 6.9131e-04 - val_loss: 3.3718e-04\n",
            "Epoch 98/100\n",
            "1/1 [==============================] - 0s 45ms/step - loss: 6.0168e-04 - val_loss: 3.1903e-04\n",
            "Epoch 99/100\n",
            "1/1 [==============================] - 0s 43ms/step - loss: 5.2811e-04 - val_loss: 3.1706e-04\n",
            "Epoch 100/100\n",
            "1/1 [==============================] - 0s 58ms/step - loss: 4.6756e-04 - val_loss: 3.2409e-04\n"
          ]
        },
        {
          "output_type": "execute_result",
          "data": {
            "text/plain": [
              "<keras.callbacks.History at 0x7efb9942a6e0>"
            ]
          },
          "metadata": {},
          "execution_count": 10
        }
      ],
      "source": [
        "# Melatih model\n",
        "modelrekom.fit(train_data, train_labels, validation_data=(val_data, val_labels), epochs=100, verbose=1)"
      ]
    },
    {
      "cell_type": "code",
      "execution_count": null,
      "metadata": {
        "colab": {
          "base_uri": "https://localhost:8080/"
        },
        "id": "-O5bD3ZyGWNj",
        "outputId": "74a666c4-28ae-44e2-ef3e-4fa39bc5f228"
      },
      "outputs": [
        {
          "output_type": "stream",
          "name": "stdout",
          "text": [
            "1/1 [==============================] - 0s 22ms/step - loss: 0.0145\n"
          ]
        }
      ],
      "source": [
        "# Evaluasi model pada data uji\n",
        "loss = modelrekom.evaluate(test_data, test_labels)"
      ]
    },
    {
      "cell_type": "markdown",
      "source": [
        "**Saving Recommendation Model of Daily Food**"
      ],
      "metadata": {
        "id": "l94-TO6SOBGI"
      }
    },
    {
      "cell_type": "code",
      "execution_count": null,
      "metadata": {
        "id": "TwGrBNVyVy0Z"
      },
      "outputs": [],
      "source": [
        "# from tensorflow.keras.models import save_model\n",
        "\n",
        "# # Simpan model ke Google Drive\n",
        "# model_path = '/content/drive/MyDrive/Capstone/MODEL/Model Rekomendasi DagingJeroan Fix BGT BGT BGT.h5'\n",
        "# save_model(modelrekom, model_path)"
      ]
    },
    {
      "cell_type": "markdown",
      "source": [
        "##**Prediction and Recommendation**"
      ],
      "metadata": {
        "id": "F0z6EfQTORD1"
      }
    },
    {
      "cell_type": "markdown",
      "source": [
        "**Image Predictions and Nutrient Information**"
      ],
      "metadata": {
        "id": "ZIYmKFVLOUMq"
      }
    },
    {
      "cell_type": "markdown",
      "source": [
        "Image predictions and nutrient information go hand in hand to provide valuable insights into our food choices. By leveraging computer vision and machine learning algorithms, image predictions can analyze food images and identify the types of food present. This enables the automatic recognition and categorization of various dishes, ingredients, and portion sizes. Once the food is identified, nutrient information can be retrieved from databases or APIs to obtain detailed nutritional data such as calories, protein, carbohydrates, and fats. This combined approach empowers individuals to make informed decisions about their meals, allowing them to track and monitor their nutrient intake more accurately. It can be particularly helpful for individuals with specific dietary needs, such as those following specific diets or managing certain health conditions, by providing immediate feedback and guidance on the nutritional content of their food choices."
      ],
      "metadata": {
        "id": "0nJrUqhOSohh"
      }
    },
    {
      "cell_type": "code",
      "source": [
        "import numpy as np\n",
        "import matplotlib\n",
        "import matplotlib.pyplot as plt\n",
        "from keras.preprocessing import image\n",
        "from tensorflow.keras.preprocessing.image import img_to_array, load_img\n",
        "from tensorflow.keras.applications.efficientnet import preprocess_input\n",
        "import tensorflow as tf\n",
        "from PIL import Image\n",
        "import os"
      ],
      "metadata": {
        "id": "mvy5a1NgOX2D"
      },
      "execution_count": 6,
      "outputs": []
    },
    {
      "cell_type": "code",
      "source": [
        "from google.colab import files\n",
        "from keras.preprocessing import image\n",
        "from tensorflow.python.ops.numpy_ops import np_config\n",
        "# Mengunggah gambar dari sistem lokal\n",
        "uploaded = files.upload()\n",
        "\n",
        "\n",
        "# Mengambil path gambar yang diunggah\n",
        "image_path = list(uploaded.keys())[0]\n",
        "\n",
        "# Memuat model yang telah dilatih\n",
        "modell = tf.keras.models.load_model('/content/drive/MyDrive/Capstone/MODEL/Model Dagingjeroan baru.h5')\n",
        "model = modell\n",
        "\n",
        "# Daftar nama kelas yang sesuai dengan model Anda\n",
        "class_names = ['Cumi-cumi', 'Daging Sapi','Daging Unggas','Gurita','Ikan','Jeroan','Kepiting','Kerang','Kikil','Lobster','Udang','Usus']\n",
        "\n",
        "# Membaca dan mempersiapkan gambar untuk prediksi\n",
        "img = tf.keras.utils.load_img(image_path, target_size=(150, 150))\n",
        "x = tf.keras.utils.img_to_array(img)\n",
        "x = np.expand_dims(x, axis=0)\n",
        "x = x / 255.0\n",
        "\n",
        "# Mengubah gambar menjadi tensor\n",
        "x = tf.convert_to_tensor(x, dtype=tf.float32)\n",
        "\n",
        "# Melakukan prediksi\n",
        "predictions = model(x)\n",
        "predicted_class_index = tf.argmax(predictions[0]).numpy()\n",
        "predicted_class = class_names[predicted_class_index]\n",
        "\n",
        "# Mengambil informasi nutrisi berdasarkan kelas prediksi\n",
        "predicted_class = class_names[predicted_class_index]\n",
        "nutrient_info = df.loc[df['Bahan'] == predicted_class, ['Kalori', 'Lemak(g)', 'Karbohidrat(g)', 'Protein(g)','Ukuran','Keterangan']]\n",
        "\n",
        "# Menampilkan hasil prediksi\n",
        "print('Predicted class:', predicted_class)\n",
        "\n",
        "# Menampilkan informasi nutrisi tanpa indeks\n",
        "print(\"Nutrient Information:\")\n",
        "print(nutrient_info.to_string(index=False))\n",
        "\n",
        "# Menampilkan gambar\n",
        "img = tf.keras.utils.load_img(image_path)\n",
        "plt.imshow(img)\n",
        "plt.axis('off')\n",
        "plt.show()"
      ],
      "metadata": {
        "colab": {
          "base_uri": "https://localhost:8080/",
          "height": 549
        },
        "id": "-o9shjjvOq3Q",
        "outputId": "a47125a3-e9c6-4c85-f30e-d815383f6cb7"
      },
      "execution_count": 7,
      "outputs": [
        {
          "output_type": "display_data",
          "data": {
            "text/plain": [
              "<IPython.core.display.HTML object>"
            ],
            "text/html": [
              "\n",
              "     <input type=\"file\" id=\"files-b5760f5e-f98e-44c5-b940-a677e80c64ba\" name=\"files[]\" multiple disabled\n",
              "        style=\"border:none\" />\n",
              "     <output id=\"result-b5760f5e-f98e-44c5-b940-a677e80c64ba\">\n",
              "      Upload widget is only available when the cell has been executed in the\n",
              "      current browser session. Please rerun this cell to enable.\n",
              "      </output>\n",
              "      <script>// Copyright 2017 Google LLC\n",
              "//\n",
              "// Licensed under the Apache License, Version 2.0 (the \"License\");\n",
              "// you may not use this file except in compliance with the License.\n",
              "// You may obtain a copy of the License at\n",
              "//\n",
              "//      http://www.apache.org/licenses/LICENSE-2.0\n",
              "//\n",
              "// Unless required by applicable law or agreed to in writing, software\n",
              "// distributed under the License is distributed on an \"AS IS\" BASIS,\n",
              "// WITHOUT WARRANTIES OR CONDITIONS OF ANY KIND, either express or implied.\n",
              "// See the License for the specific language governing permissions and\n",
              "// limitations under the License.\n",
              "\n",
              "/**\n",
              " * @fileoverview Helpers for google.colab Python module.\n",
              " */\n",
              "(function(scope) {\n",
              "function span(text, styleAttributes = {}) {\n",
              "  const element = document.createElement('span');\n",
              "  element.textContent = text;\n",
              "  for (const key of Object.keys(styleAttributes)) {\n",
              "    element.style[key] = styleAttributes[key];\n",
              "  }\n",
              "  return element;\n",
              "}\n",
              "\n",
              "// Max number of bytes which will be uploaded at a time.\n",
              "const MAX_PAYLOAD_SIZE = 100 * 1024;\n",
              "\n",
              "function _uploadFiles(inputId, outputId) {\n",
              "  const steps = uploadFilesStep(inputId, outputId);\n",
              "  const outputElement = document.getElementById(outputId);\n",
              "  // Cache steps on the outputElement to make it available for the next call\n",
              "  // to uploadFilesContinue from Python.\n",
              "  outputElement.steps = steps;\n",
              "\n",
              "  return _uploadFilesContinue(outputId);\n",
              "}\n",
              "\n",
              "// This is roughly an async generator (not supported in the browser yet),\n",
              "// where there are multiple asynchronous steps and the Python side is going\n",
              "// to poll for completion of each step.\n",
              "// This uses a Promise to block the python side on completion of each step,\n",
              "// then passes the result of the previous step as the input to the next step.\n",
              "function _uploadFilesContinue(outputId) {\n",
              "  const outputElement = document.getElementById(outputId);\n",
              "  const steps = outputElement.steps;\n",
              "\n",
              "  const next = steps.next(outputElement.lastPromiseValue);\n",
              "  return Promise.resolve(next.value.promise).then((value) => {\n",
              "    // Cache the last promise value to make it available to the next\n",
              "    // step of the generator.\n",
              "    outputElement.lastPromiseValue = value;\n",
              "    return next.value.response;\n",
              "  });\n",
              "}\n",
              "\n",
              "/**\n",
              " * Generator function which is called between each async step of the upload\n",
              " * process.\n",
              " * @param {string} inputId Element ID of the input file picker element.\n",
              " * @param {string} outputId Element ID of the output display.\n",
              " * @return {!Iterable<!Object>} Iterable of next steps.\n",
              " */\n",
              "function* uploadFilesStep(inputId, outputId) {\n",
              "  const inputElement = document.getElementById(inputId);\n",
              "  inputElement.disabled = false;\n",
              "\n",
              "  const outputElement = document.getElementById(outputId);\n",
              "  outputElement.innerHTML = '';\n",
              "\n",
              "  const pickedPromise = new Promise((resolve) => {\n",
              "    inputElement.addEventListener('change', (e) => {\n",
              "      resolve(e.target.files);\n",
              "    });\n",
              "  });\n",
              "\n",
              "  const cancel = document.createElement('button');\n",
              "  inputElement.parentElement.appendChild(cancel);\n",
              "  cancel.textContent = 'Cancel upload';\n",
              "  const cancelPromise = new Promise((resolve) => {\n",
              "    cancel.onclick = () => {\n",
              "      resolve(null);\n",
              "    };\n",
              "  });\n",
              "\n",
              "  // Wait for the user to pick the files.\n",
              "  const files = yield {\n",
              "    promise: Promise.race([pickedPromise, cancelPromise]),\n",
              "    response: {\n",
              "      action: 'starting',\n",
              "    }\n",
              "  };\n",
              "\n",
              "  cancel.remove();\n",
              "\n",
              "  // Disable the input element since further picks are not allowed.\n",
              "  inputElement.disabled = true;\n",
              "\n",
              "  if (!files) {\n",
              "    return {\n",
              "      response: {\n",
              "        action: 'complete',\n",
              "      }\n",
              "    };\n",
              "  }\n",
              "\n",
              "  for (const file of files) {\n",
              "    const li = document.createElement('li');\n",
              "    li.append(span(file.name, {fontWeight: 'bold'}));\n",
              "    li.append(span(\n",
              "        `(${file.type || 'n/a'}) - ${file.size} bytes, ` +\n",
              "        `last modified: ${\n",
              "            file.lastModifiedDate ? file.lastModifiedDate.toLocaleDateString() :\n",
              "                                    'n/a'} - `));\n",
              "    const percent = span('0% done');\n",
              "    li.appendChild(percent);\n",
              "\n",
              "    outputElement.appendChild(li);\n",
              "\n",
              "    const fileDataPromise = new Promise((resolve) => {\n",
              "      const reader = new FileReader();\n",
              "      reader.onload = (e) => {\n",
              "        resolve(e.target.result);\n",
              "      };\n",
              "      reader.readAsArrayBuffer(file);\n",
              "    });\n",
              "    // Wait for the data to be ready.\n",
              "    let fileData = yield {\n",
              "      promise: fileDataPromise,\n",
              "      response: {\n",
              "        action: 'continue',\n",
              "      }\n",
              "    };\n",
              "\n",
              "    // Use a chunked sending to avoid message size limits. See b/62115660.\n",
              "    let position = 0;\n",
              "    do {\n",
              "      const length = Math.min(fileData.byteLength - position, MAX_PAYLOAD_SIZE);\n",
              "      const chunk = new Uint8Array(fileData, position, length);\n",
              "      position += length;\n",
              "\n",
              "      const base64 = btoa(String.fromCharCode.apply(null, chunk));\n",
              "      yield {\n",
              "        response: {\n",
              "          action: 'append',\n",
              "          file: file.name,\n",
              "          data: base64,\n",
              "        },\n",
              "      };\n",
              "\n",
              "      let percentDone = fileData.byteLength === 0 ?\n",
              "          100 :\n",
              "          Math.round((position / fileData.byteLength) * 100);\n",
              "      percent.textContent = `${percentDone}% done`;\n",
              "\n",
              "    } while (position < fileData.byteLength);\n",
              "  }\n",
              "\n",
              "  // All done.\n",
              "  yield {\n",
              "    response: {\n",
              "      action: 'complete',\n",
              "    }\n",
              "  };\n",
              "}\n",
              "\n",
              "scope.google = scope.google || {};\n",
              "scope.google.colab = scope.google.colab || {};\n",
              "scope.google.colab._files = {\n",
              "  _uploadFiles,\n",
              "  _uploadFilesContinue,\n",
              "};\n",
              "})(self);\n",
              "</script> "
            ]
          },
          "metadata": {}
        },
        {
          "output_type": "stream",
          "name": "stdout",
          "text": [
            "Saving uji4.jpg to uji4.jpg\n",
            "Predicted class: Daging Unggas\n",
            "Nutrient Information:\n",
            " Kalori  Lemak(g)  Karbohidrat(g)  Protein(g)  Ukuran Keterangan\n",
            "    201     11.47             0.0       23.01 1 porsi       Ayam\n",
            "    132      5.95             0.0       18.28   100gr      Bebek\n"
          ]
        },
        {
          "output_type": "display_data",
          "data": {
            "text/plain": [
              "<Figure size 640x480 with 1 Axes>"
            ],
            "image/png": "[encoded data removed]"
          },
          "metadata": {}
        }
      ]
    },
    {
      "cell_type": "markdown",
      "source": [
        "**Closest Nutritions Recommendation**"
      ],
      "metadata": {
        "id": "AUVvhUEvO1hA"
      }
    },
    {
      "cell_type": "markdown",
      "source": [
        "Recommendation for finding the closest nutrition involves utilizing tools such as nutrition databases or mobile applications specifically designed for tracking food intake. These resources enable users to search for specific food items and retrieve detailed nutritional information. By inputting the desired food item, users can obtain data calories, protein, carbohydrates, and fats."
      ],
      "metadata": {
        "id": "RFaD1QEpS-fk"
      }
    },
    {
      "cell_type": "code",
      "source": [
        "#MODEL REKOMENDASI\n",
        "modelrekom = tf.keras.models.load_model('/content/drive/MyDrive/Capstone/MODEL/Model Rekomendasi DagingJeroan Fix BGT BGT BGT.h5')"
      ],
      "metadata": {
        "id": "SiCNJAOYO2RI"
      },
      "execution_count": 8,
      "outputs": []
    },
    {
      "cell_type": "code",
      "source": [
        "# Rata - Rata Informasi Gizi Dari Gambar Yang Diprediksi\n",
        "detected_nutrients = nutrient_info[['Kalori', 'Lemak(g)', 'Karbohidrat(g)', 'Protein(g)']]\n",
        "mean_nutrients = detected_nutrients.mean(numeric_only=True)\n",
        "print(mean_nutrients)"
      ],
      "metadata": {
        "colab": {
          "base_uri": "https://localhost:8080/"
        },
        "id": "wYw0W_ZZOpZZ",
        "outputId": "ed02ea60-8680-4466-9bd7-77a81760d043"
      },
      "execution_count": 9,
      "outputs": [
        {
          "output_type": "stream",
          "name": "stdout",
          "text": [
            "Kalori            166.500\n",
            "Lemak(g)            8.710\n",
            "Karbohidrat(g)      0.000\n",
            "Protein(g)         20.645\n",
            "dtype: float64\n"
          ]
        }
      ]
    },
    {
      "cell_type": "code",
      "source": [
        "# Nama makanan\n",
        "food_names =  df['Bahan'].values\n",
        "#Data Makanan\n",
        "data = df[['Kalori', 'Lemak(g)', 'Karbohidrat(g)', 'Protein(g)']].values"
      ],
      "metadata": {
        "id": "R2UdYZoAd8D1"
      },
      "execution_count": 10,
      "outputs": []
    },
    {
      "cell_type": "code",
      "source": [
        "# Mencari makanan dengan kalori terdekat\n",
        "detected_object = mean_nutrients.values\n",
        "detected_object_norm = (detected_object - np.min(data, axis=0)) / (np.max(data, axis=0) - np.min(data, axis=0))\n",
        "predicted_calories = modelrekom.predict(np.expand_dims(detected_object_norm, axis=0))\n",
        "predicted_calories = predicted_calories * (np.max(data, axis=0)[0] - np.min(data, axis=0)[0]) + np.min(data, axis=0)[0]\n",
        "predicted_calories = np.squeeze(predicted_calories)"
      ],
      "metadata": {
        "colab": {
          "base_uri": "https://localhost:8080/"
        },
        "id": "TsnlRUV8O8aJ",
        "outputId": "02d7be0f-7082-486e-9acc-8a35635744ec"
      },
      "execution_count": 11,
      "outputs": [
        {
          "output_type": "stream",
          "name": "stdout",
          "text": [
            "1/1 [==============================] - 0s 117ms/step\n"
          ]
        }
      ]
    },
    {
      "cell_type": "code",
      "source": [
        "# Mencari 3 makanan dengan kalori terdekat\n",
        "min_calories_diffs = []\n",
        "recommended_foods = []\n",
        "recommended_sizes = []\n",
        "\n",
        "for i in range(len(data)):\n",
        "    calories_diff = abs(predicted_calories - data[i][0])\n",
        "    if food_names[i] == predicted_class:\n",
        "        continue\n",
        "    if len(min_calories_diffs) < 3:\n",
        "        if food_names[i] not in recommended_foods:\n",
        "            min_calories_diffs.append(calories_diff)\n",
        "            recommended_foods.append(food_names[i])\n",
        "            recommended_sizes.append(df.loc[i, 'Ukuran'])\n",
        "    else:\n",
        "        max_diff_index = np.argmax(min_calories_diffs)\n",
        "        if calories_diff < min_calories_diffs[max_diff_index]:\n",
        "            if food_names[i] not in recommended_foods:\n",
        "                min_calories_diffs[max_diff_index] = calories_diff\n",
        "                recommended_foods[max_diff_index] = food_names[i]\n",
        "                recommended_sizes[max_diff_index] = df.loc[i, 'Ukuran']\n",
        "\n",
        "# Membuat list untuk menyimpan informasi nutrisi rekomendasi makanan\n",
        "recommended_nutrients = []\n",
        "\n",
        "# Menampilkan rekomendasi makanan dengan informasi nutrisi terdekat\n",
        "print(\"Rekomendasi Makanan dengan Informasi Gizi Terdekat:\")\n",
        "for i in range(len(recommended_foods)):\n",
        "    food_index = np.where(food_names == recommended_foods[i])[0][0]\n",
        "    food_nutrients = df.loc[food_index, ['Kalori', 'Lemak(g)', 'Karbohidrat(g)', 'Protein(g)']]\n",
        "    recommended_nutrients.append(food_nutrients)\n",
        "\n",
        "    print(\"- \", recommended_foods[i], \"(\", recommended_sizes[i], \")\")\n",
        "    print(\"   Jumlah Kalori:\", food_nutrients['Kalori'], \"kalori\")\n",
        "    print(\"   Karbohidrat:\", food_nutrients['Karbohidrat(g)'], \"g\")\n",
        "    print(\"   Lemak:\", food_nutrients['Lemak(g)'], \"g\")\n",
        "    print(\"   Protein:\", food_nutrients['Protein(g)'], \"g\")\n",
        "    print()"
      ],
      "metadata": {
        "colab": {
          "base_uri": "https://localhost:8080/"
        },
        "id": "jig4uSaHPGjq",
        "outputId": "a15ad4a3-84a8-40ae-be50-52d6a6f56202"
      },
      "execution_count": 12,
      "outputs": [
        {
          "output_type": "stream",
          "name": "stdout",
          "text": [
            "Rekomendasi Makanan dengan Informasi Gizi Terdekat:\n",
            "-  Udang ( 100 gr )\n",
            "   Jumlah Kalori: 144 kalori\n",
            "   Karbohidrat: 1.24 g\n",
            "   Lemak: 2.35 g\n",
            "   Protein: 27.59 g\n",
            "\n",
            "-  Ikan ( 100 gr )\n",
            "   Jumlah Kalori: 87 kalori\n",
            "   Karbohidrat: 0.0 g\n",
            "   Lemak: 2.08 g\n",
            "   Protein: 16.01 g\n",
            "\n",
            "-  Jeroan ( 100 gr )\n",
            "   Jumlah Kalori: 145 kalori\n",
            "   Karbohidrat: 0.0 g\n",
            "   Lemak: 2.66 g\n",
            "   Protein: 30.14 g\n",
            "\n"
          ]
        }
      ]
    },
    {
      "cell_type": "markdown",
      "source": [
        "##**Recipes Recommendation**"
      ],
      "metadata": {
        "id": "MIp80ssNQWP6"
      }
    },
    {
      "cell_type": "markdown",
      "source": [
        "Image predictions and recipe recommendations are powerful tools to enhance our\n",
        "culinary experiences. With image predictions, we can capture or upload a photo of a ingredients and receive automated identification of the what does that thing can be."
      ],
      "metadata": {
        "id": "TUfI-2UdTlut"
      }
    },
    {
      "cell_type": "code",
      "source": [
        "import csv\n",
        "# Load the recipe data from the CSV file\n",
        "recipe_data = []\n",
        "with open('/content/drive/MyDrive/Capstone/DATA RESEP/Resep - Daging.csv', 'r') as csvfile:\n",
        "    reader = csv.DictReader(csvfile)\n",
        "    for row in reader:\n",
        "        kategori = row['Bahan']\n",
        "        recipe_name = row['Nama Resep']\n",
        "        bahan = row['Bahan yang dibutuhkan']\n",
        "        cara_membuat = row['Cara Membuat']\n",
        "        kalori = row['Kalori']\n",
        "        recipe_data.append({\n",
        "            'Bahan' : kategori,\n",
        "            'Nama Resep': recipe_name,\n",
        "            'Bahan yang dibutuhkan': bahan,\n",
        "            'Cara Membuat': cara_membuat,\n",
        "            'Kalori': kalori\n",
        "        })\n"
      ],
      "metadata": {
        "id": "l9Oi5qs3QQOo"
      },
      "execution_count": 13,
      "outputs": []
    },
    {
      "cell_type": "code",
      "source": [
        "# Find the recommended recipes based on the predicted class\n",
        "recommended_recipes = []\n",
        "for data in recipe_data:\n",
        "    if predicted_class == data['Bahan']:\n",
        "        recommended_recipes.append(data)\n",
        "\n",
        "# Display the details of each recommended recipe\n",
        "for i, recipe in enumerate(recommended_recipes):\n",
        "    print(f\"\\nRecipe {i+1}: {recipe['Nama Resep']}\\n\")\n",
        "\n",
        "    print(\"Bahan Bahan:\")\n",
        "    ingredients = recipe['Bahan yang dibutuhkan'].split(';')\n",
        "    for ingredient in ingredients:\n",
        "        print(ingredient.strip())\n",
        "    print()\n",
        "\n",
        "    print(\"Cara Membuat:\")\n",
        "    steps = recipe['Cara Membuat'].split(';')\n",
        "    for step in steps:\n",
        "        print(step.strip())\n",
        "    print()\n",
        "\n",
        "    print(\"Kalori:\")\n",
        "    print(recipe['Kalori'])\n",
        "    print()\n"
      ],
      "metadata": {
        "colab": {
          "base_uri": "https://localhost:8080/"
        },
        "id": "L9XxpBxYQiRQ",
        "outputId": "5c88a717-2020-4f0b-8ec1-13f9be4e6ea4"
      },
      "execution_count": 14,
      "outputs": [
        {
          "output_type": "stream",
          "name": "stdout",
          "text": [
            "\n",
            "Recipe 1: Dimsum Ayam\n",
            "\n",
            "Bahan Bahan:\n",
            "1 g lada putih bubuk\n",
            "5 gram garam laut\n",
            "6 ml kecap asin\n",
            "100 gram udang\n",
            "68 gram telur\n",
            "19 gram kaldu jamur\n",
            "144 g tepung tapioka\n",
            "200 gram paha ayam\n",
            "4 gram minyak wijen\n",
            "78 gram wortel\n",
            "14 gram bawang putih\n",
            "92 gram kulit pangsit\n",
            "15 gram gula pasir\n",
            "\n",
            "Cara Membuat:\n",
            "Cuci bersih udang, potong kecil-kecil, sisihkan.\n",
            "Masukkan semua bahan ke food proccesor kecuali udang dan kulit pangsit.\n",
            "Blender sampai halus.\n",
            "Setelah adonan halus tambahkan udang potong kemudian diaduk.\n",
            "Masukan ke dalam kulit lumpia, kukus 20 menit.\n",
            "\n",
            "Kalori:\n",
            "per porsi - Kalori: 50kkal | Lemak: 1,89g | Karb: 4,26g | Prot: 3,70g\n",
            "\n",
            "\n",
            "Recipe 2: Ayam Crispy Oatmeal\n",
            "\n",
            "Bahan Bahan:\n",
            "1 sdm olive oil\n",
            "2 sdm oat\n",
            "1 besar telur\n",
            "1 sdm bubuk cabai\n",
            "1 sdt, tumbuk oregano\n",
            "100 gram dada ayam\n",
            "1 sdt garam\n",
            "\n",
            "Cara Membuat:\n",
            "Slice dada ayam ketebalan sesuai selera lalu bumbui dada ayam dgn garam dan bubuk cabai (optional).\n",
            "Kocok telur.\n",
            "Tuang quaker oat ke dalam mangkuk lalu bumbui lg dgn bubuk cabai, garlic powder, dan oregano.\n",
            "Tuang sedikit olive oil ke teflon klo bisa (anti lengket) yg sudah dipanaskan.\n",
            "Lumuri dada ayam dengan telur lalu balurkan ke oat yg sudah dibumbui. Panggang di dalam teflon dgn api sedang.\n",
            "Angkat ayam jika sudah kecoklatan.\n",
            "\n",
            "Kalori:\n",
            "per porsi - Kalori: 285kkal | Lemak: 16,07g | Karb: 14,82g | Prot: 20,48g\n",
            "\n",
            "\n",
            "Recipe 3: Ayam Teriyaki\n",
            "\n",
            "Bahan Bahan:\n",
            "1 sdm minyak goreng\n",
            "18 g royco ayam\n",
            "40 ml saus teriyaki\n",
            "5 sdm cabai merah atau rawit\n",
            "1/4 siung bawang putih\n",
            "300 gram dada ayam\n",
            "\n",
            "Cara Membuat:\n",
            "Panaskan minyak tumis bawang putih.\n",
            "Masukan ayam dan air.\n",
            "Tambahkan royco, saus teriyaki, dan cabai dan tunggu hingga matang.\n",
            "\n",
            "Kalori:\n",
            "per porsi - Kalori: 167kkal | Lemak: 7,55g | Karb: 5,96g | Prot: 18,38g\n",
            "\n",
            "\n",
            "Recipe 4: Bebek Goreng Sambal Mangga\n",
            "\n",
            "Bahan Bahan:\n",
            "1 kg Bebek\n",
            "1 bks Bumbu Ayam Goreng\n",
            "1,5 ltr Air\n",
            "2 lbr Daun Jeruk\n",
            "600 ml Minyak Goreng\n",
            "4 bh Cabai Rawit\n",
            "4 siung Bawang Merah\n",
            "2 siung Bawang Putih\n",
            "1/2 bh Tomat\n",
            "1/2 sdt Terasi\n",
            "1/4 sdt penyedap\n",
            "1/2 sdt Garam\n",
            "1 sdm Gula Merah\n",
            "1 sdm Air Perasan Jeruk Limo\n",
            "100 gr Irisan Mangga Muda\n",
            "\n",
            "Cara Membuat:\n",
            "1.Panaskan air, masukkan potongan bebek, daun jeruk dan 1 bks Bumbu Ayam Goreng, masak hingga air tinggal sedikit dan bebek empuk, angkat, tiriskan.\n",
            "2.Panaskan minyak, goreng bebek hingga kuning kecoklatan, angkat sisihkan.\n",
            "3.Haluskan cabai rawit, bawang merah, bawang putih, tomat, terasi, hingga setengah halus, sisihkan.\n",
            "4.Panaskan 2 sendok makan minyak, masukkan sambal yang sudah dihaluskan, penyedap, garam, dan gula merah, tumis hingga matang. Matikan api, masukkan irisan mangga dan perasan jeruk limo, aduk rata. Sajikan bebek goreng bersama sambal manga.\n",
            "\n",
            "Kalori:\n",
            "per 4 porsi - Kalori: 3716kkal | Lemak: 327g | Karb: 34g | Prot: 163g\n",
            "\n",
            "\n",
            "Recipe 5: Bebek Sambal Bali\n",
            "\n",
            "Bahan Bahan:\n",
            "4 ptg Bebek muda\n",
            "3 bh Jeruk nipis\n",
            "1 bks Penyedap Rasa Ayam 11 gr\n",
            "750 ml Air\n",
            "1 L Minyak goreng(6 sdm untuk menumis)\n",
            "50 gr Cabai keriting\n",
            "5 siung Bawang merah\n",
            "2 sdm Gula merah\n",
            "1 sdt Terasi\n",
            "1/2 sdt Garam\n",
            "\n",
            "Cara Membuat:\n",
            "1.Buat Sambal: Haluskan cabai keriting, bawang merah, gula merah, dan terasi.\n",
            "2.Tumis sambal hingga harum, tambahkan garam, aduk rata, masak hingga matang. Angkat dan sisihkan.\n",
            "3.Potong-potong jeruk nipis. Lumuri bebek dengan perasan jeruk nipis, ratakan, diamkan ± 30 menit.\n",
            "4.Masukkan bebek, air, dan Penyedap Rasa Ayam ke dalam panci, aduk rata. Nyalakan kompor, masak hingga air habis, angkat.\n",
            "5.Goreng bebek hingga matang, angkat, dan tiriskan.Sajikan Bebek Goreng dengan Sambal Bali.\n",
            "\n",
            "Kalori:\n",
            "per 4 porsi - Kalori: 384kkal\n",
            "\n",
            "\n",
            "Recipe 6: Bebek Panggang Hijau\n",
            "\n",
            "Bahan Bahan:\n",
            "1 ekor bebek\n",
            "2 bh jeruk nipis, peras airnya\n",
            "6 sdm minyak goreng untuk menumis\n",
            "100 ml air\n",
            "6 lbr daun jeruk\n",
            "2 btg serai\n",
            "300 gr cabai hijau besar\n",
            "10 siung bawang merah\n",
            "4 siung bawang putih\n",
            "6 btr kemiri\n",
            "5 ruas jahe\n",
            "Penyedap Rasa Ayam secukupnya\n",
            "\n",
            "Cara Membuat:\n",
            "1.Potong bebek menjadi 12 potong, lalu siram dengan air jeruk nipis dan diamkan beberapa saat.\n",
            "2.Panaskan minyak, tumis bumbu halus, masukkan air, daun jeruk, serai, dan penyedap rasa ayam.\n",
            "3.Masukkan potongan bebek, aduk sampai terendam bumbu dan masak sampai air berkurang.\n",
            "4.Panggang bebek pada oven 250ºc atau 25 menit (sambil sesekali dibalik)\n",
            "\n",
            "Kalori:\n",
            "per 4 porsi - Kalori: 3940kkal | Lemak: 350g | Karb: 31g | Prot: 169g\n",
            "\n"
          ]
        }
      ]
    }
  ],
  "metadata": {
    "accelerator": "GPU",
    "colab": {
      "provenance": [],
      "gpuType": "T4"
    },
    "kernelspec": {
      "display_name": "Python 3",
      "name": "python3"
    },
    "language_info": {
      "name": "python"
    }
  },
  "nbformat": 4,
  "nbformat_minor": 0
}