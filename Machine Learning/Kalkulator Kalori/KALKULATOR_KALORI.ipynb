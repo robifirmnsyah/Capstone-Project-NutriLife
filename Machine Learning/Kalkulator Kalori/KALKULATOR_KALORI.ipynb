{
  "nbformat": 4,
  "nbformat_minor": 0,
  "metadata": {
    "colab": {
      "provenance": []
    },
    "kernelspec": {
      "name": "python3",
      "display_name": "Python 3"
    },
    "language_info": {
      "name": "python"
    }
  },
  "cells": [
    {
      "cell_type": "markdown",
      "source": [
        "## **CALORIES CALCULATOR**\n",
        "\n",
        "This feature will make it easier for the user to find out the calorie intake that has been eaten daily."
      ],
      "metadata": {
        "id": "xDeo_hqfy6iG"
      }
    },
    {
      "cell_type": "markdown",
      "source": [
        "**Import Data and Packages needed**"
      ],
      "metadata": {
        "id": "bJ5UipEkDNPn"
      }
    },
    {
      "cell_type": "code",
      "source": [
        "from google.colab import drive\n",
        "import os\n",
        "\n",
        "drive.mount(\"/content/drive/\")"
      ],
      "metadata": {
        "colab": {
          "base_uri": "https://localhost:8080/"
        },
        "id": "qk6CK47gzlPc",
        "outputId": "6ba686b3-1516-4902-ba07-ba7be57a5b9c"
      },
      "execution_count": null,
      "outputs": [
        {
          "output_type": "stream",
          "name": "stdout",
          "text": [
            "Mounted at /content/drive/\n"
          ]
        }
      ]
    },
    {
      "cell_type": "code",
      "source": [
        "import pandas as pd\n",
        "import csv\n",
        "df = pd.read_csv('/content/drive/MyDrive/Capstone/Data Kalkulator/calorie_infos final.csv', sep = ';', encoding='latin-1')\n",
        "df = df.dropna()\n",
        "\n",
        "\n",
        "# Print the value\n",
        "print(df)\n",
        "\n"
      ],
      "metadata": {
        "colab": {
          "base_uri": "https://localhost:8080/"
        },
        "id": "xyLZv6FWsyjp",
        "outputId": "5968787f-5019-4601-b107-6dd2951f44d9"
      },
      "execution_count": null,
      "outputs": [
        {
          "output_type": "stream",
          "name": "stdout",
          "text": [
            "                     Bahan  Kalori\n",
            "0     1000 Island Dressing    3.70\n",
            "1              3 Musketeer    4.00\n",
            "2             3 Musketeers    4.00\n",
            "3                      7up    0.44\n",
            "4                  Absinth    3.48\n",
            "...                    ...     ...\n",
            "3404                kripca    2.44\n",
            "3405                 wajit    3.04\n",
            "3406                permen    3.94\n",
            "3407                 dodol    3.91\n",
            "3408            rengginang    1.25\n",
            "\n",
            "[3409 rows x 2 columns]\n"
          ]
        }
      ]
    },
    {
      "cell_type": "markdown",
      "source": [
        " **CALORIES CALCULATOR**:"
      ],
      "metadata": {
        "id": "NsRRZ_sICUKd"
      }
    },
    {
      "cell_type": "code",
      "source": [
        "import difflib\n",
        "from sklearn.feature_extraction.text import TfidfVectorizer\n",
        "from sklearn.metrics.pairwise import cosine_similarity\n",
        "\n",
        "def kalori(Bahan, Gram):\n",
        "    try:\n",
        "        kalori_bahan = df.loc[df['Bahan'].str.lower() == Bahan.lower(), 'Kalori'].iloc[0]\n",
        "        Kalori = kalori_bahan * Gram\n",
        "        return Kalori\n",
        "    except IndexError:\n",
        "        raise ValueError(\"Mohon maaf, bahan yang Anda masukkan belum tersedia di database kami\")\n",
        "\n",
        "def calculate_similarity(query, corpus):\n",
        "    vectorizer = TfidfVectorizer()\n",
        "    corpus_vector = vectorizer.fit_transform(corpus)\n",
        "    query_vector = vectorizer.transform([query])\n",
        "    similarities = cosine_similarity(query_vector, corpus_vector)\n",
        "    return similarities[0]\n",
        "\n",
        "def get_most_similar(query, corpus, n=5):\n",
        "    similarities = calculate_similarity(query, corpus)\n",
        "    indices = similarities.argsort()[::-1][:n]\n",
        "    return [corpus[i] for i in indices]\n",
        "\n",
        "def total_semua_kalori():\n",
        "    total_kalori = 0\n",
        "    while True:\n",
        "        try:\n",
        "            Bahan = str(input(\"Nama Bahan: \")).lower().strip()  # Mengubah menjadi lowercase dan menghapus spasi di sekitarnya\n",
        "            # Periksa apakah bahan ada dalam DataFrame sebelum meminta input berat\n",
        "            if Bahan not in df['Bahan'].str.lower().values:\n",
        "                similarities = get_most_similar(Bahan, df['Bahan'].str.lower().values, n=10)\n",
        "                if similarities:\n",
        "                    print(\"Penulisan bahan makanan kurang tepat. Mungkin maksud Anda:\")\n",
        "                    for i, similar in enumerate(similarities, start=1):\n",
        "                        print(f\"{i}. {similar}\")\n",
        "                    choice = input(\"Apakah maksud Anda salah satu dari pilihan di atas? (y/n): \")\n",
        "                    if choice.lower() == \"y\":\n",
        "                        selected_index = int(input(\"Pilih nomor pilihan yang sesuai: \"))\n",
        "                        Bahan = similarities[selected_index - 1]\n",
        "                    else:\n",
        "                        print(\"Mohon maaf, bahan yang Anda maksud belum tersedia di database kami. \\nSilahkan masukkan bahan makanan yang lain.\")\n",
        "                        continue\n",
        "                else:\n",
        "                    raise ValueError(\"Mohon maaf, bahan yang Anda masukkan belum tersedia di database kami\")\n",
        "\n",
        "            while True:\n",
        "                try:\n",
        "                    Gram = int(input(\"Berat (gr): \"))\n",
        "                    break\n",
        "                except ValueError:\n",
        "                    print(\"Masukkan berat dalam bentuk angka\")\n",
        "\n",
        "        except ValueError as e:\n",
        "            print(f\"Error: {e}\")\n",
        "            continue\n",
        "\n",
        "        try:\n",
        "            Kalori = kalori(Bahan, Gram)\n",
        "        except ValueError as e:\n",
        "            print(f\"Error: {e}\")\n",
        "            continue\n",
        "\n",
        "        total_kalori += Kalori\n",
        "        print(f\"Kalori dari {Bahan} sebanyak {Gram} gr adalah {Kalori:.2f} kal\")\n",
        "        print(f\"Total kalori sejauh ini adalah {total_kalori:.2f} kal\")\n",
        "\n",
        "        repeat = input(\"Apakah ingin menghitung kalori bahan lain? (y/n): \")\n",
        "        if repeat.lower() != \"y\":\n",
        "            print(f\"Total akhir dari keseluruhan bahan adalah {total_kalori} kal.\\nTerima kasih telah menggunakan kalkulator kalori kami\")\n",
        "            break\n",
        "\n",
        "print(\"Selamat datang di kalkulator kalori kami\")\n",
        "total_semua_kalori()\n"
      ],
      "metadata": {
        "colab": {
          "base_uri": "https://localhost:8080/"
        },
        "id": "cWu11roOQpum",
        "outputId": "7827c05c-e66e-414b-fa0a-2a6e1e1c9457"
      },
      "execution_count": null,
      "outputs": [
        {
          "output_type": "stream",
          "name": "stdout",
          "text": [
            "Selamat datang di kalkulator kalori kami\n",
            "Nama Bahan: melon\n",
            "Penulisan bahan makanan kurang tepat. Mungkin maksud Anda:\n",
            "1. buah melon\n",
            "2. galia melon\n",
            "3. cantaloupe melon\n",
            "4. casaba melon\n",
            "5. buah melon madu\n",
            "6. buah melon galia\n",
            "7. glucose syrup\n",
            "8. goat milk\n",
            "9. goat cheese pizza\n",
            "10. goat cheese\n",
            "Apakah maksud Anda salah satu dari pilihan di atas? (y/n): y\n",
            "Pilih nomor pilihan yang sesuai: 1\n",
            "Berat (gr): 90\n",
            "Kalori dari buah melon sebanyak 90 gr adalah 30.60 kal\n",
            "Total kalori sejauh ini adalah 30.60 kal\n",
            "Apakah ingin menghitung kalori bahan lain? (y/n): y\n",
            "Nama Bahan: manggis\n",
            "Penulisan bahan makanan kurang tepat. Mungkin maksud Anda:\n",
            "1. buah manggis\n",
            "2. rengginang\n",
            "3. gjetost\n",
            "4. goat cheese\n",
            "5. goa bean\n",
            "6. gnocchi\n",
            "7. gluten gandum\n",
            "8. gluten\n",
            "9. glukosa\n",
            "10. glucose syrup\n",
            "Apakah maksud Anda salah satu dari pilihan di atas? (y/n): 1\n",
            "Mohon maaf, bahan yang Anda maksud belum tersedia di database kami. \n",
            "Silahkan masukkan bahan makanan yang lain.\n",
            "Nama Bahan: manggis\n",
            "Penulisan bahan makanan kurang tepat. Mungkin maksud Anda:\n",
            "1. buah manggis\n",
            "2. rengginang\n",
            "3. gjetost\n",
            "4. goat cheese\n",
            "5. goa bean\n",
            "6. gnocchi\n",
            "7. gluten gandum\n",
            "8. gluten\n",
            "9. glukosa\n",
            "10. glucose syrup\n",
            "Apakah maksud Anda salah satu dari pilihan di atas? (y/n): y\n",
            "Pilih nomor pilihan yang sesuai: 1\n",
            "Berat (gr): 90\n",
            "Kalori dari buah manggis sebanyak 90 gr adalah 65.70 kal\n",
            "Total kalori sejauh ini adalah 96.30 kal\n",
            "Apakah ingin menghitung kalori bahan lain? (y/n): n\n",
            "Total akhir dari keseluruhan bahan adalah 96.30000000000001 kal.\n",
            "Terima kasih telah menggunakan kalkulator kalori kami\n"
          ]
        }
      ]
    }
  ]
}