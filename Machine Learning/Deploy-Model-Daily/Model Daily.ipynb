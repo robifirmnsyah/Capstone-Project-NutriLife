{
  "cells": [
    {
      "cell_type": "markdown",
      "source": [
        "## **DAILY PRODUCT 🧀🥚: IMAGE DETECTION, NUTRITIONS INFORMATION, CLOSEST NUTRITIONS RECOMMENDATION, RECIPES RECOMMENDATION**\n",
        "\n",
        "---"
      ],
      "metadata": {
        "id": "vSyMFbdpRGGe"
      }
    },
    {
      "cell_type": "markdown",
      "source": [
        "Food is one thing that cannot be separated from people’s lives. But, food can affect everything such as the immune system and heart health, and many more. Eating food  that has imbalanced nutrition or isn't nutritious will cause problems like malnutrition or being overweight. So, we should have an education about food nutrition and we can decide which food that have a balance nutrition. Becausse they often ate food with large amount but they don't know about the nutritions in it. Therefore, we decide to make an application to educate and help controlling daily nutritions with some features in our application. This category is about Daily Food which are chicken egg, duck egg, cheese, and milk.\n",
        "\n",
        "\n",
        "\n",
        "\n",
        "\n"
      ],
      "metadata": {
        "id": "rY28lt9vSOVt"
      }
    },
    {
      "cell_type": "markdown",
      "source": [
        "## **CONNECTING GOOGLE COLLAB WITH GOOGLE DRIVE**"
      ],
      "metadata": {
        "id": "pEw1Yf56VA_Q"
      }
    },
    {
      "cell_type": "code",
      "execution_count": 1,
      "metadata": {
        "colab": {
          "base_uri": "https://localhost:8080/"
        },
        "id": "VADbt18RWDim",
        "outputId": "00d12486-08c3-415e-b291-d09afd3774e8"
      },
      "outputs": [
        {
          "output_type": "stream",
          "name": "stdout",
          "text": [
            "Mounted at /content/drive/\n"
          ]
        }
      ],
      "source": [
        "from google.colab import drive\n",
        "import os\n",
        "\n",
        "drive.mount(\"/content/drive/\")"
      ]
    },
    {
      "cell_type": "code",
      "execution_count": null,
      "metadata": {
        "colab": {
          "base_uri": "https://localhost:8080/"
        },
        "id": "2ZkGa2FbVNQi",
        "outputId": "b3056206-23e9-4e07-d2ff-dd21156aa9e2"
      },
      "outputs": [
        {
          "output_type": "stream",
          "name": "stdout",
          "text": [
            "/bin/bash: ls/content/drive/MyDrive/Capstone/Data Campuran/daily_product: No such file or directory\n"
          ]
        }
      ],
      "source": [
        "base_dir=\"/content/drive/MyDrive/Capstone/Data Campuran/daily_product\"\n",
        "!ls\"/content/drive/MyDrive/Capstone/Data Campuran/daily_product\""
      ]
    },
    {
      "cell_type": "code",
      "execution_count": null,
      "metadata": {
        "id": "sFJXg6aZVdhe"
      },
      "outputs": [],
      "source": [
        "#Menentukan direktori\n",
        "bahan_dir=os.path.join(base_dir,\"Bahan/\")\n",
        "train_dir=os.path.join(base_dir,\"train/\")\n",
        "test_dir=os.path.join(base_dir,\"test/\")\n",
        "val_dir=os.path.join(base_dir,\"valid/\")"
      ]
    },
    {
      "cell_type": "code",
      "execution_count": null,
      "metadata": {
        "colab": {
          "base_uri": "https://localhost:8080/"
        },
        "id": "gcgZg0yXXIS6",
        "outputId": "614ec5c0-860e-42d4-b66e-fb34410f6c79"
      },
      "outputs": [
        {
          "name": "stdout",
          "output_type": "stream",
          "text": [
            "Jumlah gambar Telur Ayam : 150\n",
            "Jumlah gambar Telur Bebek: 150\n",
            "Jumlah gambar Keju : 150\n",
            "Jumlah gambar Susu : 150\n"
          ]
        }
      ],
      "source": [
        "#Menentukan direktori isi bahan\n",
        "telur_ayam_dir=os.path.join(bahan_dir,\"telur_ayam/\")\n",
        "telur_bebek_dir=os.path.join(bahan_dir,\"telur_bebek/\")\n",
        "keju_dir=os.path.join(bahan_dir,\"keju/\")\n",
        "susu_dir=os.path.join(bahan_dir,\"olahan_susu/\")\n",
        "\n",
        "print(\"Jumlah gambar Telur Ayam :\", len(os.listdir(telur_ayam_dir)))\n",
        "print(\"Jumlah gambar Telur Bebek:\" , len(os.listdir(telur_bebek_dir)))\n",
        "print(\"Jumlah gambar Keju :\", len(os.listdir(keju_dir)))\n",
        "print(\"Jumlah gambar Susu :\" , len(os.listdir(susu_dir)))\n"
      ]
    },
    {
      "cell_type": "code",
      "execution_count": null,
      "metadata": {
        "id": "e-IIeo93ZW61"
      },
      "outputs": [],
      "source": [
        "#Direktori isi latih/ training data\n",
        "train_telur_ayam=os.path.join(train_dir,\"telur_ayam/\")\n",
        "train_telur_bebek=os.path.join(train_dir,\"telur_bebek/\")\n",
        "train_keju=os.path.join(train_dir,\"keju/\")\n",
        "train_susu=os.path.join(train_dir,\"olahan_susu/\")\n",
        "\n",
        "#Direktori isi validasi/ testing data\n",
        "test_telur_ayam=os.path.join(test_dir,\"telur_ayam/\")\n",
        "test_telur_bebek=os.path.join(test_dir,\"telur_bebek/\")\n",
        "test_keju=os.path.join(test_dir,\"keju/\")\n",
        "test_susu=os.path.join(test_dir,\"olahan_susu/\")\n",
        "\n",
        "#Direktori isi validasi/ testing data\n",
        "val_telur_ayam=os.path.join(val_dir,\"telur_ayam/\")\n",
        "val_telur_bebek=os.path.join(val_dir,\"telur_bebek/\")\n",
        "val_keju=os.path.join(val_dir,\"keju/\")\n",
        "val_susu=os.path.join(val_dir,\"olahan_susu/\")\n"
      ]
    },
    {
      "cell_type": "markdown",
      "metadata": {
        "id": "MtASwMLTa94g"
      },
      "source": [
        "## **Preparing the Dataset and Splitting the Data into Training, Testing, and Validation**"
      ]
    },
    {
      "cell_type": "code",
      "execution_count": null,
      "metadata": {
        "id": "zUo4bywWa49y"
      },
      "outputs": [],
      "source": [
        "import random\n",
        "from shutil import copyfile\n",
        "\n",
        "def split_data(source, train, val, test, train_ratio, val_ratio):\n",
        "  total_size = len(os.listdir(source))\n",
        "  train_size = int(train_ratio * total_size)\n",
        "  val_size = int(val_ratio * total_size)\n",
        "  test_size = total_size - train_size - val_size\n",
        "\n",
        "  randomized = random.sample(os.listdir(source), total_size)\n",
        "  train_files = randomized[:train_size]\n",
        "  val_files = randomized[train_size:train_size + val_size]\n",
        "  test_files = randomized[train_size + val_size:]\n",
        "\n",
        "  for i in train_files:\n",
        "    i_file = os.path.join(source, i)\n",
        "    destination = os.path.join(train, i)\n",
        "    copyfile(i_file, destination)\n",
        "\n",
        "  for i in val_files:\n",
        "    i_file = os.path.join(source, i)\n",
        "    destination = os.path.join(val, i)\n",
        "    copyfile(i_file, destination)\n",
        "\n",
        "  for i in test_files:\n",
        "    i_file = os.path.join(source, i)\n",
        "    destination = os.path.join(test, i)\n",
        "    copyfile(i_file, destination)\n",
        "\n",
        " #Jumlah pembagian data training dan testing\n",
        "train_ratio=0.8\n",
        "val_ratio = 0.1\n",
        "test_ratio = 0.1\n",
        "\n",
        " #Pembagian Training dan Testing\n",
        "\n",
        " #Telur Ayam\n",
        "source_00 = telur_ayam_dir\n",
        "train_00 = train_telur_ayam\n",
        "val_00 = val_telur_ayam\n",
        "test_00 = test_telur_ayam\n",
        "split_data(source_00, train_00, val_00, test_00, train_ratio, val_ratio)\n",
        "\n",
        " #Telur Bebek\n",
        "source_01=telur_bebek_dir\n",
        "train_01=train_telur_bebek\n",
        "val_01=val_telur_bebek\n",
        "test_01=test_telur_bebek\n",
        "split_data(source_01, train_01, val_01, test_01, train_ratio, val_ratio)\n",
        "\n",
        " #Keju\n",
        "source_02=keju_dir\n",
        "train_02=train_keju\n",
        "val_02=val_keju\n",
        "test_02=test_keju\n",
        "split_data(source_02, train_02, val_02, test_02, train_ratio, val_ratio)\n",
        "\n",
        " #Susu\n",
        "source_04=susu_dir\n",
        "train_04=train_susu\n",
        "val_04=val_susu\n",
        "test_04=test_susu\n",
        "split_data(source_04, train_04, val_04, test_04, train_ratio, val_ratio)\n"
      ]
    },
    {
      "cell_type": "code",
      "execution_count": null,
      "metadata": {
        "colab": {
          "base_uri": "https://localhost:8080/"
        },
        "id": "N6VUTb02hJuL",
        "outputId": "8dd948d8-8aa4-4118-891c-65833cbb31b6"
      },
      "outputs": [
        {
          "name": "stdout",
          "output_type": "stream",
          "text": [
            "Jumlah All Telur Ayam: 150\n",
            "Jumlah Train Telur Ayam: 120\n",
            "Jumlah Testing Telur Ayam: 15\n",
            "Jumlah Validation Telur Ayam: 15\n",
            "Jumlah All Telur Bebek: 150\n",
            "Jumlah Train Telur Bebek: 120\n",
            "Jumlah Testing Telur Bebek: 15\n",
            "Jumlah Validation Telur Bebek: 15\n",
            "Jumlah All Keju: 150\n",
            "Jumlah Train Keju: 120\n",
            "Jumlah Testing Keju: 15\n",
            "Jumlah Validation Keju: 15\n",
            "Jumlah All Susu: 150\n",
            "Jumlah Train Susu: 120\n",
            "Jumlah Testing Susu: 15\n",
            "Jumlah Validation Susu: 15\n"
          ]
        }
      ],
      "source": [
        "##Hitung data train dan test\n",
        "print(\"Jumlah All Telur Ayam:\",len(os.listdir(telur_ayam_dir)))\n",
        "print(\"Jumlah Train Telur Ayam:\",len(os.listdir(train_telur_ayam)))\n",
        "print(\"Jumlah Testing Telur Ayam:\",len(os.listdir(test_telur_ayam)))\n",
        "print(\"Jumlah Validation Telur Ayam:\",len(os.listdir(val_telur_ayam)))\n",
        "\n",
        "print(\"Jumlah All Telur Bebek:\",len(os.listdir(telur_bebek_dir)))\n",
        "print(\"Jumlah Train Telur Bebek:\",len(os.listdir(train_telur_bebek)))\n",
        "print(\"Jumlah Testing Telur Bebek:\",len(os.listdir(test_telur_bebek)))\n",
        "print(\"Jumlah Validation Telur Bebek:\",len(os.listdir(val_telur_bebek)))\n",
        "\n",
        "print(\"Jumlah All Keju:\",len(os.listdir(keju_dir)))\n",
        "print(\"Jumlah Train Keju:\",len(os.listdir(train_keju)))\n",
        "print(\"Jumlah Testing Keju:\",len(os.listdir(test_keju)))\n",
        "print(\"Jumlah Validation Keju:\",len(os.listdir(val_keju)))\n",
        "\n",
        "print(\"Jumlah All Susu:\",len(os.listdir(susu_dir)))\n",
        "print(\"Jumlah Train Susu:\",len(os.listdir(train_susu)))\n",
        "print(\"Jumlah Testing Susu:\",len(os.listdir(test_susu)))\n",
        "print(\"Jumlah Validation Susu:\",len(os.listdir(val_susu)))\n"
      ]
    },
    {
      "cell_type": "markdown",
      "metadata": {
        "id": "mzLGW9v1D66U"
      },
      "source": [
        "##**DATA PREPARATION**"
      ]
    },
    {
      "cell_type": "code",
      "execution_count": null,
      "metadata": {
        "id": "H1THwuNlD_V2"
      },
      "outputs": [],
      "source": [
        "import os\n",
        "import numpy as np\n",
        "import csv\n",
        "import matplotlib.pyplot as plt\n",
        "from google.colab import files\n",
        "import tensorflow as tf\n",
        "from tensorflow import keras\n",
        "from tensorflow.keras import layers\n",
        "from tensorflow.keras import Model\n",
        "from tensorflow.keras.preprocessing.image import img_to_array, load_img\n",
        "from tensorflow.keras.preprocessing.image import ImageDataGenerator\n",
        "from tensorflow.keras.applications.vgg16 import VGG16\n",
        "from tensorflow.keras.optimizers import RMSprop"
      ]
    },
    {
      "cell_type": "markdown",
      "metadata": {
        "id": "-jA5gZx3vJIN"
      },
      "source": [
        "**IMAGE AUGMENTATION**\n",
        "\n",
        "Image augmentation is a technique to modify the data by changing the real image into different looks, such as rotating, cropping, changing the brightness, add a noise on the image, and many more. This technique also really helpful to add more dataset for research that has small amount of data. Last, using flow_from_directory(), we set the batch_size=128.\n"
      ]
    },
    {
      "cell_type": "code",
      "execution_count": null,
      "metadata": {
        "id": "oGs2D3jpuWMB"
      },
      "outputs": [],
      "source": [
        "def train_val_generators(train_dir, val_dir, test_dir):\n",
        "  train_datagen = ImageDataGenerator(\n",
        "      rescale=1./255,\n",
        "      rotation_range=20,\n",
        "      width_shift_range=0.2,\n",
        "      height_shift_range=0.2,\n",
        "      shear_range=0.2,\n",
        "      zoom_range=0.2,\n",
        "      horizontal_flip=True,\n",
        "      fill_mode='nearest'\n",
        ")\n",
        "  train_generator = train_datagen.flow_from_directory(directory=train_dir,\n",
        "                                                      batch_size=32,\n",
        "                                                      class_mode='categorical',\n",
        "                                                       target_size=(150,150))\n",
        "\n",
        "  validation_datagen= ImageDataGenerator(rescale = 1.0/255.0)\n",
        "  validation_generator= validation_datagen.flow_from_directory(directory=val_dir,\n",
        "                                                          batch_size=32,\n",
        "                                                          class_mode='categorical',\n",
        "                                                          target_size=(150,150))\n",
        "\n",
        "  testing_datagen   = ImageDataGenerator(rescale = 1.0/255.0)\n",
        "  testing_generator = testing_datagen.flow_from_directory(directory=test_dir,\n",
        "                                                          batch_size=32,\n",
        "                                                          class_mode='categorical',\n",
        "                                                          target_size=(150,150))\n",
        "  return train_generator, validation_generator, testing_generator\n"
      ]
    },
    {
      "cell_type": "code",
      "execution_count": null,
      "metadata": {
        "colab": {
          "base_uri": "https://localhost:8080/"
        },
        "id": "p0DuCf89wbcq",
        "outputId": "87fc8d8e-965a-45e1-b9a7-c885e2952687"
      },
      "outputs": [
        {
          "name": "stdout",
          "output_type": "stream",
          "text": [
            "Found 480 images belonging to 4 classes.\n",
            "Found 60 images belonging to 4 classes.\n",
            "Found 60 images belonging to 4 classes.\n"
          ]
        }
      ],
      "source": [
        "train_generator, validation_generator, testing_generator = train_val_generators(train_dir, val_dir, test_dir)"
      ]
    },
    {
      "cell_type": "markdown",
      "metadata": {
        "id": "m0KTVTCRHHoZ"
      },
      "source": [
        "##**Creating Prediction Model**"
      ]
    },
    {
      "cell_type": "markdown",
      "source": [
        "**Callback**\n",
        "\n",
        "This research model, we set the callback using type EarlyStopping that used for stopping training if the metrics we want is fulfilled. In this research, we set training model will stop if the accuracy is more that 0.85, the loss is less than 0.4, the validation accuracy is more than 0.8, and the validation loss is less than 0.5."
      ],
      "metadata": {
        "id": "p594ULr-ZB7L"
      }
    },
    {
      "cell_type": "code",
      "execution_count": null,
      "metadata": {
        "id": "7WNzB6Kx5XsG"
      },
      "outputs": [],
      "source": [
        "class myCallback(tf.keras.callbacks.Callback):\n",
        "  def on_epoch_end(self, epoch, logs={}):\n",
        "    '''\n",
        "    Halts the training after reaching 60 percent accuracy\n",
        "\n",
        "    Args:\n",
        "      epoch (integer) - index of epoch (required but unused in the function definition below)\n",
        "      logs (dict) - metric results from the training epoch\n",
        "    '''\n",
        "\n",
        "    # Check accuracy\n",
        "    if(logs.get('accuracy') > 0.85 ) and (logs.get('loss') < 0.4 ) and (logs.get('val_accuracy') > 0.8 ) and (logs.get('val_loss') < 0.5) :\n",
        "\n",
        "      # Stop if threshold is met\n",
        "      print(\"\\nModel is good so cancelling training!\")\n",
        "      self.model.stop_training = True\n",
        "\n",
        "# Instantiate class\n",
        "callbacks=myCallback()"
      ]
    },
    {
      "cell_type": "markdown",
      "source": [
        "**Model CNN**\n",
        "\n",
        "The provided code creates a convolutional neural network (CNN) model using TensorFlow's Keras API. It consists of two convolutional layers with max pooling, followed by a flatten layer and two dense layers. The model is designed for image classification with four classes. The model.summary() function displays a summary of the model's architecture, including the number of parameters and the output shape at each layer."
      ],
      "metadata": {
        "id": "-0qtSVB3bUff"
      }
    },
    {
      "cell_type": "code",
      "execution_count": null,
      "metadata": {
        "colab": {
          "base_uri": "https://localhost:8080/"
        },
        "id": "fdNHMdxp080a",
        "outputId": "868f82e7-ce07-467d-a148-c5ada43e2089"
      },
      "outputs": [
        {
          "name": "stdout",
          "output_type": "stream",
          "text": [
            "Model: \"sequential_7\"\n",
            "_________________________________________________________________\n",
            " Layer (type)                Output Shape              Param #   \n",
            "=================================================================\n",
            " conv2d_18 (Conv2D)          (None, 148, 148, 32)      896       \n",
            "                                                                 \n",
            " max_pooling2d_10 (MaxPoolin  (None, 74, 74, 32)       0         \n",
            " g2D)                                                            \n",
            "                                                                 \n",
            " conv2d_19 (Conv2D)          (None, 72, 72, 32)        9248      \n",
            "                                                                 \n",
            " max_pooling2d_11 (MaxPoolin  (None, 36, 36, 32)       0         \n",
            " g2D)                                                            \n",
            "                                                                 \n",
            " flatten_7 (Flatten)         (None, 41472)             0         \n",
            "                                                                 \n",
            " dense_14 (Dense)            (None, 128)               5308544   \n",
            "                                                                 \n",
            " dense_15 (Dense)            (None, 4)                 516       \n",
            "                                                                 \n",
            "=================================================================\n",
            "Total params: 5,319,204\n",
            "Trainable params: 5,319,204\n",
            "Non-trainable params: 0\n",
            "_________________________________________________________________\n"
          ]
        }
      ],
      "source": [
        "from tensorflow.keras.optimizers import Adam\n",
        "model= tf.keras.models.Sequential([\n",
        "    tf.keras.layers.Conv2D(32, (3, 3), activation='relu', input_shape=(150, 150, 3)),\n",
        "    tf.keras.layers.MaxPooling2D(2, 2),\n",
        "    tf.keras.layers.Conv2D(32, (3, 3), activation='relu'),\n",
        "    tf.keras.layers.MaxPooling2D(2, 2),\n",
        "    tf.keras.layers.Flatten(),\n",
        "    tf.keras.layers.Dense(128, activation=\"relu\"),\n",
        "    tf.keras.layers.Dense(4, activation=\"softmax\")\n",
        "])\n",
        "\n",
        "\n",
        "model.summary()\n"
      ]
    },
    {
      "cell_type": "code",
      "execution_count": null,
      "metadata": {
        "colab": {
          "background_save": true,
          "base_uri": "https://localhost:8080/"
        },
        "id": "WPFMTcL3dXLB",
        "outputId": "62688526-75db-49bf-d447-a8fdab7bc795"
      },
      "outputs": [
        {
          "name": "stdout",
          "output_type": "stream",
          "text": [
            "Epoch 1/100\n",
            "15/15 [==============================] - 13s 732ms/step - loss: 1.6874 - accuracy: 0.3187 - val_loss: 1.1231 - val_accuracy: 0.4667\n",
            "Epoch 2/100\n",
            "15/15 [==============================] - 11s 706ms/step - loss: 1.1498 - accuracy: 0.4417 - val_loss: 0.9662 - val_accuracy: 0.4333\n",
            "Epoch 3/100\n",
            "15/15 [==============================] - 11s 721ms/step - loss: 1.0553 - accuracy: 0.4958 - val_loss: 0.9134 - val_accuracy: 0.6167\n",
            "Epoch 4/100\n",
            "15/15 [==============================] - 9s 619ms/step - loss: 0.9630 - accuracy: 0.5750 - val_loss: 0.8437 - val_accuracy: 0.6333\n",
            "Epoch 5/100\n",
            "15/15 [==============================] - 11s 737ms/step - loss: 0.9000 - accuracy: 0.6271 - val_loss: 0.8560 - val_accuracy: 0.6167\n",
            "Epoch 6/100\n",
            "15/15 [==============================] - 11s 715ms/step - loss: 0.8799 - accuracy: 0.6062 - val_loss: 0.7685 - val_accuracy: 0.7000\n",
            "Epoch 7/100\n",
            "15/15 [==============================] - 11s 691ms/step - loss: 0.7570 - accuracy: 0.7188 - val_loss: 0.7570 - val_accuracy: 0.7000\n",
            "Epoch 8/100\n",
            "15/15 [==============================] - 9s 623ms/step - loss: 0.7160 - accuracy: 0.6917 - val_loss: 0.6327 - val_accuracy: 0.7667\n",
            "Epoch 9/100\n",
            "15/15 [==============================] - 11s 741ms/step - loss: 0.7336 - accuracy: 0.7125 - val_loss: 0.9610 - val_accuracy: 0.6667\n",
            "Epoch 10/100\n",
            "15/15 [==============================] - 11s 751ms/step - loss: 0.8030 - accuracy: 0.6812 - val_loss: 0.6627 - val_accuracy: 0.7667\n",
            "Epoch 11/100\n",
            "15/15 [==============================] - 10s 643ms/step - loss: 0.6734 - accuracy: 0.7375 - val_loss: 0.8942 - val_accuracy: 0.6667\n",
            "Epoch 12/100\n",
            "15/15 [==============================] - 11s 694ms/step - loss: 0.7143 - accuracy: 0.7167 - val_loss: 0.5846 - val_accuracy: 0.7667\n",
            "Epoch 13/100\n",
            "15/15 [==============================] - 11s 725ms/step - loss: 0.6014 - accuracy: 0.7458 - val_loss: 0.6629 - val_accuracy: 0.7333\n",
            "Epoch 14/100\n",
            "15/15 [==============================] - 11s 750ms/step - loss: 0.6456 - accuracy: 0.7167 - val_loss: 0.6751 - val_accuracy: 0.7000\n",
            "Epoch 15/100\n",
            "15/15 [==============================] - 9s 629ms/step - loss: 0.6051 - accuracy: 0.7792 - val_loss: 0.7347 - val_accuracy: 0.7000\n",
            "Epoch 16/100\n",
            "15/15 [==============================] - 11s 699ms/step - loss: 0.5819 - accuracy: 0.7792 - val_loss: 0.6299 - val_accuracy: 0.7167\n",
            "Epoch 17/100\n",
            "15/15 [==============================] - 11s 716ms/step - loss: 0.5786 - accuracy: 0.7729 - val_loss: 0.5481 - val_accuracy: 0.7667\n",
            "Epoch 18/100\n",
            "15/15 [==============================] - 10s 684ms/step - loss: 0.5346 - accuracy: 0.7875 - val_loss: 0.4924 - val_accuracy: 0.8000\n",
            "Epoch 19/100\n",
            "15/15 [==============================] - 10s 609ms/step - loss: 0.4999 - accuracy: 0.8083 - val_loss: 0.6703 - val_accuracy: 0.8000\n",
            "Epoch 20/100\n",
            "15/15 [==============================] - 10s 699ms/step - loss: 0.5407 - accuracy: 0.7667 - val_loss: 0.5505 - val_accuracy: 0.8000\n",
            "Epoch 21/100\n",
            "15/15 [==============================] - 11s 730ms/step - loss: 0.5157 - accuracy: 0.8000 - val_loss: 0.5135 - val_accuracy: 0.8167\n",
            "Epoch 22/100\n",
            "15/15 [==============================] - 10s 630ms/step - loss: 0.4616 - accuracy: 0.8313 - val_loss: 0.4530 - val_accuracy: 0.8333\n",
            "Epoch 23/100\n",
            "15/15 [==============================] - 11s 725ms/step - loss: 0.5107 - accuracy: 0.7833 - val_loss: 0.6114 - val_accuracy: 0.7833\n",
            "Epoch 24/100\n",
            "15/15 [==============================] - 11s 710ms/step - loss: 0.5198 - accuracy: 0.7833 - val_loss: 0.5501 - val_accuracy: 0.7833\n",
            "Epoch 25/100\n",
            "15/15 [==============================] - 11s 706ms/step - loss: 0.5595 - accuracy: 0.7750 - val_loss: 0.8047 - val_accuracy: 0.7833\n",
            "Epoch 26/100\n",
            "15/15 [==============================] - 11s 740ms/step - loss: 0.4674 - accuracy: 0.8104 - val_loss: 0.4769 - val_accuracy: 0.8500\n",
            "Epoch 27/100\n",
            "15/15 [==============================] - 11s 747ms/step - loss: 0.4455 - accuracy: 0.8313 - val_loss: 0.8529 - val_accuracy: 0.7667\n",
            "Epoch 28/100\n",
            "15/15 [==============================] - 11s 729ms/step - loss: 0.4238 - accuracy: 0.8313 - val_loss: 0.4835 - val_accuracy: 0.8000\n",
            "Epoch 29/100\n",
            "15/15 [==============================] - 9s 629ms/step - loss: 0.4119 - accuracy: 0.8500 - val_loss: 0.4673 - val_accuracy: 0.8167\n",
            "Epoch 30/100\n",
            "15/15 [==============================] - 10s 689ms/step - loss: 0.3888 - accuracy: 0.8500 - val_loss: 0.5617 - val_accuracy: 0.8000\n",
            "Epoch 31/100\n",
            "15/15 [==============================] - 10s 702ms/step - loss: 0.3768 - accuracy: 0.8479 - val_loss: 0.5933 - val_accuracy: 0.7833\n",
            "Epoch 32/100\n",
            "15/15 [==============================] - 12s 795ms/step - loss: 0.3994 - accuracy: 0.8479 - val_loss: 0.5857 - val_accuracy: 0.8000\n",
            "Epoch 33/100\n",
            "15/15 [==============================] - 9s 636ms/step - loss: 0.3649 - accuracy: 0.8521 - val_loss: 0.5468 - val_accuracy: 0.8333\n",
            "Epoch 34/100\n",
            "15/15 [==============================] - 10s 647ms/step - loss: 0.3418 - accuracy: 0.8667 - val_loss: 0.4237 - val_accuracy: 0.8000\n",
            "Epoch 35/100\n",
            "15/15 [==============================] - 10s 711ms/step - loss: 0.3838 - accuracy: 0.8500 - val_loss: 0.6030 - val_accuracy: 0.8167\n",
            "Epoch 36/100\n",
            "15/15 [==============================] - 11s 723ms/step - loss: 0.3323 - accuracy: 0.8646 - val_loss: 0.5176 - val_accuracy: 0.7500\n",
            "Epoch 37/100\n",
            "15/15 [==============================] - 10s 668ms/step - loss: 0.3415 - accuracy: 0.8708 - val_loss: 0.5234 - val_accuracy: 0.8500\n",
            "Epoch 38/100\n",
            "15/15 [==============================] - 10s 663ms/step - loss: 0.3816 - accuracy: 0.8500 - val_loss: 0.8312 - val_accuracy: 0.7500\n",
            "Epoch 39/100\n",
            "15/15 [==============================] - 11s 730ms/step - loss: 0.3620 - accuracy: 0.8667 - val_loss: 0.6159 - val_accuracy: 0.7833\n",
            "Epoch 40/100\n",
            "15/15 [==============================] - 10s 700ms/step - loss: 0.3444 - accuracy: 0.8708 - val_loss: 0.5610 - val_accuracy: 0.8333\n",
            "Epoch 41/100\n",
            "15/15 [==============================] - 11s 748ms/step - loss: 0.3593 - accuracy: 0.8646 - val_loss: 0.4858 - val_accuracy: 0.7667\n",
            "Epoch 42/100\n",
            "15/15 [==============================] - 9s 602ms/step - loss: 0.3524 - accuracy: 0.8667 - val_loss: 0.5153 - val_accuracy: 0.8167\n",
            "Epoch 43/100\n",
            "15/15 [==============================] - 10s 670ms/step - loss: 0.3342 - accuracy: 0.8813 - val_loss: 0.5365 - val_accuracy: 0.8167\n",
            "Epoch 44/100\n",
            "15/15 [==============================] - 11s 739ms/step - loss: 0.3435 - accuracy: 0.8854 - val_loss: 0.6883 - val_accuracy: 0.8000\n",
            "Epoch 45/100\n",
            "15/15 [==============================] - 10s 715ms/step - loss: 0.3550 - accuracy: 0.8583 - val_loss: 0.5383 - val_accuracy: 0.8000\n",
            "Epoch 46/100\n",
            "15/15 [==============================] - 9s 617ms/step - loss: 0.2997 - accuracy: 0.8979 - val_loss: 0.5607 - val_accuracy: 0.8500\n",
            "Epoch 47/100\n",
            "15/15 [==============================] - 10s 598ms/step - loss: 0.3062 - accuracy: 0.8938 - val_loss: 0.6966 - val_accuracy: 0.8000\n",
            "Epoch 48/100\n",
            "15/15 [==============================] - 11s 716ms/step - loss: 0.2695 - accuracy: 0.8979 - val_loss: 0.8360 - val_accuracy: 0.8000\n",
            "Epoch 49/100\n",
            "15/15 [==============================] - 11s 743ms/step - loss: 0.2958 - accuracy: 0.9000 - val_loss: 0.7842 - val_accuracy: 0.8333\n",
            "Epoch 50/100\n",
            "15/15 [==============================] - 9s 616ms/step - loss: 0.2869 - accuracy: 0.8979 - val_loss: 0.5919 - val_accuracy: 0.8833\n",
            "Epoch 51/100\n",
            "15/15 [==============================] - 11s 728ms/step - loss: 0.2566 - accuracy: 0.9104 - val_loss: 0.5436 - val_accuracy: 0.8500\n",
            "Epoch 52/100\n",
            "15/15 [==============================] - 10s 682ms/step - loss: 0.3397 - accuracy: 0.8708 - val_loss: 0.6982 - val_accuracy: 0.7833\n",
            "Epoch 53/100\n",
            "15/15 [==============================] - 9s 648ms/step - loss: 0.3067 - accuracy: 0.9000 - val_loss: 0.5632 - val_accuracy: 0.8500\n",
            "Epoch 54/100\n",
            "15/15 [==============================] - 10s 654ms/step - loss: 0.2950 - accuracy: 0.9042 - val_loss: 0.5977 - val_accuracy: 0.8333\n",
            "Epoch 55/100\n",
            "15/15 [==============================] - 10s 689ms/step - loss: 0.2785 - accuracy: 0.8896 - val_loss: 0.5826 - val_accuracy: 0.8167\n",
            "Epoch 56/100\n",
            "15/15 [==============================] - 10s 690ms/step - loss: 0.2621 - accuracy: 0.9229 - val_loss: 0.5450 - val_accuracy: 0.8500\n",
            "Epoch 57/100\n",
            "15/15 [==============================] - 11s 751ms/step - loss: 0.2825 - accuracy: 0.8833 - val_loss: 0.7627 - val_accuracy: 0.8000\n",
            "Epoch 58/100\n",
            "15/15 [==============================] - 9s 600ms/step - loss: 0.2578 - accuracy: 0.8979 - val_loss: 0.7079 - val_accuracy: 0.8333\n",
            "Epoch 59/100\n",
            "15/15 [==============================] - 11s 736ms/step - loss: 0.2778 - accuracy: 0.8917 - val_loss: 0.9503 - val_accuracy: 0.7833\n",
            "Epoch 60/100\n",
            "15/15 [==============================] - 11s 728ms/step - loss: 0.2944 - accuracy: 0.8813 - val_loss: 0.8047 - val_accuracy: 0.8000\n",
            "Epoch 61/100\n",
            "15/15 [==============================] - 11s 723ms/step - loss: 0.2750 - accuracy: 0.8979 - val_loss: 0.6586 - val_accuracy: 0.8667\n",
            "Epoch 62/100\n",
            "15/15 [==============================] - 9s 609ms/step - loss: 0.2935 - accuracy: 0.8938 - val_loss: 0.5579 - val_accuracy: 0.8500\n",
            "Epoch 63/100\n",
            "15/15 [==============================] - 11s 731ms/step - loss: 0.2498 - accuracy: 0.9125 - val_loss: 0.4723 - val_accuracy: 0.8833\n",
            "Epoch 64/100\n",
            "15/15 [==============================] - 11s 720ms/step - loss: 0.2128 - accuracy: 0.9083 - val_loss: 0.5595 - val_accuracy: 0.8333\n",
            "Epoch 65/100\n",
            "15/15 [==============================] - 12s 799ms/step - loss: 0.2448 - accuracy: 0.9083 - val_loss: 0.5793 - val_accuracy: 0.8333\n",
            "Epoch 66/100\n",
            "15/15 [==============================] - 10s 633ms/step - loss: 0.2329 - accuracy: 0.9208 - val_loss: 0.4981 - val_accuracy: 0.8500\n",
            "Epoch 67/100\n",
            "15/15 [==============================] - 10s 651ms/step - loss: 0.2602 - accuracy: 0.8958 - val_loss: 0.6934 - val_accuracy: 0.8500\n",
            "Epoch 68/100\n",
            "15/15 [==============================] - 11s 708ms/step - loss: 0.2642 - accuracy: 0.9000 - val_loss: 0.7148 - val_accuracy: 0.8000\n",
            "Epoch 69/100\n",
            "15/15 [==============================] - 11s 718ms/step - loss: 0.2403 - accuracy: 0.9208 - val_loss: 0.4846 - val_accuracy: 0.8500\n",
            "Epoch 70/100\n",
            "15/15 [==============================] - 10s 655ms/step - loss: 0.1920 - accuracy: 0.9354 - val_loss: 0.4919 - val_accuracy: 0.8333\n",
            "Epoch 71/100\n",
            "15/15 [==============================] - 10s 709ms/step - loss: 0.2022 - accuracy: 0.9187 - val_loss: 0.4486 - val_accuracy: 0.8667\n",
            "Epoch 72/100\n",
            "15/15 [==============================] - 12s 781ms/step - loss: 0.2228 - accuracy: 0.9167 - val_loss: 0.4808 - val_accuracy: 0.8833\n",
            "Epoch 73/100\n",
            "15/15 [==============================] - 11s 687ms/step - loss: 0.3160 - accuracy: 0.8875 - val_loss: 0.9162 - val_accuracy: 0.7667\n",
            "Epoch 74/100\n",
            "15/15 [==============================] - 11s 725ms/step - loss: 0.2795 - accuracy: 0.8917 - val_loss: 0.8308 - val_accuracy: 0.8000\n",
            "Epoch 75/100\n",
            "15/15 [==============================] - 9s 646ms/step - loss: 0.2794 - accuracy: 0.8917 - val_loss: 0.5152 - val_accuracy: 0.8167\n",
            "Epoch 76/100\n",
            "15/15 [==============================] - 10s 636ms/step - loss: 0.1935 - accuracy: 0.9333 - val_loss: 0.4963 - val_accuracy: 0.8500\n",
            "Epoch 77/100\n",
            "15/15 [==============================] - 11s 712ms/step - loss: 0.1823 - accuracy: 0.9354 - val_loss: 0.5896 - val_accuracy: 0.8167\n",
            "Epoch 78/100\n",
            "15/15 [==============================] - 11s 721ms/step - loss: 0.1804 - accuracy: 0.9250 - val_loss: 0.6412 - val_accuracy: 0.8167\n",
            "Epoch 79/100\n",
            "15/15 [==============================] - 10s 658ms/step - loss: 0.1674 - accuracy: 0.9438 - val_loss: 0.8023 - val_accuracy: 0.8000\n",
            "Epoch 80/100\n",
            "15/15 [==============================] - 10s 639ms/step - loss: 0.1888 - accuracy: 0.9292 - val_loss: 0.6423 - val_accuracy: 0.8333\n",
            "Epoch 81/100\n",
            "15/15 [==============================] - 10s 698ms/step - loss: 0.1679 - accuracy: 0.9292 - val_loss: 0.4914 - val_accuracy: 0.8500\n",
            "Epoch 82/100\n",
            "15/15 [==============================] - 10s 700ms/step - loss: 0.1649 - accuracy: 0.9563 - val_loss: 0.7348 - val_accuracy: 0.8333\n",
            "Epoch 83/100\n",
            "15/15 [==============================] - 9s 638ms/step - loss: 0.2128 - accuracy: 0.9042 - val_loss: 0.7895 - val_accuracy: 0.8000\n",
            "Epoch 84/100\n",
            "15/15 [==============================] - 10s 605ms/step - loss: 0.2319 - accuracy: 0.9062 - val_loss: 0.5260 - val_accuracy: 0.8667\n",
            "Epoch 85/100\n",
            "15/15 [==============================] - 11s 731ms/step - loss: 0.2273 - accuracy: 0.9208 - val_loss: 0.5913 - val_accuracy: 0.8667\n",
            "Epoch 86/100\n",
            "15/15 [==============================] - 11s 714ms/step - loss: 0.1733 - accuracy: 0.9479 - val_loss: 0.8350 - val_accuracy: 0.8500\n",
            "Epoch 87/100\n",
            "15/15 [==============================] - 10s 665ms/step - loss: 0.2307 - accuracy: 0.9292 - val_loss: 0.7066 - val_accuracy: 0.8500\n",
            "Epoch 88/100\n",
            "15/15 [==============================] - 10s 669ms/step - loss: 0.2447 - accuracy: 0.9062 - val_loss: 0.6340 - val_accuracy: 0.8500\n",
            "Epoch 89/100\n",
            "15/15 [==============================] - 11s 689ms/step - loss: 0.1667 - accuracy: 0.9312 - val_loss: 0.6646 - val_accuracy: 0.8500\n",
            "Epoch 90/100\n",
            "15/15 [==============================] - 11s 710ms/step - loss: 0.1921 - accuracy: 0.9354 - val_loss: 0.6846 - val_accuracy: 0.8333\n",
            "Epoch 91/100\n",
            "15/15 [==============================] - 9s 647ms/step - loss: 0.2865 - accuracy: 0.8896 - val_loss: 0.5932 - val_accuracy: 0.8333\n",
            "Epoch 92/100\n",
            "15/15 [==============================] - 10s 661ms/step - loss: 0.2256 - accuracy: 0.9167 - val_loss: 0.5045 - val_accuracy: 0.8333\n",
            "Epoch 93/100\n",
            "15/15 [==============================] - 11s 719ms/step - loss: 0.2081 - accuracy: 0.9229 - val_loss: 0.6014 - val_accuracy: 0.8667\n",
            "Epoch 94/100\n",
            "15/15 [==============================] - 11s 716ms/step - loss: 0.2176 - accuracy: 0.9208 - val_loss: 0.4970 - val_accuracy: 0.8333\n",
            "Epoch 95/100\n",
            "15/15 [==============================] - 9s 599ms/step - loss: 0.1931 - accuracy: 0.9396 - val_loss: 0.5623 - val_accuracy: 0.8167\n",
            "Epoch 96/100\n",
            "15/15 [==============================] - 10s 658ms/step - loss: 0.1721 - accuracy: 0.9333 - val_loss: 0.7662 - val_accuracy: 0.8167\n",
            "Epoch 97/100\n",
            "15/15 [==============================] - 11s 732ms/step - loss: 0.1859 - accuracy: 0.9292 - val_loss: 0.5214 - val_accuracy: 0.8833\n",
            "Epoch 98/100\n",
            "15/15 [==============================] - 11s 707ms/step - loss: 0.1807 - accuracy: 0.9292 - val_loss: 0.6009 - val_accuracy: 0.8000\n",
            "Epoch 99/100\n",
            "15/15 [==============================] - 10s 640ms/step - loss: 0.1264 - accuracy: 0.9563 - val_loss: 0.6574 - val_accuracy: 0.8500\n",
            "Epoch 100/100\n",
            "15/15 [==============================] - 10s 648ms/step - loss: 0.1563 - accuracy: 0.9542 - val_loss: 0.4975 - val_accuracy: 0.8333\n"
          ]
        }
      ],
      "source": [
        "model.compile(optimizer = \"Adam\",\n",
        "              loss = 'categorical_crossentropy',\n",
        "              metrics=['accuracy'])\n",
        "\n",
        "\n",
        "history = model.fit(train_generator,\n",
        "                    epochs=100,\n",
        "                    verbose=1,\n",
        "                    validation_data=validation_generator,\n",
        "                    callbacks=[callbacks])\n"
      ]
    },
    {
      "cell_type": "markdown",
      "metadata": {
        "id": "mduUTR36b2Lt"
      },
      "source": [
        "**Accuracy Level and Loss Model**"
      ]
    },
    {
      "cell_type": "code",
      "execution_count": null,
      "metadata": {
        "colab": {
          "base_uri": "https://localhost:8080/"
        },
        "id": "JCtDGj1Ea_ax",
        "outputId": "e823dbe5-d17e-48b7-b0d5-3a85206fc0e7"
      },
      "outputs": [
        {
          "name": "stdout",
          "output_type": "stream",
          "text": [
            "2/2 [==============================] - 18s 18s/step - loss: 0.4894 - accuracy: 0.8333\n",
            "Test Loss: 0.4893955588340759\n",
            "Test Accuracy: 0.8333333134651184\n"
          ]
        }
      ],
      "source": [
        "# Evaluasi model pada test set\n",
        "test_loss, test_accuracy = model.evaluate(testing_generator)\n",
        "print('Test Loss:', test_loss)\n",
        "print('Test Accuracy:', test_accuracy)"
      ]
    },
    {
      "cell_type": "markdown",
      "source": [
        "**Visualization : Accuracy Level and Loss Model**"
      ],
      "metadata": {
        "id": "dfCiLZoYbyAs"
      }
    },
    {
      "cell_type": "code",
      "execution_count": null,
      "metadata": {
        "colab": {
          "base_uri": "https://localhost:8080/",
          "height": 452
        },
        "id": "C9TE_vF7b4qq",
        "outputId": "8e1a29e5-e000-4f03-a405-077c4db18df9"
      },
      "outputs": [
        {
          "data": {
            "image/png": "[encoded data removed]",
            "text/plain": [
              "<Figure size 640x480 with 1 Axes>"
            ]
          },
          "metadata": {},
          "output_type": "display_data"
        }
      ],
      "source": [
        "%matplotlib inline\n",
        "\n",
        "import matplotlib.image as mpimg\n",
        "import matplotlib.pyplot as plt\n",
        "\n",
        "acc=history.history[\"accuracy\"]\n",
        "val_acc=history.history[\"val_accuracy\"]\n",
        "loss=history.history[\"loss\"]\n",
        "val_loss=history.history[\"val_loss\"]\n",
        "\n",
        "epochs=range(len(acc))\n",
        "\n",
        "plt.plot(epochs,acc,\"r\",label=\"Training Accuracy\")\n",
        "plt.plot(epochs,val_acc,\"b\",label=\"validation Accuracy\")\n",
        "plt.title(\"training and validation accuracy\")\n",
        "plt.legend(loc=\"best\")\n",
        "plt.show()\n",
        "\n"
      ]
    },
    {
      "cell_type": "code",
      "execution_count": null,
      "metadata": {
        "colab": {
          "base_uri": "https://localhost:8080/",
          "height": 452
        },
        "id": "mUr4vRrnmXEi",
        "outputId": "048a9fc7-2d16-45a3-e269-8f1068248e8c"
      },
      "outputs": [
        {
          "data": {
            "image/png": "[encoded data removed]",
            "text/plain": [
              "<Figure size 640x480 with 1 Axes>"
            ]
          },
          "metadata": {},
          "output_type": "display_data"
        }
      ],
      "source": [
        "plt.plot(epochs,loss,\"r\",label=\"Training loss\")\n",
        "plt.plot(epochs,val_loss,\"b\",label=\"validation loss\")\n",
        "plt.title(\"training and validation loss\")\n",
        "plt.legend(loc=\"best\")\n",
        "plt.show()"
      ]
    },
    {
      "cell_type": "markdown",
      "source": [
        "**Saving the Model with .h5 Format**"
      ],
      "metadata": {
        "id": "AVcZVBeIcIQN"
      }
    },
    {
      "cell_type": "code",
      "execution_count": null,
      "metadata": {
        "id": "DdQs3ieeCOIL"
      },
      "outputs": [],
      "source": [
        "# from tensorflow.keras.models import save_model\n",
        "\n",
        "# # Simpan model ke Google Drive\n",
        "# model_path = '/content/drive/MyDrive/Capstone/MODEL/Model Daily /Model Dailyfix.h5'\n",
        "# save_model(model, model_path)"
      ]
    },
    {
      "cell_type": "markdown",
      "metadata": {
        "id": "tTL_A2sMs1HR"
      },
      "source": [
        "##**Recommendation Closest Nutrition Model**"
      ]
    },
    {
      "cell_type": "code",
      "execution_count": 2,
      "metadata": {
        "id": "zsrmNPOKKTdd"
      },
      "outputs": [],
      "source": [
        "import numpy as np\n",
        "import pandas as pd\n",
        "from keras.preprocessing import image\n",
        "from google.colab import files\n",
        "from tensorflow.python.ops.numpy_ops import np_config\n",
        "from sklearn.model_selection import train_test_split"
      ]
    },
    {
      "cell_type": "code",
      "execution_count": 3,
      "metadata": {
        "colab": {
          "base_uri": "https://localhost:8080/",
          "height": 206
        },
        "id": "w7ppbriIC4pL",
        "outputId": "4651a3dc-791c-4793-8ad4-52832943a746"
      },
      "outputs": [
        {
          "output_type": "execute_result",
          "data": {
            "text/plain": [
              "          Bahan  Kalori  Lemak(g)  Karbohidrat(g)  Protein(g)   Ukuran  \\\n",
              "0    Telur ayam      74      4.97            0.38        6.29  1 butir   \n",
              "1   Telur bebek     130      9.64            1.02        8.97  1 butir   \n",
              "2          Keju     113      9.28            0.36        6.97   1 iris   \n",
              "3  Olahan Susu      122      4.88           11.49        8.03  1 gelas   \n",
              "4  Olahan Susu      143      3.52           15.98       11.92  1 porsi   \n",
              "\n",
              "  Keterangan  \n",
              "0          -  \n",
              "1          -  \n",
              "2          -  \n",
              "3       Susu  \n",
              "4    Yoghurt  "
            ],
            "text/html": [
              "\n",
              "  <div id=\"df-90eaeda2-57c6-4cf8-8f42-1bd47702d38a\">\n",
              "    <div class=\"colab-df-container\">\n",
              "      <div>\n",
              "<style scoped>\n",
              "    .dataframe tbody tr th:only-of-type {\n",
              "        vertical-align: middle;\n",
              "    }\n",
              "\n",
              "    .dataframe tbody tr th {\n",
              "        vertical-align: top;\n",
              "    }\n",
              "\n",
              "    .dataframe thead th {\n",
              "        text-align: right;\n",
              "    }\n",
              "</style>\n",
              "<table border=\"1\" class=\"dataframe\">\n",
              "  <thead>\n",
              "    <tr style=\"text-align: right;\">\n",
              "      <th></th>\n",
              "      <th>Bahan</th>\n",
              "      <th>Kalori</th>\n",
              "      <th>Lemak(g)</th>\n",
              "      <th>Karbohidrat(g)</th>\n",
              "      <th>Protein(g)</th>\n",
              "      <th>Ukuran</th>\n",
              "      <th>Keterangan</th>\n",
              "    </tr>\n",
              "  </thead>\n",
              "  <tbody>\n",
              "    <tr>\n",
              "      <th>0</th>\n",
              "      <td>Telur ayam</td>\n",
              "      <td>74</td>\n",
              "      <td>4.97</td>\n",
              "      <td>0.38</td>\n",
              "      <td>6.29</td>\n",
              "      <td>1 butir</td>\n",
              "      <td>-</td>\n",
              "    </tr>\n",
              "    <tr>\n",
              "      <th>1</th>\n",
              "      <td>Telur bebek</td>\n",
              "      <td>130</td>\n",
              "      <td>9.64</td>\n",
              "      <td>1.02</td>\n",
              "      <td>8.97</td>\n",
              "      <td>1 butir</td>\n",
              "      <td>-</td>\n",
              "    </tr>\n",
              "    <tr>\n",
              "      <th>2</th>\n",
              "      <td>Keju</td>\n",
              "      <td>113</td>\n",
              "      <td>9.28</td>\n",
              "      <td>0.36</td>\n",
              "      <td>6.97</td>\n",
              "      <td>1 iris</td>\n",
              "      <td>-</td>\n",
              "    </tr>\n",
              "    <tr>\n",
              "      <th>3</th>\n",
              "      <td>Olahan Susu</td>\n",
              "      <td>122</td>\n",
              "      <td>4.88</td>\n",
              "      <td>11.49</td>\n",
              "      <td>8.03</td>\n",
              "      <td>1 gelas</td>\n",
              "      <td>Susu</td>\n",
              "    </tr>\n",
              "    <tr>\n",
              "      <th>4</th>\n",
              "      <td>Olahan Susu</td>\n",
              "      <td>143</td>\n",
              "      <td>3.52</td>\n",
              "      <td>15.98</td>\n",
              "      <td>11.92</td>\n",
              "      <td>1 porsi</td>\n",
              "      <td>Yoghurt</td>\n",
              "    </tr>\n",
              "  </tbody>\n",
              "</table>\n",
              "</div>\n",
              "      <button class=\"colab-df-convert\" onclick=\"convertToInteractive('df-90eaeda2-57c6-4cf8-8f42-1bd47702d38a')\"\n",
              "              title=\"Convert this dataframe to an interactive table.\"\n",
              "              style=\"display:none;\">\n",
              "        \n",
              "  <svg xmlns=\"http://www.w3.org/2000/svg\" height=\"24px\"viewBox=\"0 0 24 24\"\n",
              "       width=\"24px\">\n",
              "    <path d=\"M0 0h24v24H0V0z\" fill=\"none\"/>\n",
              "    <path d=\"M18.56 5.44l.94 2.06.94-2.06 2.06-.94-2.06-.94-.94-2.06-.94 2.06-2.06.94zm-11 1L8.5 8.5l.94-2.06 2.06-.94-2.06-.94L8.5 2.5l-.94 2.06-2.06.94zm10 10l.94 2.06.94-2.06 2.06-.94-2.06-.94-.94-2.06-.94 2.06-2.06.94z\"/><path d=\"M17.41 7.96l-1.37-1.37c-.4-.4-.92-.59-1.43-.59-.52 0-1.04.2-1.43.59L10.3 9.45l-7.72 7.72c-.78.78-.78 2.05 0 2.83L4 21.41c.39.39.9.59 1.41.59.51 0 1.02-.2 1.41-.59l7.78-7.78 2.81-2.81c.8-.78.8-2.07 0-2.86zM5.41 20L4 18.59l7.72-7.72 1.47 1.35L5.41 20z\"/>\n",
              "  </svg>\n",
              "      </button>\n",
              "      \n",
              "  <style>\n",
              "    .colab-df-container {\n",
              "      display:flex;\n",
              "      flex-wrap:wrap;\n",
              "      gap: 12px;\n",
              "    }\n",
              "\n",
              "    .colab-df-convert {\n",
              "      background-color: #E8F0FE;\n",
              "      border: none;\n",
              "      border-radius: 50%;\n",
              "      cursor: pointer;\n",
              "      display: none;\n",
              "      fill: #1967D2;\n",
              "      height: 32px;\n",
              "      padding: 0 0 0 0;\n",
              "      width: 32px;\n",
              "    }\n",
              "\n",
              "    .colab-df-convert:hover {\n",
              "      background-color: #E2EBFA;\n",
              "      box-shadow: 0px 1px 2px rgba(60, 64, 67, 0.3), 0px 1px 3px 1px rgba(60, 64, 67, 0.15);\n",
              "      fill: #174EA6;\n",
              "    }\n",
              "\n",
              "    [theme=dark] .colab-df-convert {\n",
              "      background-color: #3B4455;\n",
              "      fill: #D2E3FC;\n",
              "    }\n",
              "\n",
              "    [theme=dark] .colab-df-convert:hover {\n",
              "      background-color: #434B5C;\n",
              "      box-shadow: 0px 1px 3px 1px rgba(0, 0, 0, 0.15);\n",
              "      filter: drop-shadow(0px 1px 2px rgba(0, 0, 0, 0.3));\n",
              "      fill: #FFFFFF;\n",
              "    }\n",
              "  </style>\n",
              "\n",
              "      <script>\n",
              "        const buttonEl =\n",
              "          document.querySelector('#df-90eaeda2-57c6-4cf8-8f42-1bd47702d38a button.colab-df-convert');\n",
              "        buttonEl.style.display =\n",
              "          google.colab.kernel.accessAllowed ? 'block' : 'none';\n",
              "\n",
              "        async function convertToInteractive(key) {\n",
              "          const element = document.querySelector('#df-90eaeda2-57c6-4cf8-8f42-1bd47702d38a');\n",
              "          const dataTable =\n",
              "            await google.colab.kernel.invokeFunction('convertToInteractive',\n",
              "                                                     [key], {});\n",
              "          if (!dataTable) return;\n",
              "\n",
              "          const docLinkHtml = 'Like what you see? Visit the ' +\n",
              "            '<a target=\"_blank\" href=https://colab.research.google.com/notebooks/data_table.ipynb>data table notebook</a>'\n",
              "            + ' to learn more about interactive tables.';\n",
              "          element.innerHTML = '';\n",
              "          dataTable['output_type'] = 'display_data';\n",
              "          await google.colab.output.renderOutput(dataTable, element);\n",
              "          const docLink = document.createElement('div');\n",
              "          docLink.innerHTML = docLinkHtml;\n",
              "          element.appendChild(docLink);\n",
              "        }\n",
              "      </script>\n",
              "    </div>\n",
              "  </div>\n",
              "  "
            ]
          },
          "metadata": {},
          "execution_count": 3
        }
      ],
      "source": [
        "# Membaca data dari file CSV\n",
        "df = pd.read_csv('/content/drive/MyDrive/Capstone/Informasi Gizi/Informasi Gizi Daily Product.csv', sep =  ',')\n",
        "df"
      ]
    },
    {
      "cell_type": "code",
      "source": [
        "# Menghilangkan spasi tambahan di kolom 'Bahan'\n",
        "df['Bahan'] = df['Bahan'].str.strip()"
      ],
      "metadata": {
        "id": "ZBKCRdD6enWT"
      },
      "execution_count": 4,
      "outputs": []
    },
    {
      "cell_type": "code",
      "execution_count": 5,
      "metadata": {
        "id": "ztlzAHitFj-C"
      },
      "outputs": [],
      "source": [
        "# Nama makanan\n",
        "food_names =  df['Bahan'].values\n",
        "#Data Makanan\n",
        "data = df[['Kalori', 'Lemak(g)', 'Karbohidrat(g)', 'Protein(g)']].values"
      ]
    },
    {
      "cell_type": "code",
      "execution_count": 6,
      "metadata": {
        "id": "J49PLY8MFxdv"
      },
      "outputs": [],
      "source": [
        "# Normalisasi data\n",
        "data_norm = (data - np.min(data, axis=0)) / (np.max(data, axis=0) - np.min(data, axis=0))\n",
        "# Membagi data menjadi data pelatihan, validasi, dan uji\n",
        "train_data, test_data, train_labels, test_labels = train_test_split(data_norm, data_norm[:, 0], test_size=0.2, random_state=42)\n",
        "train_data, val_data, train_labels, val_labels = train_test_split(train_data, train_labels, test_size=0.2, random_state=42)"
      ]
    },
    {
      "cell_type": "code",
      "execution_count": null,
      "metadata": {
        "id": "7bAiSqGGGEdJ"
      },
      "outputs": [],
      "source": [
        "# Membangun model TensorFlow\n",
        "modelrekom= tf.keras.Sequential([\n",
        "    tf.keras.layers.Dense(32, activation='relu', input_shape=(4,)),\n",
        "    tf.keras.layers.Dense(16, activation='relu'),\n",
        "    tf.keras.layers.Dense(1)\n",
        "])"
      ]
    },
    {
      "cell_type": "code",
      "execution_count": null,
      "metadata": {
        "id": "hf3UTZNnGMsT"
      },
      "outputs": [],
      "source": [
        "# Kompilasi model\n",
        "modelrekom.compile(optimizer='adam', loss='mean_squared_error')"
      ]
    },
    {
      "cell_type": "code",
      "execution_count": null,
      "metadata": {
        "colab": {
          "base_uri": "https://localhost:8080/"
        },
        "id": "1EBby7K3GOQ5",
        "outputId": "460c84aa-717f-41a3-d23a-b1c5c5ac6b24"
      },
      "outputs": [
        {
          "output_type": "stream",
          "name": "stdout",
          "text": [
            "Epoch 1/50\n",
            "1/1 [==============================] - 0s 111ms/step - loss: 8.7239e-09 - val_loss: 0.1830\n",
            "Epoch 2/50\n",
            "1/1 [==============================] - 0s 87ms/step - loss: 8.0974e-09 - val_loss: 0.1830\n",
            "Epoch 3/50\n",
            "1/1 [==============================] - 0s 86ms/step - loss: 7.5056e-09 - val_loss: 0.1830\n",
            "Epoch 4/50\n",
            "1/1 [==============================] - 0s 75ms/step - loss: 6.9604e-09 - val_loss: 0.1830\n",
            "Epoch 5/50\n",
            "1/1 [==============================] - 0s 47ms/step - loss: 6.4569e-09 - val_loss: 0.1830\n",
            "Epoch 6/50\n",
            "1/1 [==============================] - 0s 53ms/step - loss: 5.9825e-09 - val_loss: 0.1830\n",
            "Epoch 7/50\n",
            "1/1 [==============================] - 0s 78ms/step - loss: 5.5434e-09 - val_loss: 0.1830\n",
            "Epoch 8/50\n",
            "1/1 [==============================] - 0s 50ms/step - loss: 5.1453e-09 - val_loss: 0.1830\n",
            "Epoch 9/50\n",
            "1/1 [==============================] - 0s 68ms/step - loss: 4.7598e-09 - val_loss: 0.1830\n",
            "Epoch 10/50\n",
            "1/1 [==============================] - 0s 111ms/step - loss: 4.4041e-09 - val_loss: 0.1830\n",
            "Epoch 11/50\n",
            "1/1 [==============================] - 0s 127ms/step - loss: 4.0844e-09 - val_loss: 0.1830\n",
            "Epoch 12/50\n",
            "1/1 [==============================] - 0s 108ms/step - loss: 3.7804e-09 - val_loss: 0.1830\n",
            "Epoch 13/50\n",
            "1/1 [==============================] - 0s 122ms/step - loss: 3.4926e-09 - val_loss: 0.1830\n",
            "Epoch 14/50\n",
            "1/1 [==============================] - 0s 126ms/step - loss: 3.2292e-09 - val_loss: 0.1830\n",
            "Epoch 15/50\n",
            "1/1 [==============================] - 0s 67ms/step - loss: 2.9898e-09 - val_loss: 0.1830\n",
            "Epoch 16/50\n",
            "1/1 [==============================] - 0s 90ms/step - loss: 2.7567e-09 - val_loss: 0.1830\n",
            "Epoch 17/50\n",
            "1/1 [==============================] - 0s 69ms/step - loss: 2.5513e-09 - val_loss: 0.1830\n",
            "Epoch 18/50\n",
            "1/1 [==============================] - 0s 33ms/step - loss: 2.3549e-09 - val_loss: 0.1830\n",
            "Epoch 19/50\n",
            "1/1 [==============================] - 0s 32ms/step - loss: 2.1812e-09 - val_loss: 0.1830\n",
            "Epoch 20/50\n",
            "1/1 [==============================] - 0s 31ms/step - loss: 2.0103e-09 - val_loss: 0.1830\n",
            "Epoch 21/50\n",
            "1/1 [==============================] - 0s 43ms/step - loss: 1.8522e-09 - val_loss: 0.1830\n",
            "Epoch 22/50\n",
            "1/1 [==============================] - 0s 52ms/step - loss: 1.7082e-09 - val_loss: 0.1830\n",
            "Epoch 23/50\n",
            "1/1 [==============================] - 0s 34ms/step - loss: 1.5793e-09 - val_loss: 0.1830\n",
            "Epoch 24/50\n",
            "1/1 [==============================] - 0s 35ms/step - loss: 1.4561e-09 - val_loss: 0.1830\n",
            "Epoch 25/50\n",
            "1/1 [==============================] - 0s 38ms/step - loss: 1.3423e-09 - val_loss: 0.1830\n",
            "Epoch 26/50\n",
            "1/1 [==============================] - 0s 30ms/step - loss: 1.2397e-09 - val_loss: 0.1830\n",
            "Epoch 27/50\n",
            "1/1 [==============================] - 0s 32ms/step - loss: 1.1388e-09 - val_loss: 0.1830\n",
            "Epoch 28/50\n",
            "1/1 [==============================] - 0s 33ms/step - loss: 1.0460e-09 - val_loss: 0.1830\n",
            "Epoch 29/50\n",
            "1/1 [==============================] - 0s 32ms/step - loss: 9.6519e-10 - val_loss: 0.1830\n",
            "Epoch 30/50\n",
            "1/1 [==============================] - 0s 36ms/step - loss: 8.8602e-10 - val_loss: 0.1830\n",
            "Epoch 31/50\n",
            "1/1 [==============================] - 0s 33ms/step - loss: 8.1729e-10 - val_loss: 0.1830\n",
            "Epoch 32/50\n",
            "1/1 [==============================] - 0s 34ms/step - loss: 7.4975e-10 - val_loss: 0.1830\n",
            "Epoch 33/50\n",
            "1/1 [==============================] - 0s 37ms/step - loss: 6.9011e-10 - val_loss: 0.1830\n",
            "Epoch 34/50\n",
            "1/1 [==============================] - 0s 33ms/step - loss: 6.3406e-10 - val_loss: 0.1830\n",
            "Epoch 35/50\n",
            "1/1 [==============================] - 0s 33ms/step - loss: 5.8214e-10 - val_loss: 0.1830\n",
            "Epoch 36/50\n",
            "1/1 [==============================] - 0s 51ms/step - loss: 5.3547e-10 - val_loss: 0.1830\n",
            "Epoch 37/50\n",
            "1/1 [==============================] - 0s 35ms/step - loss: 4.8915e-10 - val_loss: 0.1830\n",
            "Epoch 38/50\n",
            "1/1 [==============================] - 0s 33ms/step - loss: 4.5015e-10 - val_loss: 0.1830\n",
            "Epoch 39/50\n",
            "1/1 [==============================] - 0s 33ms/step - loss: 4.1281e-10 - val_loss: 0.1830\n",
            "Epoch 40/50\n",
            "1/1 [==============================] - 0s 32ms/step - loss: 3.7735e-10 - val_loss: 0.1830\n",
            "Epoch 41/50\n",
            "1/1 [==============================] - 0s 34ms/step - loss: 3.4810e-10 - val_loss: 0.1830\n",
            "Epoch 42/50\n",
            "1/1 [==============================] - 0s 32ms/step - loss: 3.1744e-10 - val_loss: 0.1830\n",
            "Epoch 43/50\n",
            "1/1 [==============================] - 0s 34ms/step - loss: 2.9039e-10 - val_loss: 0.1830\n",
            "Epoch 44/50\n",
            "1/1 [==============================] - 0s 34ms/step - loss: 2.6670e-10 - val_loss: 0.1830\n",
            "Epoch 45/50\n",
            "1/1 [==============================] - 0s 34ms/step - loss: 2.4495e-10 - val_loss: 0.1830\n",
            "Epoch 46/50\n",
            "1/1 [==============================] - 0s 41ms/step - loss: 2.2215e-10 - val_loss: 0.1830\n",
            "Epoch 47/50\n",
            "1/1 [==============================] - 0s 38ms/step - loss: 2.0314e-10 - val_loss: 0.1830\n",
            "Epoch 48/50\n",
            "1/1 [==============================] - 0s 36ms/step - loss: 1.8656e-10 - val_loss: 0.1830\n",
            "Epoch 49/50\n",
            "1/1 [==============================] - 0s 35ms/step - loss: 1.6996e-10 - val_loss: 0.1830\n",
            "Epoch 50/50\n",
            "1/1 [==============================] - 0s 35ms/step - loss: 1.5578e-10 - val_loss: 0.1830\n"
          ]
        },
        {
          "output_type": "execute_result",
          "data": {
            "text/plain": [
              "<keras.callbacks.History at 0x7fc26eefa830>"
            ]
          },
          "metadata": {},
          "execution_count": 15
        }
      ],
      "source": [
        "# Melatih model\n",
        "modelrekom.fit(train_data, train_labels, validation_data=(val_data, val_labels), epochs=50, verbose=1)"
      ]
    },
    {
      "cell_type": "code",
      "execution_count": null,
      "metadata": {
        "colab": {
          "base_uri": "https://localhost:8080/"
        },
        "id": "-O5bD3ZyGWNj",
        "outputId": "877156cf-9cf9-4223-b37d-b25d27e45496"
      },
      "outputs": [
        {
          "output_type": "stream",
          "name": "stdout",
          "text": [
            "1/1 [==============================] - 0s 23ms/step - loss: 0.1437\n"
          ]
        }
      ],
      "source": [
        "# Evaluasi model pada data uji\n",
        "loss = modelrekom.evaluate(test_data, test_labels)"
      ]
    },
    {
      "cell_type": "markdown",
      "source": [
        "**Saving Recommendation Model of Daily Food**"
      ],
      "metadata": {
        "id": "_w07D1Znc5XS"
      }
    },
    {
      "cell_type": "code",
      "execution_count": null,
      "metadata": {
        "id": "n0DJAIvwfhgX"
      },
      "outputs": [],
      "source": [
        "# Menggunakan tf.keras.models.save_model()\n",
        "tf.keras.models.save_model(modelrekom, '/content/drive/MyDrive/Capstone/Model Rekomendasi Daily')"
      ]
    },
    {
      "cell_type": "markdown",
      "metadata": {
        "id": "DUF18ElJLBNy"
      },
      "source": [
        "##**Prediction and Recommendation**"
      ]
    },
    {
      "cell_type": "markdown",
      "source": [
        "**Image Predictions and Nutrient Information**"
      ],
      "metadata": {
        "id": "azYiea1idbKO"
      }
    },
    {
      "cell_type": "markdown",
      "source": [
        "Image predictions and nutrient information go hand in hand to provide valuable insights into our food choices. By leveraging computer vision and machine learning algorithms, image predictions can analyze food images and identify the types of food present. This enables the automatic recognition and categorization of various dishes, ingredients, and portion sizes. Once the food is identified, nutrient information can be retrieved from databases or APIs to obtain detailed nutritional data such as calories, protein, carbohydrates, and fats. This combined approach empowers individuals to make informed decisions about their meals, allowing them to track and monitor their nutrient intake more accurately. It can be particularly helpful for individuals with specific dietary needs, such as those following specific diets or managing certain health conditions, by providing immediate feedback and guidance on the nutritional content of their food choices."
      ],
      "metadata": {
        "id": "7hhpsYWlSIXc"
      }
    },
    {
      "cell_type": "code",
      "source": [
        "import numpy as np\n",
        "import matplotlib\n",
        "import matplotlib.pyplot as plt\n",
        "from keras.preprocessing import image\n",
        "from tensorflow.keras.preprocessing.image import img_to_array, load_img\n",
        "from tensorflow.keras.applications.efficientnet import preprocess_input\n",
        "import tensorflow as tf\n",
        "from PIL import Image\n",
        "import os"
      ],
      "metadata": {
        "id": "Q_jnhn7HgIo2"
      },
      "execution_count": 7,
      "outputs": []
    },
    {
      "cell_type": "code",
      "source": [
        "#MODEL KLASIFIKASI\n",
        "modell = tf.keras.models.load_model('/content/drive/MyDrive/Capstone/MODEL/Model Dailyfix.h5')"
      ],
      "metadata": {
        "id": "NvSh49XVfzVX"
      },
      "execution_count": 8,
      "outputs": []
    },
    {
      "cell_type": "code",
      "execution_count": 10,
      "metadata": {
        "id": "rIclQjsys3Ya",
        "colab": {
          "base_uri": "https://localhost:8080/",
          "height": 508
        },
        "outputId": "70a4537f-b633-488c-a29f-8b04a65d4053"
      },
      "outputs": [
        {
          "output_type": "display_data",
          "data": {
            "text/plain": [
              "<IPython.core.display.HTML object>"
            ],
            "text/html": [
              "\n",
              "     <input type=\"file\" id=\"files-eae8fc34-3a25-4f48-be2e-55aeb8e34a16\" name=\"files[]\" multiple disabled\n",
              "        style=\"border:none\" />\n",
              "     <output id=\"result-eae8fc34-3a25-4f48-be2e-55aeb8e34a16\">\n",
              "      Upload widget is only available when the cell has been executed in the\n",
              "      current browser session. Please rerun this cell to enable.\n",
              "      </output>\n",
              "      <script>// Copyright 2017 Google LLC\n",
              "//\n",
              "// Licensed under the Apache License, Version 2.0 (the \"License\");\n",
              "// you may not use this file except in compliance with the License.\n",
              "// You may obtain a copy of the License at\n",
              "//\n",
              "//      http://www.apache.org/licenses/LICENSE-2.0\n",
              "//\n",
              "// Unless required by applicable law or agreed to in writing, software\n",
              "// distributed under the License is distributed on an \"AS IS\" BASIS,\n",
              "// WITHOUT WARRANTIES OR CONDITIONS OF ANY KIND, either express or implied.\n",
              "// See the License for the specific language governing permissions and\n",
              "// limitations under the License.\n",
              "\n",
              "/**\n",
              " * @fileoverview Helpers for google.colab Python module.\n",
              " */\n",
              "(function(scope) {\n",
              "function span(text, styleAttributes = {}) {\n",
              "  const element = document.createElement('span');\n",
              "  element.textContent = text;\n",
              "  for (const key of Object.keys(styleAttributes)) {\n",
              "    element.style[key] = styleAttributes[key];\n",
              "  }\n",
              "  return element;\n",
              "}\n",
              "\n",
              "// Max number of bytes which will be uploaded at a time.\n",
              "const MAX_PAYLOAD_SIZE = 100 * 1024;\n",
              "\n",
              "function _uploadFiles(inputId, outputId) {\n",
              "  const steps = uploadFilesStep(inputId, outputId);\n",
              "  const outputElement = document.getElementById(outputId);\n",
              "  // Cache steps on the outputElement to make it available for the next call\n",
              "  // to uploadFilesContinue from Python.\n",
              "  outputElement.steps = steps;\n",
              "\n",
              "  return _uploadFilesContinue(outputId);\n",
              "}\n",
              "\n",
              "// This is roughly an async generator (not supported in the browser yet),\n",
              "// where there are multiple asynchronous steps and the Python side is going\n",
              "// to poll for completion of each step.\n",
              "// This uses a Promise to block the python side on completion of each step,\n",
              "// then passes the result of the previous step as the input to the next step.\n",
              "function _uploadFilesContinue(outputId) {\n",
              "  const outputElement = document.getElementById(outputId);\n",
              "  const steps = outputElement.steps;\n",
              "\n",
              "  const next = steps.next(outputElement.lastPromiseValue);\n",
              "  return Promise.resolve(next.value.promise).then((value) => {\n",
              "    // Cache the last promise value to make it available to the next\n",
              "    // step of the generator.\n",
              "    outputElement.lastPromiseValue = value;\n",
              "    return next.value.response;\n",
              "  });\n",
              "}\n",
              "\n",
              "/**\n",
              " * Generator function which is called between each async step of the upload\n",
              " * process.\n",
              " * @param {string} inputId Element ID of the input file picker element.\n",
              " * @param {string} outputId Element ID of the output display.\n",
              " * @return {!Iterable<!Object>} Iterable of next steps.\n",
              " */\n",
              "function* uploadFilesStep(inputId, outputId) {\n",
              "  const inputElement = document.getElementById(inputId);\n",
              "  inputElement.disabled = false;\n",
              "\n",
              "  const outputElement = document.getElementById(outputId);\n",
              "  outputElement.innerHTML = '';\n",
              "\n",
              "  const pickedPromise = new Promise((resolve) => {\n",
              "    inputElement.addEventListener('change', (e) => {\n",
              "      resolve(e.target.files);\n",
              "    });\n",
              "  });\n",
              "\n",
              "  const cancel = document.createElement('button');\n",
              "  inputElement.parentElement.appendChild(cancel);\n",
              "  cancel.textContent = 'Cancel upload';\n",
              "  const cancelPromise = new Promise((resolve) => {\n",
              "    cancel.onclick = () => {\n",
              "      resolve(null);\n",
              "    };\n",
              "  });\n",
              "\n",
              "  // Wait for the user to pick the files.\n",
              "  const files = yield {\n",
              "    promise: Promise.race([pickedPromise, cancelPromise]),\n",
              "    response: {\n",
              "      action: 'starting',\n",
              "    }\n",
              "  };\n",
              "\n",
              "  cancel.remove();\n",
              "\n",
              "  // Disable the input element since further picks are not allowed.\n",
              "  inputElement.disabled = true;\n",
              "\n",
              "  if (!files) {\n",
              "    return {\n",
              "      response: {\n",
              "        action: 'complete',\n",
              "      }\n",
              "    };\n",
              "  }\n",
              "\n",
              "  for (const file of files) {\n",
              "    const li = document.createElement('li');\n",
              "    li.append(span(file.name, {fontWeight: 'bold'}));\n",
              "    li.append(span(\n",
              "        `(${file.type || 'n/a'}) - ${file.size} bytes, ` +\n",
              "        `last modified: ${\n",
              "            file.lastModifiedDate ? file.lastModifiedDate.toLocaleDateString() :\n",
              "                                    'n/a'} - `));\n",
              "    const percent = span('0% done');\n",
              "    li.appendChild(percent);\n",
              "\n",
              "    outputElement.appendChild(li);\n",
              "\n",
              "    const fileDataPromise = new Promise((resolve) => {\n",
              "      const reader = new FileReader();\n",
              "      reader.onload = (e) => {\n",
              "        resolve(e.target.result);\n",
              "      };\n",
              "      reader.readAsArrayBuffer(file);\n",
              "    });\n",
              "    // Wait for the data to be ready.\n",
              "    let fileData = yield {\n",
              "      promise: fileDataPromise,\n",
              "      response: {\n",
              "        action: 'continue',\n",
              "      }\n",
              "    };\n",
              "\n",
              "    // Use a chunked sending to avoid message size limits. See b/62115660.\n",
              "    let position = 0;\n",
              "    do {\n",
              "      const length = Math.min(fileData.byteLength - position, MAX_PAYLOAD_SIZE);\n",
              "      const chunk = new Uint8Array(fileData, position, length);\n",
              "      position += length;\n",
              "\n",
              "      const base64 = btoa(String.fromCharCode.apply(null, chunk));\n",
              "      yield {\n",
              "        response: {\n",
              "          action: 'append',\n",
              "          file: file.name,\n",
              "          data: base64,\n",
              "        },\n",
              "      };\n",
              "\n",
              "      let percentDone = fileData.byteLength === 0 ?\n",
              "          100 :\n",
              "          Math.round((position / fileData.byteLength) * 100);\n",
              "      percent.textContent = `${percentDone}% done`;\n",
              "\n",
              "    } while (position < fileData.byteLength);\n",
              "  }\n",
              "\n",
              "  // All done.\n",
              "  yield {\n",
              "    response: {\n",
              "      action: 'complete',\n",
              "    }\n",
              "  };\n",
              "}\n",
              "\n",
              "scope.google = scope.google || {};\n",
              "scope.google.colab = scope.google.colab || {};\n",
              "scope.google.colab._files = {\n",
              "  _uploadFiles,\n",
              "  _uploadFilesContinue,\n",
              "};\n",
              "})(self);\n",
              "</script> "
            ]
          },
          "metadata": {}
        },
        {
          "output_type": "stream",
          "name": "stdout",
          "text": [
            "Saving jdk.jpg to jdk.jpg\n",
            "Predicted class: Olahan Susu\n",
            "Nutrient Information:\n",
            " Kalori  Lemak(g)  Karbohidrat(g)  Protein(g)  Ukuran Keterangan\n",
            "    122      4.88           11.49        8.03 1 gelas       Susu\n",
            "    143      3.52           15.98       11.92 1 porsi    Yoghurt\n"
          ]
        },
        {
          "output_type": "display_data",
          "data": {
            "text/plain": [
              "<Figure size 640x480 with 1 Axes>"
            ],
            "image/png": "[encoded data removed]"
          },
          "metadata": {}
        }
      ],
      "source": [
        "from google.colab import files\n",
        "from keras.preprocessing import image\n",
        "from tensorflow.python.ops.numpy_ops import np_config\n",
        "# Mengunggah gambar dari sistem lokal\n",
        "uploaded = files.upload()\n",
        "\n",
        "\n",
        "# Mengambil path gambar yang diunggah\n",
        "image_path = list(uploaded.keys())[0]\n",
        "\n",
        "# Memuat model yang telah dilatih\n",
        "model = modell\n",
        "# Daftar nama kelas yang sesuai dengan model Anda\n",
        "class_names = ['Keju', 'Olahan Susu', 'Telur ayam','Telur bebek']\n",
        "\n",
        "# Membaca dan mempersiapkan gambar untuk prediksi\n",
        "img = tf.keras.utils.load_img(image_path, target_size=(150, 150))\n",
        "x = tf.keras.utils.img_to_array(img)\n",
        "x = np.expand_dims(x, axis=0)\n",
        "x = x / 255.0\n",
        "\n",
        "# Mengubah gambar menjadi tensor\n",
        "x = tf.convert_to_tensor(x, dtype=tf.float32)\n",
        "\n",
        "# Melakukan prediksi\n",
        "predictions = model(x)\n",
        "predicted_class_index = tf.argmax(predictions[0]).numpy()\n",
        "predicted_class = class_names[predicted_class_index]\n",
        "\n",
        "# Mengambil informasi nutrisi berdasarkan kelas prediksi\n",
        "predicted_class = class_names[predicted_class_index]\n",
        "nutrient_info = df.loc[df['Bahan'] == predicted_class, ['Kalori', 'Lemak(g)', 'Karbohidrat(g)', 'Protein(g)','Ukuran','Keterangan']]\n",
        "\n",
        "# Menampilkan hasil prediksi\n",
        "print('Predicted class:', predicted_class)\n",
        "\n",
        "# Menampilkan informasi nutrisi tanpa indeks\n",
        "print(\"Nutrient Information:\")\n",
        "print(nutrient_info.to_string(index=False))\n",
        "\n",
        "# Menampilkan gambar\n",
        "img = tf.keras.utils.load_img(image_path)\n",
        "plt.imshow(img)\n",
        "plt.axis('off')\n",
        "plt.show()"
      ]
    },
    {
      "cell_type": "markdown",
      "metadata": {
        "id": "LEpi4cKOLP2a"
      },
      "source": [
        "**Closest Nutritions Recommendation**"
      ]
    },
    {
      "cell_type": "markdown",
      "source": [
        "Recommendation for finding the closest nutrition involves utilizing tools such as nutrition databases or mobile applications specifically designed for tracking food intake. These resources enable users to search for specific food items and retrieve detailed nutritional information. By inputting the desired food item, users can obtain data calories, protein, carbohydrates, and fats."
      ],
      "metadata": {
        "id": "0ENknlkiTFhl"
      }
    },
    {
      "cell_type": "code",
      "source": [
        "#MODEL REKOMENDASI\n",
        "modelrekom = tf.keras.models.load_model('/content/drive/MyDrive/Capstone/MODEL/Model Rekomendasi Daily.h5')"
      ],
      "metadata": {
        "id": "XPcg7rGeeWLa"
      },
      "execution_count": 11,
      "outputs": []
    },
    {
      "cell_type": "code",
      "source": [
        "# Nama makanan\n",
        "food_names =  df['Bahan'].values\n",
        "#Data Makanan\n",
        "data = df[['Kalori', 'Lemak(g)', 'Karbohidrat(g)', 'Protein(g)']].values"
      ],
      "metadata": {
        "id": "H7kMeYqkZZG0"
      },
      "execution_count": 12,
      "outputs": []
    },
    {
      "cell_type": "code",
      "source": [
        "# Rata - Rata Informasi Gizi Dari Gambar Yang Diprediksi\n",
        "detected_nutrients = nutrient_info[['Kalori', 'Lemak(g)', 'Karbohidrat(g)', 'Protein(g)']]\n",
        "mean_nutrients = detected_nutrients.mean(numeric_only=True)\n",
        "print(mean_nutrients)"
      ],
      "metadata": {
        "colab": {
          "base_uri": "https://localhost:8080/"
        },
        "id": "VYl28j3nT7j4",
        "outputId": "7070b192-f635-4912-9a35-9f73f4cd0409"
      },
      "execution_count": 13,
      "outputs": [
        {
          "output_type": "stream",
          "name": "stdout",
          "text": [
            "Kalori            132.500\n",
            "Lemak(g)            4.200\n",
            "Karbohidrat(g)     13.735\n",
            "Protein(g)          9.975\n",
            "dtype: float64\n"
          ]
        }
      ]
    },
    {
      "cell_type": "code",
      "source": [
        "# Normalisasi nutrisi yang dideteksi\n",
        "detected_object = mean_nutrients.values\n",
        "detected_object_norm = (detected_object - np.min(data, axis=0)) / (np.max(data, axis=0) - np.min(data, axis=0))\n",
        "predicted_calories = modelrekom.predict(np.expand_dims(detected_object_norm, axis=0))\n",
        "predicted_calories = predicted_calories * (np.max(data, axis=0)[0] - np.min(data, axis=0)[0]) + np.min(data, axis=0)[0]\n",
        "predicted_calories = np.squeeze(predicted_calories)"
      ],
      "metadata": {
        "colab": {
          "base_uri": "https://localhost:8080/"
        },
        "id": "bgZhZHV8T18E",
        "outputId": "73698527-b0fc-4a96-b7e9-ffd04672247f"
      },
      "execution_count": 14,
      "outputs": [
        {
          "output_type": "stream",
          "name": "stdout",
          "text": [
            "1/1 [==============================] - 0s 135ms/step\n"
          ]
        }
      ]
    },
    {
      "cell_type": "code",
      "source": [
        "# Mencari 3 makanan dengan kalori terdekat\n",
        "min_calories_diffs = []\n",
        "recommended_foods = []\n",
        "recommended_sizes = []\n",
        "\n",
        "for i in range(len(data)):\n",
        "    calories_diff = abs(predicted_calories - data[i][0])\n",
        "    if food_names[i] == predicted_class:\n",
        "        continue\n",
        "    if len(min_calories_diffs) < 3:\n",
        "        if food_names[i] not in recommended_foods:\n",
        "            min_calories_diffs.append(calories_diff)\n",
        "            recommended_foods.append(food_names[i])\n",
        "            recommended_sizes.append(df.loc[i, 'Ukuran'])\n",
        "    else:\n",
        "        max_diff_index = np.argmax(min_calories_diffs)\n",
        "        if calories_diff < min_calories_diffs[max_diff_index]:\n",
        "            if food_names[i] not in recommended_foods:\n",
        "                min_calories_diffs[max_diff_index] = calories_diff\n",
        "                recommended_foods[max_diff_index] = food_names[i]\n",
        "                recommended_sizes[max_diff_index] = df.loc[i, 'Ukuran']\n",
        "\n",
        "# Membuat list untuk menyimpan informasi nutrisi rekomendasi makanan\n",
        "recommended_nutrients = []\n",
        "\n",
        "# Menampilkan rekomendasi makanan dengan informasi nutrisi terdekat\n",
        "print(\"Rekomendasi Makanan dengan Informasi Gizi Terdekat:\")\n",
        "for i in range(len(recommended_foods)):\n",
        "    food_index = np.where(food_names == recommended_foods[i])[0][0]\n",
        "    food_nutrients = df.loc[food_index, ['Kalori', 'Lemak(g)', 'Karbohidrat(g)', 'Protein(g)']]\n",
        "    recommended_nutrients.append(food_nutrients)\n",
        "\n",
        "    print(\"- \", recommended_foods[i], \"(\", recommended_sizes[i], \")\")\n",
        "    print(\"   Jumlah Kalori:\", food_nutrients['Kalori'], \"kalori\")\n",
        "    print(\"   Karbohidrat:\", food_nutrients['Karbohidrat(g)'], \"g\")\n",
        "    print(\"   Lemak:\", food_nutrients['Lemak(g)'], \"g\")\n",
        "    print(\"   Protein:\", food_nutrients['Protein(g)'], \"g\")\n",
        "    print()"
      ],
      "metadata": {
        "id": "JSgL0QY1e5he",
        "colab": {
          "base_uri": "https://localhost:8080/"
        },
        "outputId": "4ce1dc60-7112-45da-b877-8cb01798e827"
      },
      "execution_count": 15,
      "outputs": [
        {
          "output_type": "stream",
          "name": "stdout",
          "text": [
            "Rekomendasi Makanan dengan Informasi Gizi Terdekat:\n",
            "-  Telur ayam ( 1 butir )\n",
            "   Jumlah Kalori: 74 kalori\n",
            "   Karbohidrat: 0.38 g\n",
            "   Lemak: 4.97 g\n",
            "   Protein: 6.29 g\n",
            "\n",
            "-  Telur bebek ( 1 butir )\n",
            "   Jumlah Kalori: 130 kalori\n",
            "   Karbohidrat: 1.02 g\n",
            "   Lemak: 9.64 g\n",
            "   Protein: 8.97 g\n",
            "\n",
            "-  Keju ( 1 iris )\n",
            "   Jumlah Kalori: 113 kalori\n",
            "   Karbohidrat: 0.36 g\n",
            "   Lemak: 9.28 g\n",
            "   Protein: 6.97 g\n",
            "\n"
          ]
        }
      ]
    },
    {
      "cell_type": "markdown",
      "source": [
        "##**Recipes Recommendation**"
      ],
      "metadata": {
        "id": "vPbUeBJ9J5Qs"
      }
    },
    {
      "cell_type": "markdown",
      "source": [
        "Image predictions and recipe recommendations are powerful tools to enhance our\n",
        "culinary experiences. With image predictions, we can capture or upload a photo of a ingredients and receive automated identification of the what does that thing can be."
      ],
      "metadata": {
        "id": "OxSE5FOXJ5_F"
      }
    },
    {
      "cell_type": "code",
      "source": [
        "import csv\n",
        "# Load the recipe data from the CSV file\n",
        "recipe_data = []\n",
        "with open('/content/drive/MyDrive/Capstone/DATA RESEP/Resep - Daily Product.csv', 'r') as csvfile:\n",
        "    reader = csv.DictReader(csvfile)\n",
        "    for row in reader:\n",
        "        kategori = row['Bahan']\n",
        "        recipe_name = row['Nama Resep']\n",
        "        bahan = row['Bahan yang dibutuhkan']\n",
        "        cara_membuat = row['Cara Membuat']\n",
        "        kalori = row['Kalori']\n",
        "        recipe_data.append({\n",
        "            'Bahan' : kategori,\n",
        "            'Nama Resep': recipe_name,\n",
        "            'Bahan yang dibutuhkan': bahan,\n",
        "            'Cara Membuat': cara_membuat,\n",
        "            'Kalori': kalori\n",
        "        })\n"
      ],
      "metadata": {
        "id": "mf_qIEfWJ_B3"
      },
      "execution_count": 16,
      "outputs": []
    },
    {
      "cell_type": "code",
      "source": [
        "# Find the recommended recipes based on the predicted class\n",
        "recommended_recipes = []\n",
        "for data in recipe_data:\n",
        "    if predicted_class == data['Bahan']:\n",
        "        recommended_recipes.append(data)\n",
        "\n",
        "# Display the details of each recommended recipe\n",
        "for i, recipe in enumerate(recommended_recipes):\n",
        "    print(f\"\\nRecipe {i+1}: {recipe['Nama Resep']}\\n\")\n",
        "\n",
        "    print(\"Bahan Bahan:\")\n",
        "    ingredients = recipe['Bahan yang dibutuhkan'].split(';')\n",
        "    for ingredient in ingredients:\n",
        "        print(ingredient.strip())\n",
        "    print()\n",
        "\n",
        "    print(\"Cara Membuat:\")\n",
        "    steps = recipe['Cara Membuat'].split(';')\n",
        "    for step in steps:\n",
        "        print(step.strip())\n",
        "    print()\n",
        "\n",
        "    print(\"Kalori:\")\n",
        "    print(recipe['Kalori'])\n",
        "    print()\n"
      ],
      "metadata": {
        "colab": {
          "base_uri": "https://localhost:8080/"
        },
        "id": "LpVss8t9JxvN",
        "outputId": "431bd255-07a7-4916-8a48-6e8aae66c471"
      },
      "execution_count": 17,
      "outputs": [
        {
          "output_type": "stream",
          "name": "stdout",
          "text": [
            "\n",
            "Recipe 1: Milk Tea Chiffon\n",
            "\n",
            "Bahan Bahan:\n",
            "15 g tepung pati jagung\n",
            "80 ml susu UHT full cream\n",
            "5 besar telur\n",
            "60 gram minyak sayur canola\n",
            "95 gram gula pasir\n",
            "120 gram tepung terigu putih (semua keperluan)\n",
            "\n",
            "Cara Membuat:\n",
            "1. Mixer putih telur.\n",
            "2. Campur kuning telur dan bahan lainnya.\n",
            "3. Oven selama 1 jam dengan panas 160°c.\n",
            "\n",
            "Kalori:\n",
            "per porsi - Kalori: 138kkal | Lemak: 6,77g | Karb: 15,75g | Prot: 3,53g\n",
            "\n",
            "\n",
            "Recipe 2: Sup Labu Energi\n",
            "\n",
            "Bahan Bahan:\n",
            "1 gelas susu tanpa lemak\n",
            "500 gram labu kuning\n",
            "10 gram tepung\n",
            "\n",
            "Cara Membuat:\n",
            "1. Potong labu hingga berbentuk bulan sabit seperti semangka potong, kulit dan biji jangan dulu dikupas. Kukus hingga setengah matang +/- 10 menit. Tujuan agar labu cukup empuk untuk diblender.\n",
            "2. Keluarkan labu dari kukusan biarkan sebentar agar dingin. Lalu kupas kulit dan buang bijinya. Potong dadu dan blender (bisa ditambah air secukupnya).\n",
            "3. Labu yang sudah diblender, lalu tuang ke panci. Lalu masak dengan api kecil-sedang. Perlahan tambahkan susu (kekentalan tergantung selera). Terus tambahkan 1 sdm tepung maizena untuk mengentalkan sup. Penyajian bisa dimakan selagi hangat atau dingin (simpan di kulkas dulu).\n",
            "\n",
            "Kalori:\n",
            "per porsi - Kalori: 249kkal | Lemak: 0,80g | Karb: 52,28g | Prot: 14,29g\n",
            "\n",
            "\n",
            "Recipe 3: Pancake Pisang\n",
            "\n",
            "Bahan Bahan:\n",
            "80 ml susu skim\n",
            "140 gram pisang\n",
            "1/2 sdt gula pasir\n",
            "50 gram tepung terigu putih (semua keperluan)\n",
            "\n",
            "Cara Membuat:\n",
            "1. Haluskan pisang, lalu campur dengan terigu. Aduk rata.\n",
            "2. Tambahkan gula dan susu secara bertahap sambil diaduk hingga rata.\n",
            "3. Panaskan wajan antilengket, tuang satu sendok sayur adonan.\n",
            "4. Apabila sudah muncul gelembung, balik adonan pancake. Tunggu hingga kedua sisi matang.\n",
            "5. Sajikan hangat, boleh ditambah madu atau topping sesuai selera.\n",
            "\n",
            "Kalori:\n",
            "per porsi - Kalori: 51kkal | Lemak: 0,33g | Karb: 10,89g | Prot: 1,35g\n",
            "\n"
          ]
        }
      ]
    }
  ],
  "metadata": {
    "accelerator": "GPU",
    "colab": {
      "provenance": []
    },
    "kernelspec": {
      "display_name": "Python 3",
      "name": "python3"
    },
    "language_info": {
      "name": "python"
    }
  },
  "nbformat": 4,
  "nbformat_minor": 0
}